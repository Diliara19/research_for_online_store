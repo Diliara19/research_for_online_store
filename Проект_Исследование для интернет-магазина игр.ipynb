{
 "cells": [
  {
   "cell_type": "markdown",
   "metadata": {},
   "source": [
    "**ПРОЕКТ. ИССЛЕДОВАНИЕ ДЛЯ ИНТЕРНЕТ-МАГАЗИНА КОМПЬЮТЕРНЫХ ИГР \"СТРИМЧИК\"**"
   ]
  },
  {
   "cell_type": "markdown",
   "metadata": {},
   "source": [
    "**Цель данного проекта** - определить критерии успешности компьютерных игр на 2017 год на основе данных до 2016г.\n",
    "Результаты проведенной работы должны помочь интернет-магазину определить потенциально популярный продукт и запланировать рекламные компании на следующий год."
   ]
  },
  {
   "cell_type": "markdown",
   "metadata": {},
   "source": [
    "**Задачи исследования**\n",
    "1. Изучить состав и структуру данных в полученной таблице.\n",
    "2. Обработать данные: заполнить пропуски, выявить и убрать дубликаты и пр.\n",
    "3. Провести исследовательский анализ данных, в т.ч. определить актуальный период данных для дальнейшего анализа. \n",
    "4. Составить портрет пользователя для каждого региона.\n",
    "5. Сформулировать и проверить гипотезы."
   ]
  },
  {
   "cell_type": "markdown",
   "metadata": {},
   "source": [
    "**Исходные данные**\n",
    "\n",
    "Нами получены данные по продаже компьютерных игр до 2016 года в файле в формате csv. \n",
    "Исторические данные о продажах игр, оценках пользователей и экспертов, жанрах и платформах получены из открытых источников.  "
   ]
  },
  {
   "cell_type": "markdown",
   "metadata": {},
   "source": [
    "______\n",
    "**ОГЛАВЛЕНИЕ**<a id='content'></a>\n",
    "\n",
    "[1. Обработка данных](#1-bullet)\n",
    "\n",
    "[2. Исследовательский анализ данных](#2-bullet)\n",
    "\n",
    "[3. Составление Портрета пользователя для каждого региона](#3-bullet)\n",
    "\n",
    "[4. Проверка гипотез](#4-bullet)\n",
    "\n",
    "[5. Общие выводы](#5-bullet)"
   ]
  },
  {
   "cell_type": "markdown",
   "metadata": {},
   "source": [
    "**ОБРАБОТКА ДАННЫХ**<a id='1-bullet'></a>"
   ]
  },
  {
   "cell_type": "code",
   "execution_count": 1,
   "metadata": {},
   "outputs": [],
   "source": [
    "import pandas as pd\n",
    "import numpy as np\n",
    "import seaborn as sns\n",
    "import matplotlib.pyplot as plt\n",
    "from scipy import stats as st"
   ]
  },
  {
   "cell_type": "code",
   "execution_count": 2,
   "metadata": {},
   "outputs": [
    {
     "name": "stdout",
     "output_type": "stream",
     "text": [
      "                       Name Platform  Year_of_Release         Genre  NA_sales  \\\n",
      "0                Wii Sports      Wii           2006.0        Sports     41.36   \n",
      "1         Super Mario Bros.      NES           1985.0      Platform     29.08   \n",
      "2            Mario Kart Wii      Wii           2008.0        Racing     15.68   \n",
      "3         Wii Sports Resort      Wii           2009.0        Sports     15.61   \n",
      "4  Pokemon Red/Pokemon Blue       GB           1996.0  Role-Playing     11.27   \n",
      "\n",
      "   EU_sales  JP_sales  Other_sales  Critic_Score User_Score Rating  \n",
      "0     28.96      3.77         8.45          76.0          8      E  \n",
      "1      3.58      6.81         0.77           NaN        NaN    NaN  \n",
      "2     12.76      3.79         3.29          82.0        8.3      E  \n",
      "3     10.93      3.28         2.95          80.0          8      E  \n",
      "4      8.89     10.22         1.00           NaN        NaN    NaN  \n"
     ]
    }
   ],
   "source": [
    "data = pd.read_csv('/datasets/games.csv')\n",
    "print(data.head(5))"
   ]
  },
  {
   "cell_type": "code",
   "execution_count": 3,
   "metadata": {},
   "outputs": [
    {
     "name": "stdout",
     "output_type": "stream",
     "text": [
      "<class 'pandas.core.frame.DataFrame'>\n",
      "RangeIndex: 16715 entries, 0 to 16714\n",
      "Data columns (total 11 columns):\n",
      " #   Column           Non-Null Count  Dtype  \n",
      "---  ------           --------------  -----  \n",
      " 0   Name             16713 non-null  object \n",
      " 1   Platform         16715 non-null  object \n",
      " 2   Year_of_Release  16446 non-null  float64\n",
      " 3   Genre            16713 non-null  object \n",
      " 4   NA_sales         16715 non-null  float64\n",
      " 5   EU_sales         16715 non-null  float64\n",
      " 6   JP_sales         16715 non-null  float64\n",
      " 7   Other_sales      16715 non-null  float64\n",
      " 8   Critic_Score     8137 non-null   float64\n",
      " 9   User_Score       10014 non-null  object \n",
      " 10  Rating           9949 non-null   object \n",
      "dtypes: float64(6), object(5)\n",
      "memory usage: 1.4+ MB\n"
     ]
    }
   ],
   "source": [
    "data.info()"
   ]
  },
  {
   "cell_type": "markdown",
   "metadata": {},
   "source": [
    "- При анализе таблицы можно выявить пропуски данных в таблице genre. Так как их всего 2 из 16715, то их лучше удалить - их отсутствие никак не повлияет на исследование.\n",
    "- В столбце с Годом релиза удалим пропуски и изменим тип данных на int. \n",
    "- Столбец с оценкой пользователей типа object - заменим тип данных на float.\n",
    "- В столбце с рейтингом заменим пропуски на значение \"неизвестно\". \n",
    "- Проверим столбцы на наличие дубликатов\n",
    "- Добавим столбец с общей суммой продаж во всех регионах"
   ]
  },
  {
   "cell_type": "code",
   "execution_count": 4,
   "metadata": {},
   "outputs": [],
   "source": [
    "data.columns = data.columns.str.lower()\n",
    "data = data.dropna(subset=['genre']).reset_index()"
   ]
  },
  {
   "cell_type": "code",
   "execution_count": 5,
   "metadata": {},
   "outputs": [
    {
     "name": "stdout",
     "output_type": "stream",
     "text": [
      "['Wii Sports' 'Super Mario Bros.' 'Mario Kart Wii' ...\n",
      " 'Woody Woodpecker in Crazy Castle 5' 'LMA Manager 2007'\n",
      " 'Haitaka no Psychedelica']\n",
      "\n",
      "['Wii' 'NES' 'GB' 'DS' 'X360' 'PS3' 'PS2' 'SNES' 'GBA' 'PS4' '3DS' 'N64'\n",
      " 'PS' 'XB' 'PC' '2600' 'PSP' 'XOne' 'WiiU' 'GC' 'GEN' 'DC' 'PSV' 'SAT'\n",
      " 'SCD' 'WS' 'NG' 'TG16' '3DO' 'GG' 'PCFX']\n",
      "\n",
      "['Sports' 'Platform' 'Racing' 'Role-Playing' 'Puzzle' 'Misc' 'Shooter'\n",
      " 'Simulation' 'Action' 'Fighting' 'Adventure' 'Strategy']\n"
     ]
    }
   ],
   "source": [
    "print(data['name'].unique())\n",
    "print()\n",
    "print(data['platform'].unique())\n",
    "print()\n",
    "print(data['genre'].unique())"
   ]
  },
  {
   "cell_type": "code",
   "execution_count": 6,
   "metadata": {},
   "outputs": [
    {
     "name": "stdout",
     "output_type": "stream",
     "text": [
      "['E' nan 'M' 'T' 'E10+' 'K-A' 'AO' 'EC' 'RP']\n"
     ]
    }
   ],
   "source": [
    "print(data['rating'].unique())\n",
    "data['rating'] = data['rating'].fillna('неизвестно')"
   ]
  },
  {
   "cell_type": "code",
   "execution_count": 7,
   "metadata": {},
   "outputs": [
    {
     "name": "stdout",
     "output_type": "stream",
     "text": [
      "['8' nan '8.3' '8.5' '6.6' '8.4' '8.6' '7.7' '6.3' '7.4' '8.2' '9' '7.9'\n",
      " '8.1' '8.7' '7.1' '3.4' '5.3' '4.8' '3.2' '8.9' '6.4' '7.8' '7.5' '2.6'\n",
      " '7.2' '9.2' '7' '7.3' '4.3' '7.6' '5.7' '5' '9.1' '6.5' 'tbd' '8.8' '6.9'\n",
      " '9.4' '6.8' '6.1' '6.7' '5.4' '4' '4.9' '4.5' '9.3' '6.2' '4.2' '6' '3.7'\n",
      " '4.1' '5.8' '5.6' '5.5' '4.4' '4.6' '5.9' '3.9' '3.1' '2.9' '5.2' '3.3'\n",
      " '4.7' '5.1' '3.5' '2.5' '1.9' '3' '2.7' '2.2' '2' '9.5' '2.1' '3.6' '2.8'\n",
      " '1.8' '3.8' '0' '1.6' '9.6' '2.4' '1.7' '1.1' '0.3' '1.5' '0.7' '1.2'\n",
      " '2.3' '0.5' '1.3' '0.2' '0.6' '1.4' '0.9' '1' '9.7']\n"
     ]
    }
   ],
   "source": [
    "print(data['user_score'].unique())"
   ]
  },
  {
   "cell_type": "code",
   "execution_count": 8,
   "metadata": {},
   "outputs": [],
   "source": [
    "data['user_score'] = data['user_score'].replace('tbd',np.NaN)\n",
    "\n",
    "data['user_score'] = data['user_score'].astype(float)"
   ]
  },
  {
   "cell_type": "code",
   "execution_count": 9,
   "metadata": {},
   "outputs": [],
   "source": [
    "data['year_of_release'] = data['year_of_release'].fillna(0)\n",
    "data['year_of_release'] = data['year_of_release'].astype(int)"
   ]
  },
  {
   "cell_type": "code",
   "execution_count": 10,
   "metadata": {},
   "outputs": [
    {
     "name": "stdout",
     "output_type": "stream",
     "text": [
      "       index                         name platform  year_of_release     genre  \\\n",
      "1590    1591  Need for Speed: Most Wanted     X360             2005    Racing   \n",
      "4126    4127           Sonic the Hedgehog      PS3                0  Platform   \n",
      "11714  11715  Need for Speed: Most Wanted       PC             2012    Racing   \n",
      "16228  16230                Madden NFL 13      PS3             2012    Sports   \n",
      "\n",
      "       na_sales  eu_sales  jp_sales  other_sales  critic_score  user_score  \\\n",
      "1590        1.0      0.13      0.02         0.10          83.0         8.5   \n",
      "4126        0.0      0.48      0.00         0.00          43.0         4.1   \n",
      "11714       0.0      0.06      0.00         0.02          82.0         8.5   \n",
      "16228       0.0      0.01      0.00         0.00          83.0         5.5   \n",
      "\n",
      "      rating  \n",
      "1590       T  \n",
      "4126    E10+  \n",
      "11714      T  \n",
      "16228      E  \n"
     ]
    }
   ],
   "source": [
    "display(data[data.duplicated(subset=['name', 'platform'])])"
   ]
  },
  {
   "cell_type": "code",
   "execution_count": 11,
   "metadata": {},
   "outputs": [
    {
     "name": "stdout",
     "output_type": "stream",
     "text": [
      "<class 'pandas.core.frame.DataFrame'>\n",
      "RangeIndex: 16713 entries, 0 to 16712\n",
      "Data columns (total 13 columns):\n",
      " #   Column           Non-Null Count  Dtype  \n",
      "---  ------           --------------  -----  \n",
      " 0   index            16713 non-null  int64  \n",
      " 1   name             16713 non-null  object \n",
      " 2   platform         16713 non-null  object \n",
      " 3   year_of_release  16713 non-null  int64  \n",
      " 4   genre            16713 non-null  object \n",
      " 5   na_sales         16713 non-null  float64\n",
      " 6   eu_sales         16713 non-null  float64\n",
      " 7   jp_sales         16713 non-null  float64\n",
      " 8   other_sales      16713 non-null  float64\n",
      " 9   critic_score     8137 non-null   float64\n",
      " 10  user_score       7590 non-null   float64\n",
      " 11  rating           16713 non-null  object \n",
      " 12  total_sales      16713 non-null  float64\n",
      "dtypes: float64(7), int64(2), object(4)\n",
      "memory usage: 1.7+ MB\n"
     ]
    },
    {
     "data": {
      "text/html": [
       "<div>\n",
       "<style scoped>\n",
       "    .dataframe tbody tr th:only-of-type {\n",
       "        vertical-align: middle;\n",
       "    }\n",
       "\n",
       "    .dataframe tbody tr th {\n",
       "        vertical-align: top;\n",
       "    }\n",
       "\n",
       "    .dataframe thead th {\n",
       "        text-align: right;\n",
       "    }\n",
       "</style>\n",
       "<table border=\"1\" class=\"dataframe\">\n",
       "  <thead>\n",
       "    <tr style=\"text-align: right;\">\n",
       "      <th></th>\n",
       "      <th>index</th>\n",
       "      <th>name</th>\n",
       "      <th>platform</th>\n",
       "      <th>year_of_release</th>\n",
       "      <th>genre</th>\n",
       "      <th>na_sales</th>\n",
       "      <th>eu_sales</th>\n",
       "      <th>jp_sales</th>\n",
       "      <th>other_sales</th>\n",
       "      <th>critic_score</th>\n",
       "      <th>user_score</th>\n",
       "      <th>rating</th>\n",
       "      <th>total_sales</th>\n",
       "    </tr>\n",
       "  </thead>\n",
       "  <tbody>\n",
       "    <tr>\n",
       "      <th>0</th>\n",
       "      <td>0</td>\n",
       "      <td>Wii Sports</td>\n",
       "      <td>Wii</td>\n",
       "      <td>2006</td>\n",
       "      <td>Sports</td>\n",
       "      <td>41.36</td>\n",
       "      <td>28.96</td>\n",
       "      <td>3.77</td>\n",
       "      <td>8.45</td>\n",
       "      <td>76.0</td>\n",
       "      <td>8.0</td>\n",
       "      <td>E</td>\n",
       "      <td>82.54</td>\n",
       "    </tr>\n",
       "    <tr>\n",
       "      <th>1</th>\n",
       "      <td>1</td>\n",
       "      <td>Super Mario Bros.</td>\n",
       "      <td>NES</td>\n",
       "      <td>1985</td>\n",
       "      <td>Platform</td>\n",
       "      <td>29.08</td>\n",
       "      <td>3.58</td>\n",
       "      <td>6.81</td>\n",
       "      <td>0.77</td>\n",
       "      <td>NaN</td>\n",
       "      <td>NaN</td>\n",
       "      <td>неизвестно</td>\n",
       "      <td>40.24</td>\n",
       "    </tr>\n",
       "    <tr>\n",
       "      <th>2</th>\n",
       "      <td>2</td>\n",
       "      <td>Mario Kart Wii</td>\n",
       "      <td>Wii</td>\n",
       "      <td>2008</td>\n",
       "      <td>Racing</td>\n",
       "      <td>15.68</td>\n",
       "      <td>12.76</td>\n",
       "      <td>3.79</td>\n",
       "      <td>3.29</td>\n",
       "      <td>82.0</td>\n",
       "      <td>8.3</td>\n",
       "      <td>E</td>\n",
       "      <td>35.52</td>\n",
       "    </tr>\n",
       "    <tr>\n",
       "      <th>3</th>\n",
       "      <td>3</td>\n",
       "      <td>Wii Sports Resort</td>\n",
       "      <td>Wii</td>\n",
       "      <td>2009</td>\n",
       "      <td>Sports</td>\n",
       "      <td>15.61</td>\n",
       "      <td>10.93</td>\n",
       "      <td>3.28</td>\n",
       "      <td>2.95</td>\n",
       "      <td>80.0</td>\n",
       "      <td>8.0</td>\n",
       "      <td>E</td>\n",
       "      <td>32.77</td>\n",
       "    </tr>\n",
       "    <tr>\n",
       "      <th>4</th>\n",
       "      <td>4</td>\n",
       "      <td>Pokemon Red/Pokemon Blue</td>\n",
       "      <td>GB</td>\n",
       "      <td>1996</td>\n",
       "      <td>Role-Playing</td>\n",
       "      <td>11.27</td>\n",
       "      <td>8.89</td>\n",
       "      <td>10.22</td>\n",
       "      <td>1.00</td>\n",
       "      <td>NaN</td>\n",
       "      <td>NaN</td>\n",
       "      <td>неизвестно</td>\n",
       "      <td>31.38</td>\n",
       "    </tr>\n",
       "    <tr>\n",
       "      <th>5</th>\n",
       "      <td>5</td>\n",
       "      <td>Tetris</td>\n",
       "      <td>GB</td>\n",
       "      <td>1989</td>\n",
       "      <td>Puzzle</td>\n",
       "      <td>23.20</td>\n",
       "      <td>2.26</td>\n",
       "      <td>4.22</td>\n",
       "      <td>0.58</td>\n",
       "      <td>NaN</td>\n",
       "      <td>NaN</td>\n",
       "      <td>неизвестно</td>\n",
       "      <td>30.26</td>\n",
       "    </tr>\n",
       "    <tr>\n",
       "      <th>6</th>\n",
       "      <td>6</td>\n",
       "      <td>New Super Mario Bros.</td>\n",
       "      <td>DS</td>\n",
       "      <td>2006</td>\n",
       "      <td>Platform</td>\n",
       "      <td>11.28</td>\n",
       "      <td>9.14</td>\n",
       "      <td>6.50</td>\n",
       "      <td>2.88</td>\n",
       "      <td>89.0</td>\n",
       "      <td>8.5</td>\n",
       "      <td>E</td>\n",
       "      <td>29.80</td>\n",
       "    </tr>\n",
       "    <tr>\n",
       "      <th>7</th>\n",
       "      <td>7</td>\n",
       "      <td>Wii Play</td>\n",
       "      <td>Wii</td>\n",
       "      <td>2006</td>\n",
       "      <td>Misc</td>\n",
       "      <td>13.96</td>\n",
       "      <td>9.18</td>\n",
       "      <td>2.93</td>\n",
       "      <td>2.84</td>\n",
       "      <td>58.0</td>\n",
       "      <td>6.6</td>\n",
       "      <td>E</td>\n",
       "      <td>28.91</td>\n",
       "    </tr>\n",
       "    <tr>\n",
       "      <th>8</th>\n",
       "      <td>8</td>\n",
       "      <td>New Super Mario Bros. Wii</td>\n",
       "      <td>Wii</td>\n",
       "      <td>2009</td>\n",
       "      <td>Platform</td>\n",
       "      <td>14.44</td>\n",
       "      <td>6.94</td>\n",
       "      <td>4.70</td>\n",
       "      <td>2.24</td>\n",
       "      <td>87.0</td>\n",
       "      <td>8.4</td>\n",
       "      <td>E</td>\n",
       "      <td>28.32</td>\n",
       "    </tr>\n",
       "    <tr>\n",
       "      <th>9</th>\n",
       "      <td>9</td>\n",
       "      <td>Duck Hunt</td>\n",
       "      <td>NES</td>\n",
       "      <td>1984</td>\n",
       "      <td>Shooter</td>\n",
       "      <td>26.93</td>\n",
       "      <td>0.63</td>\n",
       "      <td>0.28</td>\n",
       "      <td>0.47</td>\n",
       "      <td>NaN</td>\n",
       "      <td>NaN</td>\n",
       "      <td>неизвестно</td>\n",
       "      <td>28.31</td>\n",
       "    </tr>\n",
       "  </tbody>\n",
       "</table>\n",
       "</div>"
      ],
      "text/plain": [
       "   index                       name platform  year_of_release         genre  \\\n",
       "0      0                 Wii Sports      Wii             2006        Sports   \n",
       "1      1          Super Mario Bros.      NES             1985      Platform   \n",
       "2      2             Mario Kart Wii      Wii             2008        Racing   \n",
       "3      3          Wii Sports Resort      Wii             2009        Sports   \n",
       "4      4   Pokemon Red/Pokemon Blue       GB             1996  Role-Playing   \n",
       "5      5                     Tetris       GB             1989        Puzzle   \n",
       "6      6      New Super Mario Bros.       DS             2006      Platform   \n",
       "7      7                   Wii Play      Wii             2006          Misc   \n",
       "8      8  New Super Mario Bros. Wii      Wii             2009      Platform   \n",
       "9      9                  Duck Hunt      NES             1984       Shooter   \n",
       "\n",
       "   na_sales  eu_sales  jp_sales  other_sales  critic_score  user_score  \\\n",
       "0     41.36     28.96      3.77         8.45          76.0         8.0   \n",
       "1     29.08      3.58      6.81         0.77           NaN         NaN   \n",
       "2     15.68     12.76      3.79         3.29          82.0         8.3   \n",
       "3     15.61     10.93      3.28         2.95          80.0         8.0   \n",
       "4     11.27      8.89     10.22         1.00           NaN         NaN   \n",
       "5     23.20      2.26      4.22         0.58           NaN         NaN   \n",
       "6     11.28      9.14      6.50         2.88          89.0         8.5   \n",
       "7     13.96      9.18      2.93         2.84          58.0         6.6   \n",
       "8     14.44      6.94      4.70         2.24          87.0         8.4   \n",
       "9     26.93      0.63      0.28         0.47           NaN         NaN   \n",
       "\n",
       "       rating  total_sales  \n",
       "0           E        82.54  \n",
       "1  неизвестно        40.24  \n",
       "2           E        35.52  \n",
       "3           E        32.77  \n",
       "4  неизвестно        31.38  \n",
       "5  неизвестно        30.26  \n",
       "6           E        29.80  \n",
       "7           E        28.91  \n",
       "8           E        28.32  \n",
       "9  неизвестно        28.31  "
      ]
     },
     "metadata": {},
     "output_type": "display_data"
    }
   ],
   "source": [
    "data['total_sales'] = data[['na_sales','eu_sales','jp_sales', 'other_sales']].sum(axis='columns')\n",
    "\n",
    "data.info()\n",
    "display(data.head(10))"
   ]
  },
  {
   "cell_type": "markdown",
   "metadata": {},
   "source": [
    "**В рамках подготовки данных мы:**\n",
    "1. Изучили таблицу: вывели 5 первых строк и общую информацию о датасете\n",
    "2. Привели названия столбцов к нижнему регистру\n",
    "3. В столбце genre удалили строки без данных, их всего 2 и они никак не повлияют на исследование. Вместе с ними ушли и пропуски в столбце name.  \n",
    "4. Изменили тип данных в столбце с годом релиза на int. Для этого заменили пропуски на 0. Данная замена никак не повлияет на дальнейшее исследование, а значение 0 мы всегда с легкостью найдем и отсечем при дальнейшем исследовании. \n",
    "5. Оценили уникальные значения в столбце с оценкой пользователей. Были выявлены значения nan и tbd. TBD - означает, что оценка пользователей еще не установлена (to be determined). Поэтому будет логично убрать оба значения. Мы заменили tbd на nan и заменили тип данных на float.\n",
    "6. Столбцы с оценкой критиков и оценкой пользователей не меняем: пропуски мы никак не заполним, а тип данных подходит для дальнейшей работы\n",
    "7. В столбце с рейтингом отсутсвует примерно 40% значений. Данный рейтинг выдается  Мы заменили пропуски на значение \"неизвестно\". \n",
    "ESRB - американское рейтинговое агентство, появившееся в 1994 году. На выведенной таблице видно, что нет рейтинга у игр, выпущенных достаточно давно. Скорее всего рейтинги выставлялись по мере выпуска новых игр. Кроме того, игры на платформы не американского происхождения начали получать рейтинги в более поздние года и скорее всего вообще не получали, если не продавались в америке либо продавались в небольших объемах. \n",
    "8. Провели анализ на наличие дубликатов в столбцах Genre, Platform, Raiting. Дубликатов не выявлено.\n",
    "9. В ходе анализа дубликатов мы выявили игры с одним названием, но рассчитанные на разные платформы. От таких дубликатов не стоит избавляться - так как это все же разные данные относительно платформ.\n",
    "10. Добавили столбец с общей суммой продаж во всех регионах. "
   ]
  },
  {
   "cell_type": "markdown",
   "metadata": {},
   "source": [
    "[*к оглавлению*](#content)"
   ]
  },
  {
   "cell_type": "markdown",
   "metadata": {},
   "source": [
    "**ИССЛЕДОВАТЕЛЬСКИЙ АНАЛИЗ ДАННЫХ**<a id='2-bullet'></a>"
   ]
  },
  {
   "cell_type": "code",
   "execution_count": 12,
   "metadata": {},
   "outputs": [
    {
     "name": "stdout",
     "output_type": "stream",
     "text": [
      "755\n"
     ]
    }
   ],
   "source": [
    "print(data.query('year_of_release < 1995')['year_of_release'].count())"
   ]
  },
  {
   "cell_type": "code",
   "execution_count": 13,
   "metadata": {},
   "outputs": [
    {
     "data": {
      "image/png": "[encoded data removed]",
      "text/plain": [
       "<Figure size 1080x360 with 1 Axes>"
      ]
     },
     "metadata": {
      "needs_background": "light"
     },
     "output_type": "display_data"
    }
   ],
   "source": [
    "data.query('year_of_release > 1995').hist('year_of_release', bins=20, figsize=[15, 5])\n",
    "plt.xlabel('Год выпуска')\n",
    "plt.ylabel('Количество игр')\n",
    "plt.title('Гистограмма выпуска новых игр')\n",
    "\n",
    "plt.show()"
   ]
  },
  {
   "cell_type": "code",
   "execution_count": 14,
   "metadata": {},
   "outputs": [
    {
     "data": {
      "image/png": "[encoded data removed]",
      "text/plain": [
       "<Figure size 1080x360 with 1 Axes>"
      ]
     },
     "metadata": {
      "needs_background": "light"
     },
     "output_type": "display_data"
    }
   ],
   "source": [
    "data[data.duplicated(subset=['year_of_release', 'name'])].query(\n",
    "    'year_of_release > 1995').hist('year_of_release', bins=20, figsize=[15, 5])\n",
    "plt.xlabel('Год выпуска')\n",
    "plt.ylabel('Количество игр')\n",
    "plt.title('Гистограмма выпуска новых игр')\n",
    "\n",
    "plt.show()"
   ]
  },
  {
   "cell_type": "markdown",
   "metadata": {},
   "source": [
    "Мы изучили сколько игр выпускалось в разные годы. До 1995 года было незначительное число выпусков - всего 755 за 15 лет (4,5% от всех игр за 36 лет). Поэтому мы исключили период до 1995 года для большей наглядности последующих лет на графике.\n",
    "\n",
    "Мы построили 2 графика: на первом учтены все выпуски игр, в т.ч. перевыпуски игр на разных платформах. На втором - выпуски исключительно новых игр на рынке.\n",
    "\n",
    "На первом графике пик выпусков игр пришелся на 2006 - 2011 гг, а также 2015 год - выпускалось больше 1000 игр в год. \n",
    "\n",
    "При этом пик выпусков абсолютно новых игр был в период 2007-2011 гг. (больше 300 игр в год), а после непродолжительного спада в период 2012-2014гг - новый всплеск выпуска новых игр в 2015гг."
   ]
  },
  {
   "cell_type": "code",
   "execution_count": 55,
   "metadata": {},
   "outputs": [
    {
     "data": {
      "text/plain": [
       "['PS2', 'X360', 'PS3', 'Wii', 'DS', 'PS']"
      ]
     },
     "execution_count": 55,
     "metadata": {},
     "output_type": "execute_result"
    }
   ],
   "source": [
    "tmp = data.pivot_table(index='platform', values='total_sales', aggfunc='sum').sort_values(by='total_sales', ascending=False)\n",
    "tmp.index[:6].tolist()"
   ]
  },
  {
   "cell_type": "code",
   "execution_count": 57,
   "metadata": {
    "scrolled": false
   },
   "outputs": [
    {
     "data": {
      "image/png": "[encoded data removed]",
      "text/plain": [
       "<Figure size 720x288 with 1 Axes>"
      ]
     },
     "metadata": {
      "needs_background": "light"
     },
     "output_type": "display_data"
    },
    {
     "data": {
      "image/png": "[encoded data removed]",
      "text/plain": [
       "<Figure size 720x288 with 1 Axes>"
      ]
     },
     "metadata": {
      "needs_background": "light"
     },
     "output_type": "display_data"
    },
    {
     "data": {
      "image/png": "[encoded data removed]",
      "text/plain": [
       "<Figure size 720x288 with 1 Axes>"
      ]
     },
     "metadata": {
      "needs_background": "light"
     },
     "output_type": "display_data"
    },
    {
     "data": {
      "image/png": "[encoded data removed]",
      "text/plain": [
       "<Figure size 720x288 with 1 Axes>"
      ]
     },
     "metadata": {
      "needs_background": "light"
     },
     "output_type": "display_data"
    },
    {
     "data": {
      "image/png": "[encoded data removed]",
      "text/plain": [
       "<Figure size 720x288 with 1 Axes>"
      ]
     },
     "metadata": {
      "needs_background": "light"
     },
     "output_type": "display_data"
    },
    {
     "data": {
      "image/png": "[encoded data removed]",
      "text/plain": [
       "<Figure size 720x288 with 1 Axes>"
      ]
     },
     "metadata": {
      "needs_background": "light"
     },
     "output_type": "display_data"
    }
   ],
   "source": [
    "platform = tmp.index[:6]\n",
    "for i in platform:\n",
    "    data_platform = data[(data['platform'] == i) & (data['year_of_release'] > 1995)].groupby('year_of_release').agg({'name':'count'}).reset_index()\n",
    "    data_platform.plot(kind='bar', x='year_of_release', y='name', figsize=[10, 4])\n",
    "    plt.xlabel('Год выпуска')\n",
    "    plt.ylabel('Количество игр')\n",
    "    plt.title(i)\n"
   ]
  },
  {
   "cell_type": "markdown",
   "metadata": {},
   "source": [
    "Посмотрели, как менялись продажи по платформам. Мы взяли период времени с 1995 по 2016, т.к. до 1995 года выпускалось очень мало игр.\n",
    "\n",
    "Мы выбрали топ-6 платформ и построили распределение по годам. \n",
    "Платформы из серии PS теряют свою актуальность по мере появления новой версии. PS2 уже на 3-й год существования вышел на свое топовое значение > 250 /год и медленно терял свою популярность после выхода PS3.\n",
    "\n",
    "В целом на основе топ-6 платформ по объемам продаж можно сделать вывод, что платформы набирают популярность среди производителей игр до своих лучших значение в течение первых 3-х лет.\n",
    "\n",
    "Пик популярности - около 1 года, после которого идет падение популярности (а значит и количество игр выпускаемых на этих платформах). При этом по более старым платформам количество игр стремится к 0 (примерно через 4 года после пика на этих платформах уже практически не выпускают новые игры).  "
   ]
  },
  {
   "cell_type": "code",
   "execution_count": 17,
   "metadata": {},
   "outputs": [
    {
     "name": "stdout",
     "output_type": "stream",
     "text": [
      "<class 'pandas.core.frame.DataFrame'>\n",
      "Int64Index: 2233 entries, 16 to 16712\n",
      "Data columns (total 13 columns):\n",
      " #   Column           Non-Null Count  Dtype  \n",
      "---  ------           --------------  -----  \n",
      " 0   index            2233 non-null   int64  \n",
      " 1   name             2233 non-null   object \n",
      " 2   platform         2233 non-null   object \n",
      " 3   year_of_release  2233 non-null   int64  \n",
      " 4   genre            2233 non-null   object \n",
      " 5   na_sales         2233 non-null   float64\n",
      " 6   eu_sales         2233 non-null   float64\n",
      " 7   jp_sales         2233 non-null   float64\n",
      " 8   other_sales      2233 non-null   float64\n",
      " 9   critic_score     991 non-null    float64\n",
      " 10  user_score       1192 non-null   float64\n",
      " 11  rating           2233 non-null   object \n",
      " 12  total_sales      2233 non-null   float64\n",
      "dtypes: float64(7), int64(2), object(4)\n",
      "memory usage: 244.2+ KB\n"
     ]
    }
   ],
   "source": [
    "new_data = data.query('year_of_release >= 2013')\n",
    "new_data.info()"
   ]
  },
  {
   "cell_type": "markdown",
   "metadata": {},
   "source": [
    "Так как средний период роста и пика платформ примерно 4 года - изучим популярные платформы за последние 4 года, а именно с 2013 по 2016 годы."
   ]
  },
  {
   "cell_type": "code",
   "execution_count": 58,
   "metadata": {},
   "outputs": [
    {
     "data": {
      "text/html": [
       "<div>\n",
       "<style scoped>\n",
       "    .dataframe tbody tr th:only-of-type {\n",
       "        vertical-align: middle;\n",
       "    }\n",
       "\n",
       "    .dataframe tbody tr th {\n",
       "        vertical-align: top;\n",
       "    }\n",
       "\n",
       "    .dataframe thead th {\n",
       "        text-align: right;\n",
       "    }\n",
       "</style>\n",
       "<table border=\"1\" class=\"dataframe\">\n",
       "  <thead>\n",
       "    <tr style=\"text-align: right;\">\n",
       "      <th></th>\n",
       "      <th>total_sales</th>\n",
       "    </tr>\n",
       "    <tr>\n",
       "      <th>platform</th>\n",
       "      <th></th>\n",
       "    </tr>\n",
       "  </thead>\n",
       "  <tbody>\n",
       "    <tr>\n",
       "      <th>PS4</th>\n",
       "      <td>314.14</td>\n",
       "    </tr>\n",
       "    <tr>\n",
       "      <th>PS3</th>\n",
       "      <td>181.43</td>\n",
       "    </tr>\n",
       "    <tr>\n",
       "      <th>XOne</th>\n",
       "      <td>159.32</td>\n",
       "    </tr>\n",
       "    <tr>\n",
       "      <th>3DS</th>\n",
       "      <td>143.25</td>\n",
       "    </tr>\n",
       "    <tr>\n",
       "      <th>X360</th>\n",
       "      <td>136.80</td>\n",
       "    </tr>\n",
       "    <tr>\n",
       "      <th>WiiU</th>\n",
       "      <td>64.63</td>\n",
       "    </tr>\n",
       "    <tr>\n",
       "      <th>PC</th>\n",
       "      <td>39.43</td>\n",
       "    </tr>\n",
       "    <tr>\n",
       "      <th>PSV</th>\n",
       "      <td>32.99</td>\n",
       "    </tr>\n",
       "    <tr>\n",
       "      <th>Wii</th>\n",
       "      <td>13.66</td>\n",
       "    </tr>\n",
       "    <tr>\n",
       "      <th>PSP</th>\n",
       "      <td>3.50</td>\n",
       "    </tr>\n",
       "    <tr>\n",
       "      <th>DS</th>\n",
       "      <td>1.54</td>\n",
       "    </tr>\n",
       "  </tbody>\n",
       "</table>\n",
       "</div>"
      ],
      "text/plain": [
       "          total_sales\n",
       "platform             \n",
       "PS4            314.14\n",
       "PS3            181.43\n",
       "XOne           159.32\n",
       "3DS            143.25\n",
       "X360           136.80\n",
       "WiiU            64.63\n",
       "PC              39.43\n",
       "PSV             32.99\n",
       "Wii             13.66\n",
       "PSP              3.50\n",
       "DS               1.54"
      ]
     },
     "metadata": {},
     "output_type": "display_data"
    }
   ],
   "source": [
    "display(new_data.pivot_table(index='platform', values='total_sales', aggfunc='sum').sort_values(\n",
    "    by='total_sales', ascending=False))"
   ]
  },
  {
   "cell_type": "code",
   "execution_count": 85,
   "metadata": {},
   "outputs": [
    {
     "data": {
      "text/plain": [
       "<matplotlib.legend.Legend at 0x7fbbbe004ca0>"
      ]
     },
     "execution_count": 85,
     "metadata": {},
     "output_type": "execute_result"
    },
    {
     "data": {
      "image/png": "[encoded data removed]",
      "text/plain": [
       "<Figure size 1440x720 with 1 Axes>"
      ]
     },
     "metadata": {
      "needs_background": "light"
     },
     "output_type": "display_data"
    }
   ],
   "source": [
    "plt.figure(figsize=[20, 10])\n",
    "ax = sns.lineplot(data = new_data, x='year_of_release', y='total_sales', hue='platform', ci=None)\n",
    "plt.legend(loc='upper right')"
   ]
  },
  {
   "cell_type": "markdown",
   "metadata": {},
   "source": [
    "Судя по графику объем продаж по большей части платформ падает. Исключение составляет X360, которая начала расти в 2015 году.\n",
    "Исходя из сводной таблицы топ-5 платформ по объему продаж за последние 4 года: PS4, PS3, XOne, 3DS и X360."
   ]
  },
  {
   "cell_type": "code",
   "execution_count": 20,
   "metadata": {},
   "outputs": [
    {
     "data": {
      "text/plain": [
       "Text(0, 0.5, 'Общая сумма продаж')"
      ]
     },
     "execution_count": 20,
     "metadata": {},
     "output_type": "execute_result"
    },
    {
     "data": {
      "image/png": "[encoded data removed]",
      "text/plain": [
       "<Figure size 864x432 with 1 Axes>"
      ]
     },
     "metadata": {
      "needs_background": "light"
     },
     "output_type": "display_data"
    }
   ],
   "source": [
    "plt.figure(figsize=(12,6))\n",
    "sns.boxplot(data=new_data, x='platform', y='total_sales')\n",
    "plt.title('Ящик с усами', fontsize=15)\n",
    "plt.xlabel('Платформа', fontsize=12)\n",
    "plt.ylabel('Общая сумма продаж',fontsize=12)"
   ]
  },
  {
   "cell_type": "code",
   "execution_count": 79,
   "metadata": {},
   "outputs": [
    {
     "data": {
      "image/png": "[encoded data removed]",
      "text/plain": [
       "<Figure size 864x864 with 1 Axes>"
      ]
     },
     "metadata": {
      "needs_background": "light"
     },
     "output_type": "display_data"
    }
   ],
   "source": [
    "plt.figure(figsize=(12,12))\n",
    "sns.boxplot(data=new_data, x='platform', y='total_sales', showfliers=False)\n",
    "plt.title('Ящик с усами', fontsize=15)\n",
    "plt.xlabel('Платформа', fontsize=12)\n",
    "plt.ylabel('Общая сумма продаж',fontsize=12)\n",
    "plt.ylim=(0, 0.9)"
   ]
  },
  {
   "cell_type": "markdown",
   "metadata": {},
   "source": [
    "Мы построили ящик с усами для анализа общей суммы продаж в разбивке по платформам.\n",
    "На первом графике видны выбросы, из-за которых тяжело оценить сами \"ящики\" и их \"усы\".\n",
    "При этом можно отметить, что платформы PS3, x360, PS4 и 3DS имеют самые большие выбросы по продажам,\n",
    "т.е. на этих платформах есть \"звезды\" - игры с рекордной суммой глобальных продаж.\n",
    "На аналогичном графике \"без выбросов\" можем отметить, что самый высокий показатель медианной суммы продаж у игр на платформе X360, достаточно высокий медианный показатель так же у платформ: XOne, PS4 и WiiU.\n",
    "Самые низкие - у PSP, PSV, PC и 3DS."
   ]
  },
  {
   "cell_type": "code",
   "execution_count": 22,
   "metadata": {},
   "outputs": [
    {
     "name": "stdout",
     "output_type": "stream",
     "text": [
      "Корреляция между оценкой критикой и объемом продаж = 0.40656790206178095\n",
      "Корреляция между оценкой пользователей и объемом продаж = -0.031957110204556376\n"
     ]
    },
    {
     "data": {
      "text/plain": [
       "<AxesSubplot:xlabel='user_score', ylabel='total_sales'>"
      ]
     },
     "execution_count": 22,
     "metadata": {},
     "output_type": "execute_result"
    },
    {
     "data": {
      "image/png": "[encoded data removed]",
      "text/plain": [
       "<Figure size 432x288 with 1 Axes>"
      ]
     },
     "metadata": {
      "needs_background": "light"
     },
     "output_type": "display_data"
    },
    {
     "data": {
      "image/png": "[encoded data removed]",
      "text/plain": [
       "<Figure size 432x288 with 1 Axes>"
      ]
     },
     "metadata": {
      "needs_background": "light"
     },
     "output_type": "display_data"
    }
   ],
   "source": [
    "PS4_data = new_data.query('platform==\"PS4\"')\n",
    "print('Корреляция между оценкой критикой и объемом продаж =', PS4_data['critic_score'].corr(PS4_data['total_sales']))\n",
    "PS4_data.plot(x='critic_score', y='total_sales', kind='scatter', alpha=0.5)\n",
    "print('Корреляция между оценкой пользователей и объемом продаж =', PS4_data['user_score'].corr(PS4_data['total_sales']))\n",
    "PS4_data.plot(x='user_score', y='total_sales', kind='scatter', alpha=0.5)"
   ]
  },
  {
   "cell_type": "markdown",
   "metadata": {},
   "source": [
    "Мы посмотрели, как влияют на продажи игр внутри PS4 (как самой крупной по объему продаж) отзывы пользователей и критиков. Для этого были построены диаграммы рассеивания и посчитана корреляция. \n",
    "Взаимосвязь между оценками критиков и пользователей и объемом продаж отсутствует."
   ]
  },
  {
   "cell_type": "code",
   "execution_count": 23,
   "metadata": {},
   "outputs": [
    {
     "name": "stdout",
     "output_type": "stream",
     "text": [
      "Корреляция между оценкой критикой и объемом продаж = 0.3342853393371919\n",
      "Корреляция между оценкой пользователей и объемом продаж = 0.0023944027357566925\n"
     ]
    },
    {
     "data": {
      "text/plain": [
       "<AxesSubplot:xlabel='user_score', ylabel='total_sales'>"
      ]
     },
     "execution_count": 23,
     "metadata": {},
     "output_type": "execute_result"
    },
    {
     "data": {
      "image/png": "[encoded data removed]",
      "text/plain": [
       "<Figure size 432x288 with 1 Axes>"
      ]
     },
     "metadata": {
      "needs_background": "light"
     },
     "output_type": "display_data"
    },
    {
     "data": {
      "image/png": "[encoded data removed]",
      "text/plain": [
       "<Figure size 432x288 with 1 Axes>"
      ]
     },
     "metadata": {
      "needs_background": "light"
     },
     "output_type": "display_data"
    }
   ],
   "source": [
    "PS3_data = new_data.query('platform==\"PS3\"')\n",
    "print('Корреляция между оценкой критикой и объемом продаж =', PS3_data['critic_score'].corr(PS3_data['total_sales']))\n",
    "PS3_data.plot(x='critic_score', y='total_sales', kind='scatter', alpha=0.5)\n",
    "print('Корреляция между оценкой пользователей и объемом продаж =', PS3_data['user_score'].corr(PS3_data['total_sales']))\n",
    "PS3_data.plot(x='user_score', y='total_sales', kind='scatter', alpha=0.5)"
   ]
  },
  {
   "cell_type": "code",
   "execution_count": 24,
   "metadata": {},
   "outputs": [
    {
     "name": "stdout",
     "output_type": "stream",
     "text": [
      "Корреляция между оценкой критикой и объемом продаж = 0.4169983280084017\n",
      "Корреляция между оценкой пользователей и объемом продаж = -0.06892505328279414\n"
     ]
    },
    {
     "data": {
      "text/plain": [
       "<AxesSubplot:xlabel='user_score', ylabel='total_sales'>"
      ]
     },
     "execution_count": 24,
     "metadata": {},
     "output_type": "execute_result"
    },
    {
     "data": {
      "image/png": "[encoded data removed]",
      "text/plain": [
       "<Figure size 432x288 with 1 Axes>"
      ]
     },
     "metadata": {
      "needs_background": "light"
     },
     "output_type": "display_data"
    },
    {
     "data": {
      "image/png": "[encoded data removed]",
      "text/plain": [
       "<Figure size 432x288 with 1 Axes>"
      ]
     },
     "metadata": {
      "needs_background": "light"
     },
     "output_type": "display_data"
    }
   ],
   "source": [
    "XOne_data = new_data.query('platform==\"XOne\"')\n",
    "print('Корреляция между оценкой критикой и объемом продаж =', XOne_data['critic_score'].corr(XOne_data['total_sales']))\n",
    "XOne_data.plot(x='critic_score', y='total_sales', kind='scatter', alpha=0.5)\n",
    "print('Корреляция между оценкой пользователей и объемом продаж =', XOne_data['user_score'].corr(XOne_data['total_sales']))\n",
    "XOne_data.plot(x='user_score', y='total_sales', kind='scatter', alpha=0.5)"
   ]
  },
  {
   "cell_type": "code",
   "execution_count": 86,
   "metadata": {},
   "outputs": [
    {
     "name": "stdout",
     "output_type": "stream",
     "text": [
      "Корреляция между оценкой критикой и объемом продаж = 0.3570566142288103\n",
      "Корреляция между оценкой пользователей и объемом продаж = 0.24150411773563016\n"
     ]
    },
    {
     "data": {
      "text/plain": [
       "<AxesSubplot:xlabel='user_score', ylabel='total_sales'>"
      ]
     },
     "execution_count": 86,
     "metadata": {},
     "output_type": "execute_result"
    },
    {
     "data": {
      "image/png": "[encoded data removed]",
      "text/plain": [
       "<Figure size 432x288 with 1 Axes>"
      ]
     },
     "metadata": {
      "needs_background": "light"
     },
     "output_type": "display_data"
    },
    {
     "data": {
      "image/png": "[encoded data removed]",
      "text/plain": [
       "<Figure size 432x288 with 1 Axes>"
      ]
     },
     "metadata": {
      "needs_background": "light"
     },
     "output_type": "display_data"
    }
   ],
   "source": [
    "Platform_3DS_data = new_data.query('platform==\"3DS\"')\n",
    "print('Корреляция между оценкой критикой и объемом продаж =', \n",
    "      Platform_3DS_data['critic_score'].corr(Platform_3DS_data['total_sales']))\n",
    "Platform_3DS_data.plot(x='critic_score', y='total_sales', kind='scatter', alpha=0.5)\n",
    "print('Корреляция между оценкой пользователей и объемом продаж =', \n",
    "      Platform_3DS_data['user_score'].corr(Platform_3DS_data['total_sales']))\n",
    "Platform_3DS_data.plot(x='user_score', y='total_sales', kind='scatter', alpha=0.5)"
   ]
  },
  {
   "cell_type": "markdown",
   "metadata": {},
   "source": [
    "Мы также посчитали корреляцию и построили графики для платформ PS3, XOne и 3DS. По данным платформам также не найдена связь между объемам продаж и оценками как пользователей, так и критиков. "
   ]
  },
  {
   "cell_type": "code",
   "execution_count": 90,
   "metadata": {},
   "outputs": [
    {
     "data": {
      "text/html": [
       "<div>\n",
       "<style scoped>\n",
       "    .dataframe tbody tr th:only-of-type {\n",
       "        vertical-align: middle;\n",
       "    }\n",
       "\n",
       "    .dataframe tbody tr th {\n",
       "        vertical-align: top;\n",
       "    }\n",
       "\n",
       "    .dataframe thead th {\n",
       "        text-align: right;\n",
       "    }\n",
       "</style>\n",
       "<table border=\"1\" class=\"dataframe\">\n",
       "  <thead>\n",
       "    <tr style=\"text-align: right;\">\n",
       "      <th></th>\n",
       "      <th>total_sales</th>\n",
       "      <th>part</th>\n",
       "    </tr>\n",
       "    <tr>\n",
       "      <th>genre</th>\n",
       "      <th></th>\n",
       "      <th></th>\n",
       "    </tr>\n",
       "  </thead>\n",
       "  <tbody>\n",
       "    <tr>\n",
       "      <th>Shooter</th>\n",
       "      <td>0.450</td>\n",
       "      <td>0.254958</td>\n",
       "    </tr>\n",
       "    <tr>\n",
       "      <th>Sports</th>\n",
       "      <td>0.240</td>\n",
       "      <td>0.135977</td>\n",
       "    </tr>\n",
       "    <tr>\n",
       "      <th>Platform</th>\n",
       "      <td>0.225</td>\n",
       "      <td>0.127479</td>\n",
       "    </tr>\n",
       "    <tr>\n",
       "      <th>Role-Playing</th>\n",
       "      <td>0.125</td>\n",
       "      <td>0.070822</td>\n",
       "    </tr>\n",
       "    <tr>\n",
       "      <th>Fighting</th>\n",
       "      <td>0.125</td>\n",
       "      <td>0.070822</td>\n",
       "    </tr>\n",
       "    <tr>\n",
       "      <th>Racing</th>\n",
       "      <td>0.120</td>\n",
       "      <td>0.067989</td>\n",
       "    </tr>\n",
       "    <tr>\n",
       "      <th>Action</th>\n",
       "      <td>0.110</td>\n",
       "      <td>0.062323</td>\n",
       "    </tr>\n",
       "    <tr>\n",
       "      <th>Simulation</th>\n",
       "      <td>0.100</td>\n",
       "      <td>0.056657</td>\n",
       "    </tr>\n",
       "    <tr>\n",
       "      <th>Misc</th>\n",
       "      <td>0.100</td>\n",
       "      <td>0.056657</td>\n",
       "    </tr>\n",
       "    <tr>\n",
       "      <th>Strategy</th>\n",
       "      <td>0.080</td>\n",
       "      <td>0.045326</td>\n",
       "    </tr>\n",
       "    <tr>\n",
       "      <th>Puzzle</th>\n",
       "      <td>0.060</td>\n",
       "      <td>0.033994</td>\n",
       "    </tr>\n",
       "    <tr>\n",
       "      <th>Adventure</th>\n",
       "      <td>0.030</td>\n",
       "      <td>0.016997</td>\n",
       "    </tr>\n",
       "  </tbody>\n",
       "</table>\n",
       "</div>"
      ],
      "text/plain": [
       "              total_sales      part\n",
       "genre                              \n",
       "Shooter             0.450  0.254958\n",
       "Sports              0.240  0.135977\n",
       "Platform            0.225  0.127479\n",
       "Role-Playing        0.125  0.070822\n",
       "Fighting            0.125  0.070822\n",
       "Racing              0.120  0.067989\n",
       "Action              0.110  0.062323\n",
       "Simulation          0.100  0.056657\n",
       "Misc                0.100  0.056657\n",
       "Strategy            0.080  0.045326\n",
       "Puzzle              0.060  0.033994\n",
       "Adventure           0.030  0.016997"
      ]
     },
     "metadata": {},
     "output_type": "display_data"
    }
   ],
   "source": [
    "genre_pivoted = new_data.pivot_table(index='genre', values='total_sales', aggfunc='median').sort_values(\n",
    "    by='total_sales', ascending=False)\n",
    "\n",
    "display(genre_pivoted)"
   ]
  },
  {
   "cell_type": "markdown",
   "metadata": {},
   "source": [
    "Посмотрели на общее распределение игр по жанрам. Данные брали за последние 4 года (2013-2016гг).\n",
    "\n",
    "Мы посчитали медианное значение общих продаж по каждому игровому жанру. \n",
    "Самыми прибыльными жанрами являются Шутер, Спортивные игры и Platform.\n",
    "Игры этих жанров в среднем продаются производителями по 450, 240 и 220 тысяч копий.\n",
    "При этом стратегии и паззлы и приключения оказались самыми неприбыльными жанрами"
   ]
  },
  {
   "cell_type": "markdown",
   "metadata": {},
   "source": [
    "[*к оглавлению*](#content)"
   ]
  },
  {
   "cell_type": "markdown",
   "metadata": {},
   "source": [
    "**СОСТАВЛЯЕМ ПОРТРЕТ ПОЛЬЗОВАТЕЛЯ КАЖДОГО РЕГИОНА**<a id='3-bullet'></a>"
   ]
  },
  {
   "cell_type": "code",
   "execution_count": 27,
   "metadata": {},
   "outputs": [
    {
     "data": {
      "text/html": [
       "<div>\n",
       "<style scoped>\n",
       "    .dataframe tbody tr th:only-of-type {\n",
       "        vertical-align: middle;\n",
       "    }\n",
       "\n",
       "    .dataframe tbody tr th {\n",
       "        vertical-align: top;\n",
       "    }\n",
       "\n",
       "    .dataframe thead th {\n",
       "        text-align: right;\n",
       "    }\n",
       "</style>\n",
       "<table border=\"1\" class=\"dataframe\">\n",
       "  <thead>\n",
       "    <tr style=\"text-align: right;\">\n",
       "      <th></th>\n",
       "      <th>eu_sales</th>\n",
       "      <th>sale_part</th>\n",
       "    </tr>\n",
       "    <tr>\n",
       "      <th>platform</th>\n",
       "      <th></th>\n",
       "      <th></th>\n",
       "    </tr>\n",
       "  </thead>\n",
       "  <tbody>\n",
       "    <tr>\n",
       "      <th>PS4</th>\n",
       "      <td>141.09</td>\n",
       "      <td>0.359712</td>\n",
       "    </tr>\n",
       "    <tr>\n",
       "      <th>PS3</th>\n",
       "      <td>67.81</td>\n",
       "      <td>0.172883</td>\n",
       "    </tr>\n",
       "    <tr>\n",
       "      <th>XOne</th>\n",
       "      <td>51.59</td>\n",
       "      <td>0.131530</td>\n",
       "    </tr>\n",
       "    <tr>\n",
       "      <th>X360</th>\n",
       "      <td>42.52</td>\n",
       "      <td>0.108406</td>\n",
       "    </tr>\n",
       "    <tr>\n",
       "      <th>3DS</th>\n",
       "      <td>30.96</td>\n",
       "      <td>0.078933</td>\n",
       "    </tr>\n",
       "    <tr>\n",
       "      <th>PC</th>\n",
       "      <td>25.36</td>\n",
       "      <td>0.064656</td>\n",
       "    </tr>\n",
       "    <tr>\n",
       "      <th>WiiU</th>\n",
       "      <td>19.85</td>\n",
       "      <td>0.050608</td>\n",
       "    </tr>\n",
       "    <tr>\n",
       "      <th>PSV</th>\n",
       "      <td>6.10</td>\n",
       "      <td>0.015552</td>\n",
       "    </tr>\n",
       "    <tr>\n",
       "      <th>Wii</th>\n",
       "      <td>5.93</td>\n",
       "      <td>0.015119</td>\n",
       "    </tr>\n",
       "    <tr>\n",
       "      <th>DS</th>\n",
       "      <td>0.85</td>\n",
       "      <td>0.002167</td>\n",
       "    </tr>\n",
       "    <tr>\n",
       "      <th>PSP</th>\n",
       "      <td>0.17</td>\n",
       "      <td>0.000433</td>\n",
       "    </tr>\n",
       "  </tbody>\n",
       "</table>\n",
       "</div>"
      ],
      "text/plain": [
       "          eu_sales  sale_part\n",
       "platform                     \n",
       "PS4         141.09   0.359712\n",
       "PS3          67.81   0.172883\n",
       "XOne         51.59   0.131530\n",
       "X360         42.52   0.108406\n",
       "3DS          30.96   0.078933\n",
       "PC           25.36   0.064656\n",
       "WiiU         19.85   0.050608\n",
       "PSV           6.10   0.015552\n",
       "Wii           5.93   0.015119\n",
       "DS            0.85   0.002167\n",
       "PSP           0.17   0.000433"
      ]
     },
     "metadata": {},
     "output_type": "display_data"
    },
    {
     "data": {
      "text/html": [
       "<div>\n",
       "<style scoped>\n",
       "    .dataframe tbody tr th:only-of-type {\n",
       "        vertical-align: middle;\n",
       "    }\n",
       "\n",
       "    .dataframe tbody tr th {\n",
       "        vertical-align: top;\n",
       "    }\n",
       "\n",
       "    .dataframe thead th {\n",
       "        text-align: right;\n",
       "    }\n",
       "</style>\n",
       "<table border=\"1\" class=\"dataframe\">\n",
       "  <thead>\n",
       "    <tr style=\"text-align: right;\">\n",
       "      <th></th>\n",
       "      <th>eu_sales</th>\n",
       "      <th>sale_part</th>\n",
       "    </tr>\n",
       "    <tr>\n",
       "      <th>genre</th>\n",
       "      <th></th>\n",
       "      <th></th>\n",
       "    </tr>\n",
       "  </thead>\n",
       "  <tbody>\n",
       "    <tr>\n",
       "      <th>Action</th>\n",
       "      <td>118.13</td>\n",
       "      <td>0.301175</td>\n",
       "    </tr>\n",
       "    <tr>\n",
       "      <th>Shooter</th>\n",
       "      <td>87.86</td>\n",
       "      <td>0.224001</td>\n",
       "    </tr>\n",
       "    <tr>\n",
       "      <th>Sports</th>\n",
       "      <td>60.52</td>\n",
       "      <td>0.154297</td>\n",
       "    </tr>\n",
       "    <tr>\n",
       "      <th>Role-Playing</th>\n",
       "      <td>36.97</td>\n",
       "      <td>0.094256</td>\n",
       "    </tr>\n",
       "    <tr>\n",
       "      <th>Racing</th>\n",
       "      <td>20.19</td>\n",
       "      <td>0.051475</td>\n",
       "    </tr>\n",
       "    <tr>\n",
       "      <th>Misc</th>\n",
       "      <td>20.04</td>\n",
       "      <td>0.051092</td>\n",
       "    </tr>\n",
       "    <tr>\n",
       "      <th>Platform</th>\n",
       "      <td>15.58</td>\n",
       "      <td>0.039722</td>\n",
       "    </tr>\n",
       "    <tr>\n",
       "      <th>Simulation</th>\n",
       "      <td>10.92</td>\n",
       "      <td>0.027841</td>\n",
       "    </tr>\n",
       "    <tr>\n",
       "      <th>Fighting</th>\n",
       "      <td>8.55</td>\n",
       "      <td>0.021798</td>\n",
       "    </tr>\n",
       "    <tr>\n",
       "      <th>Adventure</th>\n",
       "      <td>8.25</td>\n",
       "      <td>0.021034</td>\n",
       "    </tr>\n",
       "    <tr>\n",
       "      <th>Strategy</th>\n",
       "      <td>4.22</td>\n",
       "      <td>0.010759</td>\n",
       "    </tr>\n",
       "    <tr>\n",
       "      <th>Puzzle</th>\n",
       "      <td>1.00</td>\n",
       "      <td>0.002550</td>\n",
       "    </tr>\n",
       "  </tbody>\n",
       "</table>\n",
       "</div>"
      ],
      "text/plain": [
       "              eu_sales  sale_part\n",
       "genre                            \n",
       "Action          118.13   0.301175\n",
       "Shooter          87.86   0.224001\n",
       "Sports           60.52   0.154297\n",
       "Role-Playing     36.97   0.094256\n",
       "Racing           20.19   0.051475\n",
       "Misc             20.04   0.051092\n",
       "Platform         15.58   0.039722\n",
       "Simulation       10.92   0.027841\n",
       "Fighting          8.55   0.021798\n",
       "Adventure         8.25   0.021034\n",
       "Strategy          4.22   0.010759\n",
       "Puzzle            1.00   0.002550"
      ]
     },
     "metadata": {},
     "output_type": "display_data"
    }
   ],
   "source": [
    "eu_sales_total = new_data['eu_sales'].sum()\n",
    "na_sales_total = new_data['na_sales'].sum()\n",
    "jp_sales_total = new_data['jp_sales'].sum()\n",
    "eu_platform_pivoted = new_data.pivot_table(index='platform', values='eu_sales', aggfunc='sum').sort_values(by='eu_sales', ascending=False)\n",
    "eu_platform_pivoted['sale_part'] = eu_platform_pivoted['eu_sales'] / eu_sales_total\n",
    "display(eu_platform_pivoted)\n",
    "\n",
    "eu_genre_pivoted = new_data.pivot_table(index='genre', values='eu_sales', aggfunc='sum').sort_values(by='eu_sales', ascending=False)\n",
    "eu_genre_pivoted['sale_part'] = eu_genre_pivoted['eu_sales'] / eu_sales_total\n",
    "display(eu_genre_pivoted)"
   ]
  },
  {
   "cell_type": "markdown",
   "metadata": {},
   "source": [
    "На Европейском рынке наибольшей популярностью пользуются игры на платформе PS4 (36%), следом за этой платформой с большим отрывом идут: PS3 (17%), XOne (13%), X360 (11%) и 3DS (8%). Игры на прочих платформах занимают 15% рынка.\n",
    "Самые популярные жанры игр в Европе: Экшн (30%), Шутер (22%), Спорт (15%), Ролевые (9%) и Гонки (5%). Все остальные жанры игр занимают 19% рынка."
   ]
  },
  {
   "cell_type": "code",
   "execution_count": 28,
   "metadata": {},
   "outputs": [
    {
     "data": {
      "text/html": [
       "<div>\n",
       "<style scoped>\n",
       "    .dataframe tbody tr th:only-of-type {\n",
       "        vertical-align: middle;\n",
       "    }\n",
       "\n",
       "    .dataframe tbody tr th {\n",
       "        vertical-align: top;\n",
       "    }\n",
       "\n",
       "    .dataframe thead th {\n",
       "        text-align: right;\n",
       "    }\n",
       "</style>\n",
       "<table border=\"1\" class=\"dataframe\">\n",
       "  <thead>\n",
       "    <tr style=\"text-align: right;\">\n",
       "      <th></th>\n",
       "      <th>na_sales</th>\n",
       "      <th>sale_part</th>\n",
       "    </tr>\n",
       "    <tr>\n",
       "      <th>platform</th>\n",
       "      <th></th>\n",
       "      <th></th>\n",
       "    </tr>\n",
       "  </thead>\n",
       "  <tbody>\n",
       "    <tr>\n",
       "      <th>PS4</th>\n",
       "      <td>108.74</td>\n",
       "      <td>0.248429</td>\n",
       "    </tr>\n",
       "    <tr>\n",
       "      <th>XOne</th>\n",
       "      <td>93.12</td>\n",
       "      <td>0.212744</td>\n",
       "    </tr>\n",
       "    <tr>\n",
       "      <th>X360</th>\n",
       "      <td>81.66</td>\n",
       "      <td>0.186562</td>\n",
       "    </tr>\n",
       "    <tr>\n",
       "      <th>PS3</th>\n",
       "      <td>63.50</td>\n",
       "      <td>0.145073</td>\n",
       "    </tr>\n",
       "    <tr>\n",
       "      <th>3DS</th>\n",
       "      <td>38.20</td>\n",
       "      <td>0.087272</td>\n",
       "    </tr>\n",
       "    <tr>\n",
       "      <th>WiiU</th>\n",
       "      <td>29.21</td>\n",
       "      <td>0.066734</td>\n",
       "    </tr>\n",
       "    <tr>\n",
       "      <th>PC</th>\n",
       "      <td>11.11</td>\n",
       "      <td>0.025382</td>\n",
       "    </tr>\n",
       "    <tr>\n",
       "      <th>Wii</th>\n",
       "      <td>6.56</td>\n",
       "      <td>0.014987</td>\n",
       "    </tr>\n",
       "    <tr>\n",
       "      <th>PSV</th>\n",
       "      <td>5.04</td>\n",
       "      <td>0.011514</td>\n",
       "    </tr>\n",
       "    <tr>\n",
       "      <th>DS</th>\n",
       "      <td>0.57</td>\n",
       "      <td>0.001302</td>\n",
       "    </tr>\n",
       "    <tr>\n",
       "      <th>PSP</th>\n",
       "      <td>0.00</td>\n",
       "      <td>0.000000</td>\n",
       "    </tr>\n",
       "  </tbody>\n",
       "</table>\n",
       "</div>"
      ],
      "text/plain": [
       "          na_sales  sale_part\n",
       "platform                     \n",
       "PS4         108.74   0.248429\n",
       "XOne         93.12   0.212744\n",
       "X360         81.66   0.186562\n",
       "PS3          63.50   0.145073\n",
       "3DS          38.20   0.087272\n",
       "WiiU         29.21   0.066734\n",
       "PC           11.11   0.025382\n",
       "Wii           6.56   0.014987\n",
       "PSV           5.04   0.011514\n",
       "DS            0.57   0.001302\n",
       "PSP           0.00   0.000000"
      ]
     },
     "metadata": {},
     "output_type": "display_data"
    },
    {
     "data": {
      "text/html": [
       "<div>\n",
       "<style scoped>\n",
       "    .dataframe tbody tr th:only-of-type {\n",
       "        vertical-align: middle;\n",
       "    }\n",
       "\n",
       "    .dataframe tbody tr th {\n",
       "        vertical-align: top;\n",
       "    }\n",
       "\n",
       "    .dataframe thead th {\n",
       "        text-align: right;\n",
       "    }\n",
       "</style>\n",
       "<table border=\"1\" class=\"dataframe\">\n",
       "  <thead>\n",
       "    <tr style=\"text-align: right;\">\n",
       "      <th></th>\n",
       "      <th>na_sales</th>\n",
       "      <th>sale_part</th>\n",
       "    </tr>\n",
       "    <tr>\n",
       "      <th>genre</th>\n",
       "      <th></th>\n",
       "      <th></th>\n",
       "    </tr>\n",
       "  </thead>\n",
       "  <tbody>\n",
       "    <tr>\n",
       "      <th>Action</th>\n",
       "      <td>126.05</td>\n",
       "      <td>0.287976</td>\n",
       "    </tr>\n",
       "    <tr>\n",
       "      <th>Shooter</th>\n",
       "      <td>109.74</td>\n",
       "      <td>0.250714</td>\n",
       "    </tr>\n",
       "    <tr>\n",
       "      <th>Sports</th>\n",
       "      <td>65.27</td>\n",
       "      <td>0.149117</td>\n",
       "    </tr>\n",
       "    <tr>\n",
       "      <th>Role-Playing</th>\n",
       "      <td>46.40</td>\n",
       "      <td>0.106006</td>\n",
       "    </tr>\n",
       "    <tr>\n",
       "      <th>Misc</th>\n",
       "      <td>27.49</td>\n",
       "      <td>0.062804</td>\n",
       "    </tr>\n",
       "    <tr>\n",
       "      <th>Platform</th>\n",
       "      <td>18.14</td>\n",
       "      <td>0.041443</td>\n",
       "    </tr>\n",
       "    <tr>\n",
       "      <th>Fighting</th>\n",
       "      <td>15.55</td>\n",
       "      <td>0.035526</td>\n",
       "    </tr>\n",
       "    <tr>\n",
       "      <th>Racing</th>\n",
       "      <td>12.96</td>\n",
       "      <td>0.029609</td>\n",
       "    </tr>\n",
       "    <tr>\n",
       "      <th>Adventure</th>\n",
       "      <td>7.14</td>\n",
       "      <td>0.016312</td>\n",
       "    </tr>\n",
       "    <tr>\n",
       "      <th>Simulation</th>\n",
       "      <td>4.86</td>\n",
       "      <td>0.011103</td>\n",
       "    </tr>\n",
       "    <tr>\n",
       "      <th>Strategy</th>\n",
       "      <td>3.28</td>\n",
       "      <td>0.007494</td>\n",
       "    </tr>\n",
       "    <tr>\n",
       "      <th>Puzzle</th>\n",
       "      <td>0.83</td>\n",
       "      <td>0.001896</td>\n",
       "    </tr>\n",
       "  </tbody>\n",
       "</table>\n",
       "</div>"
      ],
      "text/plain": [
       "              na_sales  sale_part\n",
       "genre                            \n",
       "Action          126.05   0.287976\n",
       "Shooter         109.74   0.250714\n",
       "Sports           65.27   0.149117\n",
       "Role-Playing     46.40   0.106006\n",
       "Misc             27.49   0.062804\n",
       "Platform         18.14   0.041443\n",
       "Fighting         15.55   0.035526\n",
       "Racing           12.96   0.029609\n",
       "Adventure         7.14   0.016312\n",
       "Simulation        4.86   0.011103\n",
       "Strategy          3.28   0.007494\n",
       "Puzzle            0.83   0.001896"
      ]
     },
     "metadata": {},
     "output_type": "display_data"
    }
   ],
   "source": [
    "na_platform_pivoted = new_data.pivot_table(index='platform', values='na_sales', aggfunc='sum').sort_values(by='na_sales', ascending=False)\n",
    "na_platform_pivoted['sale_part'] = na_platform_pivoted['na_sales'] / na_sales_total\n",
    "display(na_platform_pivoted)\n",
    "\n",
    "na_genre_pivoted = new_data.pivot_table(index='genre', values='na_sales', aggfunc='sum').sort_values(by='na_sales', ascending=False)\n",
    "na_genre_pivoted['sale_part'] = na_genre_pivoted['na_sales'] / na_sales_total\n",
    "display(na_genre_pivoted)"
   ]
  },
  {
   "cell_type": "markdown",
   "metadata": {},
   "source": [
    "В Северной Америке наибольшей популярностью пользуются игры на платформах PS4 (25%), XOne (21%), X360 (19%), PS3 (14,5%) и 3DS (9%). Игры на прочих платформах занимают менее 12% рынка.\n",
    "Самые популярные жанры игр в Северной Америке: Экшн (29%), Шутер (25%), Спорт (15%), Ролевые (11%) и Misc (6%). Все остальные жанры игр занимают 14% рынка.\n",
    "Примечательно, что топ-5 Платформ в Северной Америке и Европе одинаковы, за исключением того, что PS3 в Северной Америке Уступает XOne и X360. А в Европе доля PS4 и PS3 в сумме занимает 53% рынка.\n",
    "Соотношение популярности топ-5 жанров в этих двух регионах поразительно схожи, за исключением Гонок. В Европе гонки в 2 раза менее популярны чем в Америке. "
   ]
  },
  {
   "cell_type": "code",
   "execution_count": 29,
   "metadata": {},
   "outputs": [
    {
     "data": {
      "text/html": [
       "<div>\n",
       "<style scoped>\n",
       "    .dataframe tbody tr th:only-of-type {\n",
       "        vertical-align: middle;\n",
       "    }\n",
       "\n",
       "    .dataframe tbody tr th {\n",
       "        vertical-align: top;\n",
       "    }\n",
       "\n",
       "    .dataframe thead th {\n",
       "        text-align: right;\n",
       "    }\n",
       "</style>\n",
       "<table border=\"1\" class=\"dataframe\">\n",
       "  <thead>\n",
       "    <tr style=\"text-align: right;\">\n",
       "      <th></th>\n",
       "      <th>jp_sales</th>\n",
       "      <th>sale_part</th>\n",
       "    </tr>\n",
       "    <tr>\n",
       "      <th>platform</th>\n",
       "      <th></th>\n",
       "      <th></th>\n",
       "    </tr>\n",
       "  </thead>\n",
       "  <tbody>\n",
       "    <tr>\n",
       "      <th>3DS</th>\n",
       "      <td>67.81</td>\n",
       "      <td>0.481674</td>\n",
       "    </tr>\n",
       "    <tr>\n",
       "      <th>PS3</th>\n",
       "      <td>23.35</td>\n",
       "      <td>0.165862</td>\n",
       "    </tr>\n",
       "    <tr>\n",
       "      <th>PSV</th>\n",
       "      <td>18.59</td>\n",
       "      <td>0.132050</td>\n",
       "    </tr>\n",
       "    <tr>\n",
       "      <th>PS4</th>\n",
       "      <td>15.96</td>\n",
       "      <td>0.113368</td>\n",
       "    </tr>\n",
       "    <tr>\n",
       "      <th>WiiU</th>\n",
       "      <td>10.88</td>\n",
       "      <td>0.077284</td>\n",
       "    </tr>\n",
       "    <tr>\n",
       "      <th>PSP</th>\n",
       "      <td>3.29</td>\n",
       "      <td>0.023370</td>\n",
       "    </tr>\n",
       "    <tr>\n",
       "      <th>X360</th>\n",
       "      <td>0.51</td>\n",
       "      <td>0.003623</td>\n",
       "    </tr>\n",
       "    <tr>\n",
       "      <th>XOne</th>\n",
       "      <td>0.34</td>\n",
       "      <td>0.002415</td>\n",
       "    </tr>\n",
       "    <tr>\n",
       "      <th>Wii</th>\n",
       "      <td>0.05</td>\n",
       "      <td>0.000355</td>\n",
       "    </tr>\n",
       "    <tr>\n",
       "      <th>DS</th>\n",
       "      <td>0.00</td>\n",
       "      <td>0.000000</td>\n",
       "    </tr>\n",
       "    <tr>\n",
       "      <th>PC</th>\n",
       "      <td>0.00</td>\n",
       "      <td>0.000000</td>\n",
       "    </tr>\n",
       "  </tbody>\n",
       "</table>\n",
       "</div>"
      ],
      "text/plain": [
       "          jp_sales  sale_part\n",
       "platform                     \n",
       "3DS          67.81   0.481674\n",
       "PS3          23.35   0.165862\n",
       "PSV          18.59   0.132050\n",
       "PS4          15.96   0.113368\n",
       "WiiU         10.88   0.077284\n",
       "PSP           3.29   0.023370\n",
       "X360          0.51   0.003623\n",
       "XOne          0.34   0.002415\n",
       "Wii           0.05   0.000355\n",
       "DS            0.00   0.000000\n",
       "PC            0.00   0.000000"
      ]
     },
     "metadata": {},
     "output_type": "display_data"
    },
    {
     "data": {
      "text/html": [
       "<div>\n",
       "<style scoped>\n",
       "    .dataframe tbody tr th:only-of-type {\n",
       "        vertical-align: middle;\n",
       "    }\n",
       "\n",
       "    .dataframe tbody tr th {\n",
       "        vertical-align: top;\n",
       "    }\n",
       "\n",
       "    .dataframe thead th {\n",
       "        text-align: right;\n",
       "    }\n",
       "</style>\n",
       "<table border=\"1\" class=\"dataframe\">\n",
       "  <thead>\n",
       "    <tr style=\"text-align: right;\">\n",
       "      <th></th>\n",
       "      <th>jp_sales</th>\n",
       "      <th>sale_part</th>\n",
       "    </tr>\n",
       "    <tr>\n",
       "      <th>genre</th>\n",
       "      <th></th>\n",
       "      <th></th>\n",
       "    </tr>\n",
       "  </thead>\n",
       "  <tbody>\n",
       "    <tr>\n",
       "      <th>Role-Playing</th>\n",
       "      <td>51.04</td>\n",
       "      <td>0.362551</td>\n",
       "    </tr>\n",
       "    <tr>\n",
       "      <th>Action</th>\n",
       "      <td>40.49</td>\n",
       "      <td>0.287612</td>\n",
       "    </tr>\n",
       "    <tr>\n",
       "      <th>Misc</th>\n",
       "      <td>9.20</td>\n",
       "      <td>0.065350</td>\n",
       "    </tr>\n",
       "    <tr>\n",
       "      <th>Fighting</th>\n",
       "      <td>7.65</td>\n",
       "      <td>0.054340</td>\n",
       "    </tr>\n",
       "    <tr>\n",
       "      <th>Shooter</th>\n",
       "      <td>6.61</td>\n",
       "      <td>0.046953</td>\n",
       "    </tr>\n",
       "    <tr>\n",
       "      <th>Adventure</th>\n",
       "      <td>5.82</td>\n",
       "      <td>0.041341</td>\n",
       "    </tr>\n",
       "    <tr>\n",
       "      <th>Sports</th>\n",
       "      <td>5.41</td>\n",
       "      <td>0.038429</td>\n",
       "    </tr>\n",
       "    <tr>\n",
       "      <th>Platform</th>\n",
       "      <td>4.79</td>\n",
       "      <td>0.034025</td>\n",
       "    </tr>\n",
       "    <tr>\n",
       "      <th>Simulation</th>\n",
       "      <td>4.52</td>\n",
       "      <td>0.032107</td>\n",
       "    </tr>\n",
       "    <tr>\n",
       "      <th>Racing</th>\n",
       "      <td>2.30</td>\n",
       "      <td>0.016338</td>\n",
       "    </tr>\n",
       "    <tr>\n",
       "      <th>Strategy</th>\n",
       "      <td>1.77</td>\n",
       "      <td>0.012573</td>\n",
       "    </tr>\n",
       "    <tr>\n",
       "      <th>Puzzle</th>\n",
       "      <td>1.18</td>\n",
       "      <td>0.008382</td>\n",
       "    </tr>\n",
       "  </tbody>\n",
       "</table>\n",
       "</div>"
      ],
      "text/plain": [
       "              jp_sales  sale_part\n",
       "genre                            \n",
       "Role-Playing     51.04   0.362551\n",
       "Action           40.49   0.287612\n",
       "Misc              9.20   0.065350\n",
       "Fighting          7.65   0.054340\n",
       "Shooter           6.61   0.046953\n",
       "Adventure         5.82   0.041341\n",
       "Sports            5.41   0.038429\n",
       "Platform          4.79   0.034025\n",
       "Simulation        4.52   0.032107\n",
       "Racing            2.30   0.016338\n",
       "Strategy          1.77   0.012573\n",
       "Puzzle            1.18   0.008382"
      ]
     },
     "metadata": {},
     "output_type": "display_data"
    }
   ],
   "source": [
    "jp_platform_pivoted = new_data.pivot_table(index='platform', values='jp_sales', aggfunc='sum').sort_values(by='jp_sales', ascending=False)\n",
    "jp_platform_pivoted['sale_part'] = jp_platform_pivoted['jp_sales'] / jp_sales_total\n",
    "display(jp_platform_pivoted)\n",
    "\n",
    "jp_genre_pivoted = new_data.pivot_table(index='genre', values='jp_sales', aggfunc='sum').sort_values(by='jp_sales', ascending=False)\n",
    "jp_genre_pivoted['sale_part'] = jp_genre_pivoted['jp_sales'] / jp_sales_total\n",
    "display(jp_genre_pivoted)"
   ]
  },
  {
   "cell_type": "markdown",
   "metadata": {},
   "source": [
    "В Японии наибольшей популярностью пользуются игры на платформе 3DS (48%), с большим отрывом идут PS3 (17%), PSV (13%), PS4 (11%) и WiiU (8%). Игры на прочих платформах занимают 3% рынка.\n",
    "Самые популярные жанры игр в Японии: Ролевые (36%), Экшн (29%), Misc (7%), Файтинг (5%) и Шутер (5%). Все остальные жанры игр занимают 18% рынка.\n",
    "Топ-5 платформ и жанров в Японии сильно отличается от данных по Европе и Северной Америке. Наблюдается сильная любовь к играм на платформе 3DS (Nintendo) - почти 50% рынка, более игры на более новой платформе PS4 чуть менее распространены чем на его предшественнике PS3.\n",
    "Японцы гораздо больше любят ролевые игры чем другие регионы, в то время как Шутер и Спорт их практически не привлекает. При этом Экшн любят везде примерно одинаково - во всех регионах он занимает примерно 30% рынка."
   ]
  },
  {
   "cell_type": "code",
   "execution_count": 30,
   "metadata": {},
   "outputs": [
    {
     "data": {
      "text/html": [
       "<div>\n",
       "<style scoped>\n",
       "    .dataframe tbody tr th:only-of-type {\n",
       "        vertical-align: middle;\n",
       "    }\n",
       "\n",
       "    .dataframe tbody tr th {\n",
       "        vertical-align: top;\n",
       "    }\n",
       "\n",
       "    .dataframe thead th {\n",
       "        text-align: right;\n",
       "    }\n",
       "</style>\n",
       "<table border=\"1\" class=\"dataframe\">\n",
       "  <thead>\n",
       "    <tr style=\"text-align: right;\">\n",
       "      <th></th>\n",
       "      <th>eu_sales</th>\n",
       "      <th>jp_sales</th>\n",
       "      <th>na_sales</th>\n",
       "    </tr>\n",
       "    <tr>\n",
       "      <th>rating</th>\n",
       "      <th></th>\n",
       "      <th></th>\n",
       "      <th></th>\n",
       "    </tr>\n",
       "  </thead>\n",
       "  <tbody>\n",
       "    <tr>\n",
       "      <th>M</th>\n",
       "      <td>145.32</td>\n",
       "      <td>14.11</td>\n",
       "      <td>165.21</td>\n",
       "    </tr>\n",
       "    <tr>\n",
       "      <th>неизвестно</th>\n",
       "      <td>78.91</td>\n",
       "      <td>85.05</td>\n",
       "      <td>89.42</td>\n",
       "    </tr>\n",
       "    <tr>\n",
       "      <th>E</th>\n",
       "      <td>83.36</td>\n",
       "      <td>15.14</td>\n",
       "      <td>79.05</td>\n",
       "    </tr>\n",
       "    <tr>\n",
       "      <th>E10+</th>\n",
       "      <td>42.69</td>\n",
       "      <td>5.89</td>\n",
       "      <td>54.24</td>\n",
       "    </tr>\n",
       "    <tr>\n",
       "      <th>T</th>\n",
       "      <td>41.95</td>\n",
       "      <td>20.59</td>\n",
       "      <td>49.79</td>\n",
       "    </tr>\n",
       "  </tbody>\n",
       "</table>\n",
       "</div>"
      ],
      "text/plain": [
       "            eu_sales  jp_sales  na_sales\n",
       "rating                                  \n",
       "M             145.32     14.11    165.21\n",
       "неизвестно     78.91     85.05     89.42\n",
       "E              83.36     15.14     79.05\n",
       "E10+           42.69      5.89     54.24\n",
       "T              41.95     20.59     49.79"
      ]
     },
     "execution_count": 30,
     "metadata": {},
     "output_type": "execute_result"
    }
   ],
   "source": [
    "new_data.pivot_table(index='rating', values=['na_sales', 'eu_sales', 'jp_sales'], aggfunc='sum').sort_values(by='na_sales', ascending=False)"
   ]
  },
  {
   "cell_type": "markdown",
   "metadata": {},
   "source": [
    "Жители Европы и Северной Америке больше предпочитают игры с рейтингом M (для взрослых). Данные игры могут содержать сцены жесткого насилия и большое количество крови.\n",
    "\n",
    "В Японии основная сумма продаж приходится на игры без рейтинга ESRB. Скорее всего это связано с особыми предпочтениями пользователей страны Восходящего Солнца: ранее мы уже выясняли, что предпочтения по жанрам и платформам жителей Японии разительно отличаются от предпочтений Европы и Северной Америки. А если учесть, что японцы и сами выпускают много платформ и игр к ним, то велика вероятность наличия игр популярных в Японии и в то же время неизвестных в Америке, а значит, не имеющих рейтинга ESRB. "
   ]
  },
  {
   "cell_type": "markdown",
   "metadata": {},
   "source": [
    "[*к оглавлению*](#content)"
   ]
  },
  {
   "cell_type": "markdown",
   "metadata": {},
   "source": [
    "**ПРОВЕРКА ГИПОТЕЗ**<a id='4-bullet'></a>"
   ]
  },
  {
   "cell_type": "markdown",
   "metadata": {},
   "source": [
    "**Проверим первую гипотезу:**\n",
    "Средние пользовательские рейтинги платформ Xbox One и PC одинаковые. Период исследования: 2013 - 2016 гг\n",
    "\n",
    "H_0: Средний пользовательский рейтинг (user_score) игр на платформе XOne = Средний пользовательский рейтинг (user_score) игр на платформе PC\n",
    "\n",
    "H_1: Средний пользовательский рейтинг (user_score) игр на платформе XOne ≠ Средний пользовательский рейтинг (user_score) игр на платформе PC"
   ]
  },
  {
   "cell_type": "code",
   "execution_count": 31,
   "metadata": {},
   "outputs": [],
   "source": [
    "new_data_user = new_data.dropna(subset=['user_score'])"
   ]
  },
  {
   "cell_type": "code",
   "execution_count": 32,
   "metadata": {},
   "outputs": [
    {
     "name": "stdout",
     "output_type": "stream",
     "text": [
      "0.14012658403611647\n",
      "Не получилось отвергнуть нулевую гипотезу\n"
     ]
    }
   ],
   "source": [
    "results = st.ttest_ind(new_data_user[new_data_user['platform']=='PC']['user_score'], new_data_user[new_data_user['platform']=='XOne']['user_score'])\n",
    "\n",
    "alpha = .05\n",
    "\n",
    "print(results.pvalue) \n",
    "if results.pvalue < alpha:\n",
    "    print('Отвергаем нулевую гипотезу')\n",
    "else:\n",
    "    print('Не получилось отвергнуть нулевую гипотезу')"
   ]
  },
  {
   "cell_type": "markdown",
   "metadata": {},
   "source": [
    "**Гипотеза не была отвергнута:** У нас нет оснований утверждать, что средние пользовательские рейтинги платформ Xbox One и PC значимо отличаются."
   ]
  },
  {
   "cell_type": "markdown",
   "metadata": {},
   "source": [
    "**Проверим вторую гипотезу:** Средние пользовательские рейтинги жанров Action (англ. «действие», экшен-игры) и Sports (англ. «спортивные соревнования») разные. Период исследования: 2013 - 2016 гг\n",
    "\n",
    "H_0: Средний пользовательский рейтинг (user_score) игр жанра Action = Средний пользовательский рейтинг (user_score) игр жанра Sports\n",
    "\n",
    "H_1: Средний пользовательский рейтинг (user_score) игр жанра Action ≠ Средний пользовательский рейтинг (user_score) игр жанра Sports"
   ]
  },
  {
   "cell_type": "code",
   "execution_count": 33,
   "metadata": {},
   "outputs": [
    {
     "name": "stdout",
     "output_type": "stream",
     "text": [
      "1.0517832389140023e-27\n",
      "Отвергаем нулевую гипотезу\n"
     ]
    }
   ],
   "source": [
    "results = st.ttest_ind(new_data_user[new_data_user['genre']=='Action']['user_score'], new_data_user[new_data_user['genre']=='Sports']['user_score'])\n",
    "\n",
    "alpha = .05\n",
    "\n",
    "print(results.pvalue) \n",
    "if results.pvalue < alpha:\n",
    "    print('Отвергаем нулевую гипотезу')\n",
    "else:\n",
    "    print('Не получилось отвергнуть нулевую гипотезу')"
   ]
  },
  {
   "cell_type": "markdown",
   "metadata": {},
   "source": [
    "**Гипотеза была отвергнута:**  Есть основания предполагать , что средние пользовательские рейтинги жанров Action (англ. «действие», экшен-игры) и Sports (англ. «спортивные соревнования») отличаются."
   ]
  },
  {
   "cell_type": "markdown",
   "metadata": {},
   "source": [
    "[*к оглавлению*](#content)"
   ]
  },
  {
   "cell_type": "markdown",
   "metadata": {},
   "source": [
    "**ОБЩИЙ ВЫВОД**<a id='5-bullet'></a>\n",
    "\n",
    "В ходе выполнения проекта мы:\n",
    "1. Обработали датасет с данными по играм и платформам на которых они работают: заполнили пропуски, проверили наличие дубликатов, изменили формат данных\n",
    "2. Проанализировали данные, представленные в таблице:\n",
    "- Выяснили, что пик выпусков игр пришелся на 2006-2011 гг, а также 2015 год - выпускалось больше 1000 игр в год.\n",
    "- Пик выпусков новых игр пришелся на 2007-2011 гг. и 2015 год (больше 300 игр в год). \n",
    "- Выяснили, что платформы набирают популярность в течение первых 3-х лет, среднее время нахождения платформы на пике популярности - 1 год. После чего идет постепенный спад и количество игр выпускаемых на этих платформах падает.\n",
    "\n",
    "В связи с этим мы выбрали период для дальнейшего анализа 4 года - с 2013 по 2016 гг.\n",
    "\n",
    "- Отметили, что суммарный объем продаж игр по большей части платформ падает. Исключение составляет X360, которая только начала расти в 2015 году. Топ-5 платформ по объему продаж за последние 4 года: PS4, PS3, XOne, 3DS и X360.\n",
    "- На ящике с усами по глобальным продажам в разбивке по платформам отметили:\n",
    "    - на платформах PS3, x360, PS4 и 3DS есть игры-\"звезды\" - игры с рекордной суммой глобальных продаж;\n",
    "    - самый высокий показатель медианной суммы продаж у игр на платформе X360;\n",
    "    - за ней следуют платформы: XOne, PS4 и WiiU; \n",
    "    - самые низкий показатель - у PSP, PSV, PC и 3DS.\n",
    "- Узнали, что отсутствует связь между оценками критиков и пользователей и объемом продаж. Это верно как для самой крупной по объему продаж платформы - PS4, так и для менее крупных платформ PS3, XOne и 3DS.\n",
    "- Узнали, что самыми прибыльными жанрами являются Шутер, Спортивные игры и Platform. Игры этих жанров в среднем продаются производителями по 450, 240 и 220 тысяч копий. При этом стратегии и паззлы и приключения оказались самыми неприбыльными жанрами\n",
    "\n",
    "\n",
    "**Составили портрет пользователя для регионов: Северная Америка, Европа и Япония**\n",
    "1. На Европейском рынке наибольшей популярностью пользуются игры на платформе PS4 (36%), следом за этой платформой с большим отрывом идут: PS3 (17%), XOne (13%), X360 (11%) и 3DS (8%). Игры на прочих платформах занимают 15% рынка. Самые популярные жанры игр в Европе: Экшн (30%), Шутер (22%), Спорт (15%), Ролевые (9%) и Гонки (5%). Все остальные жанры игр занимают 19% рынка.\n",
    "\n",
    "\n",
    "2. В Северной Америке наибольшей популярностью пользуются игры на платформах PS4 (25%), XOne (21%), X360 (19%), PS3 (14,5%) и 3DS (9%). Игры на прочих платформах занимают менее 12% рынка. Самые популярные жанры игр в Северной Америке: Экшн (29%), Шутер (25%), Спорт (15%), Ролевые (11%) и Misc (6%). Все остальные жанры игр занимают 14% рынка. \n",
    "\n",
    "    Примечательно, что топ-5 Платформ в Северной Америке и Европе одинаковы, за исключением того, что PS3 в Северной Америке Уступает XOne и X360. А в Европе доля PS4 и PS3 в сумме занимает 53% рынка. Соотношение популярности топ-5 жанров в этих двух регионах поразительно схожи, за исключением Гонок. В Европе гонки в 2 раза менее популярны чем в Америке.\n",
    "\n",
    "\n",
    "3. В Японии наибольшей популярностью пользуются игры на платформе 3DS (48%), с большим отрывом идут PS3 (17%), PSV (13%), PS4 (11%) и WiiU (8%). Игры на прочих платформах занимают 3% рынка. Самые популярные жанры игр в Японии: Ролевые (36%), Экшн (29%), Misc (7%), Файтинг (5%) и Шутер (5%). Все остальные жанры игр занимают 18% рынка. \n",
    "\n",
    "    Топ-5 платформ и жанров в Японии сильно отличается от данных по Европе и Северной Америке. Наблюдается сильная любовь к играм на платформе 3DS (Nintendo) - почти 50% рынка, более игры на более новой платформе PS4 чуть менее распространены чем на его предшественнике PS3. Японцы гораздо больше любят ролевые игры чем другие регионы, в то время как Шутер и Спорт их практически не привлекает. При этом Экшн любят везде примерно одинаково - во всех регионах он занимает примерно 30% рынка.\n",
    "\n",
    "\n",
    "4. Жители Европы и Северной Америке больше предпочитают игры с рейтингом M (для взрослых). Данные игры могут содержать сцены жесткого насилия и большое количество крови.\n",
    "\n",
    "**Проверили гипотезы**\n",
    "\n",
    "1. *Гипотеза не была отвергнута:* У нас нет оснований утверждать, что средние пользовательские рейтинги платформ Xbox One и PC значимо отличаются.\n",
    "2. *Гипотеза была отвергнута:* Есть основания предполагать , что средние пользовательские рейтинги жанров Action (англ. «действие», экшен-игры) и Sports (англ. «спортивные соревнования») отличаются.\n",
    "\n",
    "Проведенная работа может помочь подобрать наиболее подходящие игры и платформы для своих интернет-магазинов в разных регионах, а также определить какие именно складские запасы будут наиболее релевантны для Северной Америке, а какие станут \"мёртвым грузом\" для склада в Японии."
   ]
  }
 ],
 "metadata": {
  "ExecuteTimeLog": [
   {
    "duration": 559,
    "start_time": "2022-11-20T07:43:47.774Z"
   },
   {
    "duration": 13,
    "start_time": "2022-11-20T07:43:57.621Z"
   },
   {
    "duration": 60,
    "start_time": "2022-11-20T07:48:56.547Z"
   },
   {
    "duration": 8,
    "start_time": "2022-11-20T07:49:10.937Z"
   },
   {
    "duration": 68,
    "start_time": "2022-11-20T17:01:05.624Z"
   },
   {
    "duration": 683,
    "start_time": "2022-11-20T17:01:14.850Z"
   },
   {
    "duration": 19,
    "start_time": "2022-11-20T17:01:15.535Z"
   },
   {
    "duration": 10,
    "start_time": "2022-11-20T17:01:15.558Z"
   },
   {
    "duration": 21,
    "start_time": "2022-11-20T17:01:27.380Z"
   },
   {
    "duration": 117,
    "start_time": "2022-11-20T17:05:49.171Z"
   },
   {
    "duration": 14,
    "start_time": "2022-11-20T17:06:31.469Z"
   },
   {
    "duration": 14,
    "start_time": "2022-11-20T17:08:12.170Z"
   },
   {
    "duration": 10,
    "start_time": "2022-11-20T17:08:16.231Z"
   },
   {
    "duration": 171,
    "start_time": "2022-11-20T17:09:51.904Z"
   },
   {
    "duration": 25,
    "start_time": "2022-11-20T17:10:24.904Z"
   },
   {
    "duration": 19,
    "start_time": "2022-11-20T17:10:59.522Z"
   },
   {
    "duration": 21,
    "start_time": "2022-11-20T17:11:43.560Z"
   },
   {
    "duration": 16,
    "start_time": "2022-11-20T17:12:01.187Z"
   },
   {
    "duration": 5,
    "start_time": "2022-11-20T17:14:25.786Z"
   },
   {
    "duration": 5,
    "start_time": "2022-11-20T17:15:00.877Z"
   },
   {
    "duration": 80,
    "start_time": "2022-11-20T17:16:57.390Z"
   },
   {
    "duration": 88,
    "start_time": "2022-11-20T17:17:23.533Z"
   },
   {
    "duration": 22,
    "start_time": "2022-11-20T17:17:30.865Z"
   },
   {
    "duration": 31,
    "start_time": "2022-11-20T17:18:18.679Z"
   },
   {
    "duration": 29,
    "start_time": "2022-11-20T17:20:52.498Z"
   },
   {
    "duration": 17,
    "start_time": "2022-11-20T17:21:02.313Z"
   },
   {
    "duration": 469,
    "start_time": "2022-11-20T17:21:31.351Z"
   },
   {
    "duration": 15,
    "start_time": "2022-11-20T17:21:31.822Z"
   },
   {
    "duration": 32,
    "start_time": "2022-11-20T17:21:31.839Z"
   },
   {
    "duration": 478,
    "start_time": "2022-11-20T17:22:11.704Z"
   },
   {
    "duration": 23,
    "start_time": "2022-11-20T17:22:12.186Z"
   },
   {
    "duration": 124,
    "start_time": "2022-11-20T17:22:12.211Z"
   },
   {
    "duration": 28,
    "start_time": "2022-11-20T17:22:58.677Z"
   },
   {
    "duration": 31,
    "start_time": "2022-11-20T17:23:14.834Z"
   },
   {
    "duration": 507,
    "start_time": "2022-11-20T17:23:21.337Z"
   },
   {
    "duration": 20,
    "start_time": "2022-11-20T17:23:21.846Z"
   },
   {
    "duration": 36,
    "start_time": "2022-11-20T17:23:21.870Z"
   },
   {
    "duration": 467,
    "start_time": "2022-11-20T17:27:49.003Z"
   },
   {
    "duration": 16,
    "start_time": "2022-11-20T17:27:49.472Z"
   },
   {
    "duration": 24,
    "start_time": "2022-11-20T17:27:49.489Z"
   },
   {
    "duration": 465,
    "start_time": "2022-11-20T17:30:33.673Z"
   },
   {
    "duration": 22,
    "start_time": "2022-11-20T17:30:34.140Z"
   },
   {
    "duration": 16,
    "start_time": "2022-11-20T17:30:34.177Z"
   },
   {
    "duration": 21,
    "start_time": "2022-11-20T17:30:34.195Z"
   },
   {
    "duration": 24,
    "start_time": "2022-11-20T17:30:52.347Z"
   },
   {
    "duration": 17,
    "start_time": "2022-11-20T17:31:11.780Z"
   },
   {
    "duration": 536,
    "start_time": "2022-11-20T17:33:16.490Z"
   },
   {
    "duration": 16,
    "start_time": "2022-11-20T17:33:17.028Z"
   },
   {
    "duration": 59,
    "start_time": "2022-11-20T17:33:17.045Z"
   },
   {
    "duration": 56,
    "start_time": "2022-11-20T17:33:17.107Z"
   },
   {
    "duration": 32,
    "start_time": "2022-11-20T17:33:30.492Z"
   },
   {
    "duration": 92,
    "start_time": "2022-11-20T17:36:02.371Z"
   },
   {
    "duration": 23,
    "start_time": "2022-11-20T17:37:23.766Z"
   },
   {
    "duration": 23,
    "start_time": "2022-11-20T17:38:57.006Z"
   },
   {
    "duration": 24,
    "start_time": "2022-11-20T17:39:42.025Z"
   },
   {
    "duration": 504,
    "start_time": "2022-11-20T17:40:04.771Z"
   },
   {
    "duration": 15,
    "start_time": "2022-11-20T17:40:05.277Z"
   },
   {
    "duration": 31,
    "start_time": "2022-11-20T17:40:05.293Z"
   },
   {
    "duration": 42,
    "start_time": "2022-11-20T17:40:05.326Z"
   },
   {
    "duration": 67,
    "start_time": "2022-11-20T18:47:25.050Z"
   },
   {
    "duration": 74,
    "start_time": "2022-11-20T18:48:12.075Z"
   },
   {
    "duration": 469,
    "start_time": "2022-11-20T18:48:30.001Z"
   },
   {
    "duration": 16,
    "start_time": "2022-11-20T18:48:30.473Z"
   },
   {
    "duration": 14,
    "start_time": "2022-11-20T18:48:30.490Z"
   },
   {
    "duration": 100,
    "start_time": "2022-11-20T18:48:30.506Z"
   },
   {
    "duration": 0,
    "start_time": "2022-11-20T18:48:30.608Z"
   },
   {
    "duration": 17,
    "start_time": "2022-11-20T18:52:01.752Z"
   },
   {
    "duration": 24,
    "start_time": "2022-11-20T18:52:27.991Z"
   },
   {
    "duration": 11,
    "start_time": "2022-11-20T18:52:44.369Z"
   },
   {
    "duration": 461,
    "start_time": "2022-11-20T18:53:00.908Z"
   },
   {
    "duration": 17,
    "start_time": "2022-11-20T18:53:01.371Z"
   },
   {
    "duration": 16,
    "start_time": "2022-11-20T18:53:01.389Z"
   },
   {
    "duration": 90,
    "start_time": "2022-11-20T18:53:01.407Z"
   },
   {
    "duration": 0,
    "start_time": "2022-11-20T18:53:01.498Z"
   },
   {
    "duration": 10,
    "start_time": "2022-11-20T18:54:16.063Z"
   },
   {
    "duration": 3,
    "start_time": "2022-11-20T18:54:28.997Z"
   },
   {
    "duration": 73,
    "start_time": "2022-11-20T18:57:48.630Z"
   },
   {
    "duration": 138,
    "start_time": "2022-11-20T18:58:12.075Z"
   },
   {
    "duration": 16,
    "start_time": "2022-11-20T18:59:01.125Z"
   },
   {
    "duration": 20,
    "start_time": "2022-11-20T19:01:37.449Z"
   },
   {
    "duration": 37,
    "start_time": "2022-11-20T19:01:50.675Z"
   },
   {
    "duration": 30,
    "start_time": "2022-11-20T19:02:03.634Z"
   },
   {
    "duration": 11,
    "start_time": "2022-11-20T19:02:33.992Z"
   },
   {
    "duration": 175,
    "start_time": "2022-11-20T19:02:43.205Z"
   },
   {
    "duration": 221,
    "start_time": "2022-11-20T19:03:09.471Z"
   },
   {
    "duration": 52,
    "start_time": "2022-11-21T09:01:48.520Z"
   },
   {
    "duration": 504,
    "start_time": "2022-11-21T09:01:53.981Z"
   },
   {
    "duration": 14,
    "start_time": "2022-11-21T09:01:54.487Z"
   },
   {
    "duration": 11,
    "start_time": "2022-11-21T09:01:54.502Z"
   },
   {
    "duration": 34,
    "start_time": "2022-11-21T09:01:54.515Z"
   },
   {
    "duration": 79,
    "start_time": "2022-11-21T09:03:51.764Z"
   },
   {
    "duration": 23,
    "start_time": "2022-11-21T09:04:40.020Z"
   },
   {
    "duration": 17,
    "start_time": "2022-11-21T09:06:08.868Z"
   },
   {
    "duration": 26,
    "start_time": "2022-11-21T09:06:20.140Z"
   },
   {
    "duration": 34,
    "start_time": "2022-11-21T09:06:30.692Z"
   },
   {
    "duration": 26,
    "start_time": "2022-11-21T09:06:36.910Z"
   },
   {
    "duration": 20,
    "start_time": "2022-11-21T09:11:51.307Z"
   },
   {
    "duration": 454,
    "start_time": "2022-11-21T09:12:37.743Z"
   },
   {
    "duration": 14,
    "start_time": "2022-11-21T09:12:38.199Z"
   },
   {
    "duration": 10,
    "start_time": "2022-11-21T09:12:38.214Z"
   },
   {
    "duration": 104,
    "start_time": "2022-11-21T09:12:38.226Z"
   },
   {
    "duration": 31,
    "start_time": "2022-11-21T09:12:57.320Z"
   },
   {
    "duration": 434,
    "start_time": "2022-11-21T09:13:14.731Z"
   },
   {
    "duration": 15,
    "start_time": "2022-11-21T09:13:15.167Z"
   },
   {
    "duration": 11,
    "start_time": "2022-11-21T09:13:15.183Z"
   },
   {
    "duration": 111,
    "start_time": "2022-11-21T09:13:15.196Z"
   },
   {
    "duration": 24,
    "start_time": "2022-11-21T09:13:37.330Z"
   },
   {
    "duration": 29,
    "start_time": "2022-11-21T09:15:18.865Z"
   },
   {
    "duration": 430,
    "start_time": "2022-11-21T09:15:49.613Z"
   },
   {
    "duration": 14,
    "start_time": "2022-11-21T09:15:50.045Z"
   },
   {
    "duration": 25,
    "start_time": "2022-11-21T09:15:50.060Z"
   },
   {
    "duration": 92,
    "start_time": "2022-11-21T09:15:50.087Z"
   },
   {
    "duration": 0,
    "start_time": "2022-11-21T09:15:50.181Z"
   },
   {
    "duration": 33,
    "start_time": "2022-11-21T09:16:11.398Z"
   },
   {
    "duration": 16,
    "start_time": "2022-11-21T09:18:00.754Z"
   },
   {
    "duration": 27,
    "start_time": "2022-11-21T09:18:12.834Z"
   },
   {
    "duration": 15,
    "start_time": "2022-11-21T09:18:27.321Z"
   },
   {
    "duration": 15,
    "start_time": "2022-11-21T09:19:22.657Z"
   },
   {
    "duration": 13,
    "start_time": "2022-11-21T09:19:46.284Z"
   },
   {
    "duration": 14,
    "start_time": "2022-11-21T09:20:19.167Z"
   },
   {
    "duration": 47,
    "start_time": "2022-11-21T09:20:41.928Z"
   },
   {
    "duration": 50,
    "start_time": "2022-11-21T09:20:52.012Z"
   },
   {
    "duration": 14,
    "start_time": "2022-11-21T09:21:27.989Z"
   },
   {
    "duration": 16,
    "start_time": "2022-11-21T09:22:25.719Z"
   },
   {
    "duration": 21,
    "start_time": "2022-11-21T09:23:02.580Z"
   },
   {
    "duration": 7,
    "start_time": "2022-11-21T09:24:41.206Z"
   },
   {
    "duration": 421,
    "start_time": "2022-11-21T09:25:04.398Z"
   },
   {
    "duration": 18,
    "start_time": "2022-11-21T09:25:04.821Z"
   },
   {
    "duration": 16,
    "start_time": "2022-11-21T09:25:04.841Z"
   },
   {
    "duration": 23,
    "start_time": "2022-11-21T09:25:04.860Z"
   },
   {
    "duration": 114,
    "start_time": "2022-11-21T09:25:04.886Z"
   },
   {
    "duration": 481,
    "start_time": "2022-11-21T09:26:17.468Z"
   },
   {
    "duration": 13,
    "start_time": "2022-11-21T09:26:17.951Z"
   },
   {
    "duration": 10,
    "start_time": "2022-11-21T09:26:17.965Z"
   },
   {
    "duration": 90,
    "start_time": "2022-11-21T09:26:17.977Z"
   },
   {
    "duration": 39,
    "start_time": "2022-11-21T09:32:42.901Z"
   },
   {
    "duration": 502,
    "start_time": "2022-11-21T09:32:51.461Z"
   },
   {
    "duration": 22,
    "start_time": "2022-11-21T09:32:51.965Z"
   },
   {
    "duration": 36,
    "start_time": "2022-11-21T09:32:51.991Z"
   },
   {
    "duration": 139,
    "start_time": "2022-11-21T09:32:52.030Z"
   },
   {
    "duration": 445,
    "start_time": "2022-11-21T09:34:05.217Z"
   },
   {
    "duration": 14,
    "start_time": "2022-11-21T09:34:05.664Z"
   },
   {
    "duration": 11,
    "start_time": "2022-11-21T09:34:05.680Z"
   },
   {
    "duration": 108,
    "start_time": "2022-11-21T09:34:05.692Z"
   },
   {
    "duration": 57,
    "start_time": "2022-11-21T09:34:19.025Z"
   },
   {
    "duration": 60,
    "start_time": "2022-11-21T09:35:10.378Z"
   },
   {
    "duration": 431,
    "start_time": "2022-11-21T09:35:22.093Z"
   },
   {
    "duration": 14,
    "start_time": "2022-11-21T09:35:22.525Z"
   },
   {
    "duration": 18,
    "start_time": "2022-11-21T09:35:22.541Z"
   },
   {
    "duration": 87,
    "start_time": "2022-11-21T09:35:22.561Z"
   },
   {
    "duration": 17,
    "start_time": "2022-11-21T09:36:33.325Z"
   },
   {
    "duration": 20,
    "start_time": "2022-11-21T09:37:29.652Z"
   },
   {
    "duration": 19,
    "start_time": "2022-11-21T09:38:36.595Z"
   },
   {
    "duration": 446,
    "start_time": "2022-11-21T09:47:26.894Z"
   },
   {
    "duration": 14,
    "start_time": "2022-11-21T09:47:27.341Z"
   },
   {
    "duration": 10,
    "start_time": "2022-11-21T09:47:27.357Z"
   },
   {
    "duration": 77,
    "start_time": "2022-11-21T09:47:27.369Z"
   },
   {
    "duration": 453,
    "start_time": "2022-11-21T09:48:49.066Z"
   },
   {
    "duration": 12,
    "start_time": "2022-11-21T09:48:49.521Z"
   },
   {
    "duration": 13,
    "start_time": "2022-11-21T09:48:49.535Z"
   },
   {
    "duration": 112,
    "start_time": "2022-11-21T09:48:49.550Z"
   },
   {
    "duration": 481,
    "start_time": "2022-11-21T09:49:51.384Z"
   },
   {
    "duration": 14,
    "start_time": "2022-11-21T09:49:51.867Z"
   },
   {
    "duration": 16,
    "start_time": "2022-11-21T09:49:51.883Z"
   },
   {
    "duration": 34,
    "start_time": "2022-11-21T09:49:51.900Z"
   },
   {
    "duration": 452,
    "start_time": "2022-11-21T09:50:47.494Z"
   },
   {
    "duration": 16,
    "start_time": "2022-11-21T09:50:47.949Z"
   },
   {
    "duration": 28,
    "start_time": "2022-11-21T09:50:47.966Z"
   },
   {
    "duration": 50,
    "start_time": "2022-11-21T09:50:47.997Z"
   },
   {
    "duration": 397,
    "start_time": "2022-11-21T09:53:30.831Z"
   },
   {
    "duration": 13,
    "start_time": "2022-11-21T09:53:31.230Z"
   },
   {
    "duration": 41,
    "start_time": "2022-11-21T09:53:31.244Z"
   },
   {
    "duration": 102,
    "start_time": "2022-11-21T09:53:31.287Z"
   },
   {
    "duration": 431,
    "start_time": "2022-11-21T09:54:00.321Z"
   },
   {
    "duration": 15,
    "start_time": "2022-11-21T09:54:00.754Z"
   },
   {
    "duration": 43,
    "start_time": "2022-11-21T09:54:00.770Z"
   },
   {
    "duration": 51,
    "start_time": "2022-11-21T09:54:00.815Z"
   },
   {
    "duration": 5,
    "start_time": "2022-11-21T09:56:37.291Z"
   },
   {
    "duration": 451,
    "start_time": "2022-11-21T09:56:54.730Z"
   },
   {
    "duration": 14,
    "start_time": "2022-11-21T09:56:55.183Z"
   },
   {
    "duration": 28,
    "start_time": "2022-11-21T09:56:55.198Z"
   },
   {
    "duration": 29,
    "start_time": "2022-11-21T09:56:55.228Z"
   },
   {
    "duration": 26,
    "start_time": "2022-11-21T09:56:55.259Z"
   },
   {
    "duration": 529,
    "start_time": "2022-11-21T10:01:12.970Z"
   },
   {
    "duration": 75,
    "start_time": "2022-11-21T10:03:44.527Z"
   },
   {
    "duration": 139,
    "start_time": "2022-11-21T10:04:13.797Z"
   },
   {
    "duration": 136,
    "start_time": "2022-11-21T10:06:31.566Z"
   },
   {
    "duration": 133,
    "start_time": "2022-11-21T10:06:48.186Z"
   },
   {
    "duration": 5,
    "start_time": "2022-11-21T10:09:24.368Z"
   },
   {
    "duration": 19,
    "start_time": "2022-11-21T10:09:31.574Z"
   },
   {
    "duration": 28,
    "start_time": "2022-11-21T10:09:42.646Z"
   },
   {
    "duration": 104,
    "start_time": "2022-11-21T10:10:33.783Z"
   },
   {
    "duration": 16,
    "start_time": "2022-11-21T10:10:52.909Z"
   },
   {
    "duration": 15,
    "start_time": "2022-11-21T10:11:06.600Z"
   },
   {
    "duration": 15,
    "start_time": "2022-11-21T10:11:21.210Z"
   },
   {
    "duration": 8,
    "start_time": "2022-11-21T10:12:38.813Z"
   },
   {
    "duration": 63,
    "start_time": "2022-11-21T10:15:22.037Z"
   },
   {
    "duration": 29,
    "start_time": "2022-11-21T10:17:23.553Z"
   },
   {
    "duration": 16,
    "start_time": "2022-11-21T10:19:15.940Z"
   },
   {
    "duration": 14,
    "start_time": "2022-11-21T10:19:31.713Z"
   },
   {
    "duration": 159,
    "start_time": "2022-11-21T10:19:36.086Z"
   },
   {
    "duration": 143,
    "start_time": "2022-11-21T10:19:57.160Z"
   },
   {
    "duration": 454,
    "start_time": "2022-11-21T10:21:23.143Z"
   },
   {
    "duration": 13,
    "start_time": "2022-11-21T10:21:23.598Z"
   },
   {
    "duration": 41,
    "start_time": "2022-11-21T10:21:23.612Z"
   },
   {
    "duration": 54,
    "start_time": "2022-11-21T10:21:23.655Z"
   },
   {
    "duration": 45,
    "start_time": "2022-11-21T10:21:23.711Z"
   },
   {
    "duration": 363,
    "start_time": "2022-11-21T10:21:23.758Z"
   },
   {
    "duration": 15,
    "start_time": "2022-11-21T10:21:24.123Z"
   },
   {
    "duration": 147,
    "start_time": "2022-11-21T10:21:24.140Z"
   },
   {
    "duration": 138,
    "start_time": "2022-11-21T10:21:24.289Z"
   },
   {
    "duration": 126,
    "start_time": "2022-11-21T10:21:24.429Z"
   },
   {
    "duration": 134,
    "start_time": "2022-11-21T10:21:24.557Z"
   },
   {
    "duration": 211,
    "start_time": "2022-11-21T10:21:24.693Z"
   },
   {
    "duration": 144,
    "start_time": "2022-11-21T10:21:24.906Z"
   },
   {
    "duration": 286,
    "start_time": "2022-11-21T10:23:10.853Z"
   },
   {
    "duration": 610,
    "start_time": "2022-11-21T10:23:34.743Z"
   },
   {
    "duration": 780,
    "start_time": "2022-11-21T10:24:25.528Z"
   },
   {
    "duration": 784,
    "start_time": "2022-11-21T10:32:47.571Z"
   },
   {
    "duration": 703,
    "start_time": "2022-11-21T10:32:54.010Z"
   },
   {
    "duration": 789,
    "start_time": "2022-11-21T10:37:14.450Z"
   },
   {
    "duration": 811,
    "start_time": "2022-11-21T10:38:00.097Z"
   },
   {
    "duration": 727,
    "start_time": "2022-11-21T10:38:12.222Z"
   },
   {
    "duration": 788,
    "start_time": "2022-11-21T10:38:48.665Z"
   },
   {
    "duration": 303,
    "start_time": "2022-11-21T10:40:23.330Z"
   },
   {
    "duration": 142,
    "start_time": "2022-11-21T10:40:42.961Z"
   },
   {
    "duration": 127,
    "start_time": "2022-11-21T10:41:06.506Z"
   },
   {
    "duration": 121,
    "start_time": "2022-11-21T10:41:47.620Z"
   },
   {
    "duration": 127,
    "start_time": "2022-11-21T10:41:55.333Z"
   },
   {
    "duration": 444,
    "start_time": "2022-11-21T10:43:41.604Z"
   },
   {
    "duration": 13,
    "start_time": "2022-11-21T10:43:42.050Z"
   },
   {
    "duration": 47,
    "start_time": "2022-11-21T10:43:42.064Z"
   },
   {
    "duration": 44,
    "start_time": "2022-11-21T10:43:42.113Z"
   },
   {
    "duration": 49,
    "start_time": "2022-11-21T10:43:42.158Z"
   },
   {
    "duration": 405,
    "start_time": "2022-11-21T10:43:42.208Z"
   },
   {
    "duration": 17,
    "start_time": "2022-11-21T10:43:42.615Z"
   },
   {
    "duration": 891,
    "start_time": "2022-11-21T10:43:42.634Z"
   },
   {
    "duration": 14,
    "start_time": "2022-11-21T10:57:45.128Z"
   },
   {
    "duration": 196,
    "start_time": "2022-11-21T10:58:36.964Z"
   },
   {
    "duration": 605,
    "start_time": "2022-11-21T10:59:17.541Z"
   },
   {
    "duration": 793,
    "start_time": "2022-11-21T10:59:42.838Z"
   },
   {
    "duration": 807,
    "start_time": "2022-11-21T11:04:00.011Z"
   },
   {
    "duration": 846,
    "start_time": "2022-11-21T11:04:21.453Z"
   },
   {
    "duration": 773,
    "start_time": "2022-11-21T11:04:30.721Z"
   },
   {
    "duration": 861,
    "start_time": "2022-11-21T11:04:50.530Z"
   },
   {
    "duration": 960,
    "start_time": "2022-11-21T11:05:21.082Z"
   },
   {
    "duration": 813,
    "start_time": "2022-11-21T11:05:48.300Z"
   },
   {
    "duration": 783,
    "start_time": "2022-11-21T11:07:02.235Z"
   },
   {
    "duration": 890,
    "start_time": "2022-11-21T11:07:10.957Z"
   },
   {
    "duration": 477,
    "start_time": "2022-11-21T11:12:45.780Z"
   },
   {
    "duration": 13,
    "start_time": "2022-11-21T11:12:46.259Z"
   },
   {
    "duration": 11,
    "start_time": "2022-11-21T11:12:46.274Z"
   },
   {
    "duration": 26,
    "start_time": "2022-11-21T11:12:46.288Z"
   },
   {
    "duration": 28,
    "start_time": "2022-11-21T11:12:46.316Z"
   },
   {
    "duration": 385,
    "start_time": "2022-11-21T11:12:46.345Z"
   },
   {
    "duration": 16,
    "start_time": "2022-11-21T11:12:46.732Z"
   },
   {
    "duration": 797,
    "start_time": "2022-11-21T11:12:46.749Z"
   },
   {
    "duration": 6,
    "start_time": "2022-11-21T11:12:47.548Z"
   },
   {
    "duration": 835,
    "start_time": "2022-11-21T11:12:47.556Z"
   },
   {
    "duration": 1117,
    "start_time": "2022-11-21T11:18:51.729Z"
   },
   {
    "duration": 13,
    "start_time": "2022-11-21T11:18:52.847Z"
   },
   {
    "duration": 11,
    "start_time": "2022-11-21T11:18:52.861Z"
   },
   {
    "duration": 19,
    "start_time": "2022-11-21T11:18:52.874Z"
   },
   {
    "duration": 26,
    "start_time": "2022-11-21T11:18:52.894Z"
   },
   {
    "duration": 156,
    "start_time": "2022-11-21T11:18:52.921Z"
   },
   {
    "duration": 15,
    "start_time": "2022-11-21T11:18:53.079Z"
   },
   {
    "duration": 747,
    "start_time": "2022-11-21T11:18:53.096Z"
   },
   {
    "duration": 5,
    "start_time": "2022-11-21T11:18:53.845Z"
   },
   {
    "duration": 769,
    "start_time": "2022-11-21T11:18:53.852Z"
   },
   {
    "duration": 1354,
    "start_time": "2022-11-21T21:37:04.427Z"
   },
   {
    "duration": 14,
    "start_time": "2022-11-21T21:37:05.783Z"
   },
   {
    "duration": 14,
    "start_time": "2022-11-21T21:37:05.798Z"
   },
   {
    "duration": 20,
    "start_time": "2022-11-21T21:37:05.813Z"
   },
   {
    "duration": 25,
    "start_time": "2022-11-21T21:37:05.835Z"
   },
   {
    "duration": 175,
    "start_time": "2022-11-21T21:37:05.861Z"
   },
   {
    "duration": 14,
    "start_time": "2022-11-21T21:37:06.038Z"
   },
   {
    "duration": 724,
    "start_time": "2022-11-21T21:37:06.054Z"
   },
   {
    "duration": 7,
    "start_time": "2022-11-21T21:37:06.780Z"
   },
   {
    "duration": 788,
    "start_time": "2022-11-21T21:37:06.797Z"
   },
   {
    "duration": 1549,
    "start_time": "2022-11-21T21:49:44.897Z"
   },
   {
    "duration": 337,
    "start_time": "2022-11-21T21:50:17.794Z"
   },
   {
    "duration": 113,
    "start_time": "2022-11-21T21:52:33.038Z"
   },
   {
    "duration": 21,
    "start_time": "2022-11-21T21:52:41.462Z"
   },
   {
    "duration": 9,
    "start_time": "2022-11-21T21:53:28.182Z"
   },
   {
    "duration": 20,
    "start_time": "2022-11-21T21:53:35.315Z"
   },
   {
    "duration": 13,
    "start_time": "2022-11-21T21:53:55.464Z"
   },
   {
    "duration": 15,
    "start_time": "2022-11-21T21:58:38.306Z"
   },
   {
    "duration": 1341,
    "start_time": "2022-11-21T21:58:44.518Z"
   },
   {
    "duration": 13,
    "start_time": "2022-11-21T21:58:45.861Z"
   },
   {
    "duration": 10,
    "start_time": "2022-11-21T21:58:45.876Z"
   },
   {
    "duration": 25,
    "start_time": "2022-11-21T21:58:45.888Z"
   },
   {
    "duration": 38,
    "start_time": "2022-11-21T21:58:45.915Z"
   },
   {
    "duration": 164,
    "start_time": "2022-11-21T21:58:45.955Z"
   },
   {
    "duration": 17,
    "start_time": "2022-11-21T21:58:46.120Z"
   },
   {
    "duration": 778,
    "start_time": "2022-11-21T21:58:46.139Z"
   },
   {
    "duration": 8,
    "start_time": "2022-11-21T21:58:46.918Z"
   },
   {
    "duration": 20,
    "start_time": "2022-11-21T21:58:46.927Z"
   },
   {
    "duration": 367,
    "start_time": "2022-11-21T21:58:46.949Z"
   },
   {
    "duration": 98,
    "start_time": "2022-11-21T22:03:25.693Z"
   },
   {
    "duration": 1185,
    "start_time": "2022-11-21T22:03:39.315Z"
   },
   {
    "duration": 26,
    "start_time": "2022-11-21T22:03:40.503Z"
   },
   {
    "duration": 15,
    "start_time": "2022-11-21T22:03:40.531Z"
   },
   {
    "duration": 22,
    "start_time": "2022-11-21T22:03:40.547Z"
   },
   {
    "duration": 45,
    "start_time": "2022-11-21T22:03:40.571Z"
   },
   {
    "duration": 151,
    "start_time": "2022-11-21T22:03:40.618Z"
   },
   {
    "duration": 14,
    "start_time": "2022-11-21T22:03:40.771Z"
   },
   {
    "duration": 773,
    "start_time": "2022-11-21T22:03:40.801Z"
   },
   {
    "duration": 7,
    "start_time": "2022-11-21T22:03:41.576Z"
   },
   {
    "duration": 33,
    "start_time": "2022-11-21T22:03:41.599Z"
   },
   {
    "duration": 348,
    "start_time": "2022-11-21T22:03:41.634Z"
   },
   {
    "duration": 103,
    "start_time": "2022-11-21T22:03:41.984Z"
   },
   {
    "duration": 99,
    "start_time": "2022-11-21T22:04:04.785Z"
   },
   {
    "duration": 115,
    "start_time": "2022-11-21T22:06:07.649Z"
   },
   {
    "duration": 27,
    "start_time": "2022-11-21T22:06:29.789Z"
   },
   {
    "duration": 102,
    "start_time": "2022-11-21T22:06:38.430Z"
   },
   {
    "duration": 10,
    "start_time": "2022-11-21T22:08:07.367Z"
   },
   {
    "duration": 1154,
    "start_time": "2022-11-21T22:09:24.715Z"
   },
   {
    "duration": 14,
    "start_time": "2022-11-21T22:09:25.871Z"
   },
   {
    "duration": 15,
    "start_time": "2022-11-21T22:09:25.886Z"
   },
   {
    "duration": 21,
    "start_time": "2022-11-21T22:09:25.902Z"
   },
   {
    "duration": 32,
    "start_time": "2022-11-21T22:09:25.925Z"
   },
   {
    "duration": 182,
    "start_time": "2022-11-21T22:09:25.959Z"
   },
   {
    "duration": 15,
    "start_time": "2022-11-21T22:09:26.142Z"
   },
   {
    "duration": 820,
    "start_time": "2022-11-21T22:09:26.159Z"
   },
   {
    "duration": 7,
    "start_time": "2022-11-21T22:09:26.981Z"
   },
   {
    "duration": 15,
    "start_time": "2022-11-21T22:09:26.999Z"
   },
   {
    "duration": 367,
    "start_time": "2022-11-21T22:09:27.016Z"
   },
   {
    "duration": 104,
    "start_time": "2022-11-21T22:09:27.385Z"
   },
   {
    "duration": 1548,
    "start_time": "2022-11-22T13:45:02.311Z"
   },
   {
    "duration": 16,
    "start_time": "2022-11-22T13:45:03.861Z"
   },
   {
    "duration": 43,
    "start_time": "2022-11-22T13:45:03.878Z"
   },
   {
    "duration": 24,
    "start_time": "2022-11-22T13:45:03.923Z"
   },
   {
    "duration": 37,
    "start_time": "2022-11-22T13:45:03.949Z"
   },
   {
    "duration": 168,
    "start_time": "2022-11-22T13:45:03.988Z"
   },
   {
    "duration": 17,
    "start_time": "2022-11-22T13:45:04.158Z"
   },
   {
    "duration": 911,
    "start_time": "2022-11-22T13:45:04.176Z"
   },
   {
    "duration": 5,
    "start_time": "2022-11-22T13:45:05.089Z"
   },
   {
    "duration": 46,
    "start_time": "2022-11-22T13:45:05.096Z"
   },
   {
    "duration": 360,
    "start_time": "2022-11-22T13:45:05.144Z"
   },
   {
    "duration": 231,
    "start_time": "2022-11-22T13:45:05.506Z"
   },
   {
    "duration": 104,
    "start_time": "2022-11-22T13:54:37.134Z"
   },
   {
    "duration": 19,
    "start_time": "2022-11-22T13:55:04.869Z"
   },
   {
    "duration": 23,
    "start_time": "2022-11-22T14:01:42.245Z"
   },
   {
    "duration": 278,
    "start_time": "2022-11-22T14:01:51.163Z"
   },
   {
    "duration": 149,
    "start_time": "2022-11-22T14:05:52.473Z"
   },
   {
    "duration": 149,
    "start_time": "2022-11-22T14:06:08.542Z"
   },
   {
    "duration": 234,
    "start_time": "2022-11-22T14:11:10.979Z"
   },
   {
    "duration": 19,
    "start_time": "2022-11-22T14:39:40.084Z"
   },
   {
    "duration": 1258,
    "start_time": "2022-11-22T14:39:48.487Z"
   },
   {
    "duration": 20,
    "start_time": "2022-11-22T14:39:49.748Z"
   },
   {
    "duration": 37,
    "start_time": "2022-11-22T14:39:49.770Z"
   },
   {
    "duration": 42,
    "start_time": "2022-11-22T14:39:49.809Z"
   },
   {
    "duration": 29,
    "start_time": "2022-11-22T14:39:49.853Z"
   },
   {
    "duration": 189,
    "start_time": "2022-11-22T14:39:49.884Z"
   },
   {
    "duration": 17,
    "start_time": "2022-11-22T14:39:50.075Z"
   },
   {
    "duration": 853,
    "start_time": "2022-11-22T14:39:50.094Z"
   },
   {
    "duration": 9,
    "start_time": "2022-11-22T14:39:50.950Z"
   },
   {
    "duration": 43,
    "start_time": "2022-11-22T14:39:50.962Z"
   },
   {
    "duration": 398,
    "start_time": "2022-11-22T14:39:51.007Z"
   },
   {
    "duration": 258,
    "start_time": "2022-11-22T14:39:51.406Z"
   },
   {
    "duration": 136,
    "start_time": "2022-11-22T14:39:51.665Z"
   },
   {
    "duration": 12,
    "start_time": "2022-11-22T14:40:25.406Z"
   },
   {
    "duration": 62,
    "start_time": "2022-11-22T14:42:21.694Z"
   },
   {
    "duration": 251,
    "start_time": "2022-11-22T14:42:30.349Z"
   },
   {
    "duration": 149,
    "start_time": "2022-11-22T14:42:36.168Z"
   },
   {
    "duration": 366,
    "start_time": "2022-11-22T14:43:18.912Z"
   },
   {
    "duration": 330,
    "start_time": "2022-11-22T14:47:23.467Z"
   },
   {
    "duration": 59,
    "start_time": "2022-11-22T14:49:24.580Z"
   },
   {
    "duration": 49,
    "start_time": "2022-11-22T14:49:48.855Z"
   },
   {
    "duration": 1315,
    "start_time": "2022-11-22T14:50:04.270Z"
   },
   {
    "duration": 15,
    "start_time": "2022-11-22T14:50:05.587Z"
   },
   {
    "duration": 29,
    "start_time": "2022-11-22T14:50:05.604Z"
   },
   {
    "duration": 32,
    "start_time": "2022-11-22T14:50:05.635Z"
   },
   {
    "duration": 30,
    "start_time": "2022-11-22T14:50:05.668Z"
   },
   {
    "duration": 181,
    "start_time": "2022-11-22T14:50:05.700Z"
   },
   {
    "duration": 16,
    "start_time": "2022-11-22T14:50:05.883Z"
   },
   {
    "duration": 863,
    "start_time": "2022-11-22T14:50:05.901Z"
   },
   {
    "duration": 6,
    "start_time": "2022-11-22T14:50:06.766Z"
   },
   {
    "duration": 56,
    "start_time": "2022-11-22T14:50:06.775Z"
   },
   {
    "duration": 397,
    "start_time": "2022-11-22T14:50:06.834Z"
   },
   {
    "duration": 248,
    "start_time": "2022-11-22T14:50:07.233Z"
   },
   {
    "duration": 49,
    "start_time": "2022-11-22T14:50:07.483Z"
   },
   {
    "duration": 8,
    "start_time": "2022-11-22T15:23:38.382Z"
   },
   {
    "duration": 388,
    "start_time": "2022-11-22T15:24:09.137Z"
   },
   {
    "duration": 253,
    "start_time": "2022-11-22T15:40:37.194Z"
   },
   {
    "duration": 299,
    "start_time": "2022-11-22T15:41:33.744Z"
   },
   {
    "duration": 254,
    "start_time": "2022-11-22T15:43:26.403Z"
   },
   {
    "duration": 13,
    "start_time": "2022-11-22T15:48:55.720Z"
   },
   {
    "duration": 119,
    "start_time": "2022-11-22T15:49:36.346Z"
   },
   {
    "duration": 17,
    "start_time": "2022-11-22T15:49:46.527Z"
   },
   {
    "duration": 15,
    "start_time": "2022-11-22T15:50:07.744Z"
   },
   {
    "duration": 10,
    "start_time": "2022-11-22T16:04:12.896Z"
   },
   {
    "duration": 16,
    "start_time": "2022-11-22T16:05:09.523Z"
   },
   {
    "duration": 23,
    "start_time": "2022-11-22T16:16:12.581Z"
   },
   {
    "duration": 753,
    "start_time": "2022-11-22T16:16:39.923Z"
   },
   {
    "duration": 17,
    "start_time": "2022-11-22T16:17:06.053Z"
   },
   {
    "duration": 58,
    "start_time": "2022-11-22T20:08:46.350Z"
   },
   {
    "duration": 1771,
    "start_time": "2022-11-22T20:08:52.569Z"
   },
   {
    "duration": 22,
    "start_time": "2022-11-22T20:08:54.345Z"
   },
   {
    "duration": 31,
    "start_time": "2022-11-22T20:08:54.371Z"
   },
   {
    "duration": 62,
    "start_time": "2022-11-22T20:08:54.405Z"
   },
   {
    "duration": 75,
    "start_time": "2022-11-22T20:08:54.469Z"
   },
   {
    "duration": 202,
    "start_time": "2022-11-22T20:08:54.558Z"
   },
   {
    "duration": 17,
    "start_time": "2022-11-22T20:08:54.761Z"
   },
   {
    "duration": 898,
    "start_time": "2022-11-22T20:08:54.780Z"
   },
   {
    "duration": 7,
    "start_time": "2022-11-22T20:08:55.680Z"
   },
   {
    "duration": 43,
    "start_time": "2022-11-22T20:08:55.689Z"
   },
   {
    "duration": 464,
    "start_time": "2022-11-22T20:08:55.734Z"
   },
   {
    "duration": 275,
    "start_time": "2022-11-22T20:08:56.200Z"
   },
   {
    "duration": 411,
    "start_time": "2022-11-22T20:08:56.477Z"
   },
   {
    "duration": 274,
    "start_time": "2022-11-22T20:08:56.891Z"
   },
   {
    "duration": 316,
    "start_time": "2022-11-22T20:08:57.168Z"
   },
   {
    "duration": 300,
    "start_time": "2022-11-22T20:08:57.485Z"
   },
   {
    "duration": 37,
    "start_time": "2022-11-22T20:08:57.787Z"
   },
   {
    "duration": 120,
    "start_time": "2022-11-22T20:08:57.827Z"
   },
   {
    "duration": 28,
    "start_time": "2022-11-22T20:09:24.152Z"
   },
   {
    "duration": 40,
    "start_time": "2022-11-22T20:10:11.055Z"
   },
   {
    "duration": 87,
    "start_time": "2022-11-22T20:16:58.442Z"
   },
   {
    "duration": 14,
    "start_time": "2022-11-22T20:17:41.881Z"
   },
   {
    "duration": 1193,
    "start_time": "2022-11-22T20:18:58.964Z"
   },
   {
    "duration": 1225,
    "start_time": "2022-11-22T20:20:20.574Z"
   },
   {
    "duration": 1792,
    "start_time": "2022-11-22T20:20:56.304Z"
   },
   {
    "duration": 9,
    "start_time": "2022-11-22T20:21:52.552Z"
   },
   {
    "duration": 9,
    "start_time": "2022-11-22T20:22:09.284Z"
   },
   {
    "duration": 150,
    "start_time": "2022-11-22T20:22:20.880Z"
   },
   {
    "duration": 187,
    "start_time": "2022-11-22T20:23:06.905Z"
   },
   {
    "duration": 72,
    "start_time": "2022-11-22T21:03:01.710Z"
   },
   {
    "duration": 17,
    "start_time": "2022-11-22T21:03:22.491Z"
   },
   {
    "duration": 87,
    "start_time": "2022-11-22T21:04:12.512Z"
   },
   {
    "duration": 16,
    "start_time": "2022-11-22T21:07:03.488Z"
   },
   {
    "duration": 26,
    "start_time": "2022-11-22T21:22:40.909Z"
   },
   {
    "duration": 20,
    "start_time": "2022-11-22T21:30:07.149Z"
   },
   {
    "duration": 16,
    "start_time": "2022-11-22T21:32:11.172Z"
   },
   {
    "duration": 1245,
    "start_time": "2022-11-22T21:32:19.061Z"
   },
   {
    "duration": 27,
    "start_time": "2022-11-22T21:32:20.308Z"
   },
   {
    "duration": 37,
    "start_time": "2022-11-22T21:32:20.342Z"
   },
   {
    "duration": 29,
    "start_time": "2022-11-22T21:32:20.382Z"
   },
   {
    "duration": 48,
    "start_time": "2022-11-22T21:32:20.414Z"
   },
   {
    "duration": 195,
    "start_time": "2022-11-22T21:32:20.465Z"
   },
   {
    "duration": 22,
    "start_time": "2022-11-22T21:32:20.661Z"
   },
   {
    "duration": 932,
    "start_time": "2022-11-22T21:32:20.685Z"
   },
   {
    "duration": 14,
    "start_time": "2022-11-22T21:32:21.626Z"
   },
   {
    "duration": 42,
    "start_time": "2022-11-22T21:32:21.645Z"
   },
   {
    "duration": 380,
    "start_time": "2022-11-22T21:32:21.690Z"
   },
   {
    "duration": 252,
    "start_time": "2022-11-22T21:32:22.072Z"
   },
   {
    "duration": 404,
    "start_time": "2022-11-22T21:32:22.328Z"
   },
   {
    "duration": 277,
    "start_time": "2022-11-22T21:32:22.736Z"
   },
   {
    "duration": 299,
    "start_time": "2022-11-22T21:32:23.014Z"
   },
   {
    "duration": 284,
    "start_time": "2022-11-22T21:32:23.315Z"
   },
   {
    "duration": 28,
    "start_time": "2022-11-22T21:32:23.601Z"
   },
   {
    "duration": 150,
    "start_time": "2022-11-22T21:32:23.631Z"
   },
   {
    "duration": 20,
    "start_time": "2022-11-22T21:33:08.719Z"
   },
   {
    "duration": 1446,
    "start_time": "2022-11-23T09:43:54.650Z"
   },
   {
    "duration": 13,
    "start_time": "2022-11-23T09:43:56.098Z"
   },
   {
    "duration": 12,
    "start_time": "2022-11-23T09:43:56.112Z"
   },
   {
    "duration": 22,
    "start_time": "2022-11-23T09:43:56.125Z"
   },
   {
    "duration": 29,
    "start_time": "2022-11-23T09:43:56.149Z"
   },
   {
    "duration": 147,
    "start_time": "2022-11-23T09:43:56.180Z"
   },
   {
    "duration": 15,
    "start_time": "2022-11-23T09:43:56.329Z"
   },
   {
    "duration": 738,
    "start_time": "2022-11-23T09:43:56.346Z"
   },
   {
    "duration": 5,
    "start_time": "2022-11-23T09:43:57.086Z"
   },
   {
    "duration": 15,
    "start_time": "2022-11-23T09:43:57.092Z"
   },
   {
    "duration": 324,
    "start_time": "2022-11-23T09:43:57.109Z"
   },
   {
    "duration": 234,
    "start_time": "2022-11-23T09:43:57.435Z"
   },
   {
    "duration": 357,
    "start_time": "2022-11-23T09:43:57.676Z"
   },
   {
    "duration": 254,
    "start_time": "2022-11-23T09:43:58.036Z"
   },
   {
    "duration": 297,
    "start_time": "2022-11-23T09:43:58.292Z"
   },
   {
    "duration": 274,
    "start_time": "2022-11-23T09:43:58.591Z"
   },
   {
    "duration": 21,
    "start_time": "2022-11-23T09:43:58.867Z"
   },
   {
    "duration": 112,
    "start_time": "2022-11-23T09:47:09.329Z"
   },
   {
    "duration": 17,
    "start_time": "2022-11-23T09:49:49.374Z"
   },
   {
    "duration": 14,
    "start_time": "2022-11-23T09:51:12.672Z"
   },
   {
    "duration": 16,
    "start_time": "2022-11-23T09:51:15.250Z"
   },
   {
    "duration": 36,
    "start_time": "2022-11-23T09:51:35.650Z"
   },
   {
    "duration": 16,
    "start_time": "2022-11-23T09:52:40.202Z"
   },
   {
    "duration": 18,
    "start_time": "2022-11-23T09:56:21.820Z"
   },
   {
    "duration": 20,
    "start_time": "2022-11-23T09:59:15.558Z"
   },
   {
    "duration": 16,
    "start_time": "2022-11-23T10:00:21.551Z"
   },
   {
    "duration": 27,
    "start_time": "2022-11-23T10:00:25.973Z"
   },
   {
    "duration": 14,
    "start_time": "2022-11-23T10:01:48.193Z"
   },
   {
    "duration": 25,
    "start_time": "2022-11-23T10:03:58.152Z"
   },
   {
    "duration": 18,
    "start_time": "2022-11-23T10:04:20.247Z"
   },
   {
    "duration": 23,
    "start_time": "2022-11-23T10:04:31.614Z"
   },
   {
    "duration": 4,
    "start_time": "2022-11-23T10:06:37.090Z"
   },
   {
    "duration": 824,
    "start_time": "2022-11-23T10:06:51.094Z"
   },
   {
    "duration": 25,
    "start_time": "2022-11-23T10:07:52.891Z"
   },
   {
    "duration": 32,
    "start_time": "2022-11-23T10:08:47.056Z"
   },
   {
    "duration": 17,
    "start_time": "2022-11-23T10:18:14.340Z"
   },
   {
    "duration": 1270,
    "start_time": "2022-11-23T10:18:29.835Z"
   },
   {
    "duration": 14,
    "start_time": "2022-11-23T10:18:31.108Z"
   },
   {
    "duration": 43,
    "start_time": "2022-11-23T10:18:31.124Z"
   },
   {
    "duration": 36,
    "start_time": "2022-11-23T10:18:31.169Z"
   },
   {
    "duration": 62,
    "start_time": "2022-11-23T10:18:31.208Z"
   },
   {
    "duration": 181,
    "start_time": "2022-11-23T10:18:31.272Z"
   },
   {
    "duration": 30,
    "start_time": "2022-11-23T10:18:31.455Z"
   },
   {
    "duration": 867,
    "start_time": "2022-11-23T10:18:31.493Z"
   },
   {
    "duration": 6,
    "start_time": "2022-11-23T10:18:32.361Z"
   },
   {
    "duration": 33,
    "start_time": "2022-11-23T10:18:32.378Z"
   },
   {
    "duration": 364,
    "start_time": "2022-11-23T10:18:32.413Z"
   },
   {
    "duration": 266,
    "start_time": "2022-11-23T10:18:32.783Z"
   },
   {
    "duration": 403,
    "start_time": "2022-11-23T10:18:33.051Z"
   },
   {
    "duration": 281,
    "start_time": "2022-11-23T10:18:33.458Z"
   },
   {
    "duration": 329,
    "start_time": "2022-11-23T10:18:33.741Z"
   },
   {
    "duration": 276,
    "start_time": "2022-11-23T10:18:34.078Z"
   },
   {
    "duration": 33,
    "start_time": "2022-11-23T10:18:34.356Z"
   },
   {
    "duration": 36,
    "start_time": "2022-11-23T10:18:34.393Z"
   },
   {
    "duration": 27,
    "start_time": "2022-11-23T10:18:34.431Z"
   },
   {
    "duration": 28,
    "start_time": "2022-11-23T10:28:18.842Z"
   },
   {
    "duration": 19,
    "start_time": "2022-11-23T10:43:06.783Z"
   },
   {
    "duration": 1144,
    "start_time": "2022-11-23T10:51:13.682Z"
   },
   {
    "duration": 14,
    "start_time": "2022-11-23T10:51:14.828Z"
   },
   {
    "duration": 30,
    "start_time": "2022-11-23T10:51:14.844Z"
   },
   {
    "duration": 41,
    "start_time": "2022-11-23T10:51:14.876Z"
   },
   {
    "duration": 35,
    "start_time": "2022-11-23T10:51:14.918Z"
   },
   {
    "duration": 228,
    "start_time": "2022-11-23T10:51:14.956Z"
   },
   {
    "duration": 25,
    "start_time": "2022-11-23T10:51:15.192Z"
   },
   {
    "duration": 915,
    "start_time": "2022-11-23T10:51:15.219Z"
   },
   {
    "duration": 6,
    "start_time": "2022-11-23T10:51:16.136Z"
   },
   {
    "duration": 31,
    "start_time": "2022-11-23T10:51:16.144Z"
   },
   {
    "duration": 350,
    "start_time": "2022-11-23T10:51:16.176Z"
   },
   {
    "duration": 235,
    "start_time": "2022-11-23T10:51:16.528Z"
   },
   {
    "duration": 357,
    "start_time": "2022-11-23T10:51:16.764Z"
   },
   {
    "duration": 262,
    "start_time": "2022-11-23T10:51:17.123Z"
   },
   {
    "duration": 268,
    "start_time": "2022-11-23T10:51:17.399Z"
   },
   {
    "duration": 265,
    "start_time": "2022-11-23T10:51:17.669Z"
   },
   {
    "duration": 14,
    "start_time": "2022-11-23T10:51:17.936Z"
   },
   {
    "duration": 50,
    "start_time": "2022-11-23T10:51:17.952Z"
   },
   {
    "duration": 26,
    "start_time": "2022-11-23T10:51:18.003Z"
   },
   {
    "duration": 37,
    "start_time": "2022-11-23T10:51:18.030Z"
   },
   {
    "duration": 28,
    "start_time": "2022-11-23T10:51:18.068Z"
   },
   {
    "duration": 1499,
    "start_time": "2022-11-23T14:37:38.191Z"
   },
   {
    "duration": 13,
    "start_time": "2022-11-23T14:37:39.693Z"
   },
   {
    "duration": 11,
    "start_time": "2022-11-23T14:37:39.708Z"
   },
   {
    "duration": 23,
    "start_time": "2022-11-23T14:37:39.721Z"
   },
   {
    "duration": 46,
    "start_time": "2022-11-23T14:37:39.745Z"
   },
   {
    "duration": 157,
    "start_time": "2022-11-23T14:37:39.792Z"
   },
   {
    "duration": 32,
    "start_time": "2022-11-23T14:37:39.950Z"
   },
   {
    "duration": 774,
    "start_time": "2022-11-23T14:37:39.984Z"
   },
   {
    "duration": 6,
    "start_time": "2022-11-23T14:37:40.759Z"
   },
   {
    "duration": 22,
    "start_time": "2022-11-23T14:37:40.767Z"
   },
   {
    "duration": 342,
    "start_time": "2022-11-23T14:37:40.790Z"
   },
   {
    "duration": 237,
    "start_time": "2022-11-23T14:37:41.133Z"
   },
   {
    "duration": 358,
    "start_time": "2022-11-23T14:37:41.371Z"
   },
   {
    "duration": 247,
    "start_time": "2022-11-23T14:37:41.731Z"
   },
   {
    "duration": 310,
    "start_time": "2022-11-23T14:37:41.980Z"
   },
   {
    "duration": 248,
    "start_time": "2022-11-23T14:37:42.291Z"
   },
   {
    "duration": 16,
    "start_time": "2022-11-23T14:37:42.541Z"
   },
   {
    "duration": 46,
    "start_time": "2022-11-23T14:37:42.559Z"
   },
   {
    "duration": 34,
    "start_time": "2022-11-23T14:37:42.607Z"
   },
   {
    "duration": 36,
    "start_time": "2022-11-23T14:37:42.643Z"
   },
   {
    "duration": 29,
    "start_time": "2022-11-23T14:37:42.680Z"
   },
   {
    "duration": 7,
    "start_time": "2022-11-23T14:48:01.117Z"
   },
   {
    "duration": 99,
    "start_time": "2022-11-23T14:52:45.111Z"
   },
   {
    "duration": 16,
    "start_time": "2022-11-23T14:53:32.994Z"
   },
   {
    "duration": 1201,
    "start_time": "2022-11-23T14:54:01.952Z"
   },
   {
    "duration": 13,
    "start_time": "2022-11-23T14:54:03.154Z"
   },
   {
    "duration": 14,
    "start_time": "2022-11-23T14:54:03.169Z"
   },
   {
    "duration": 27,
    "start_time": "2022-11-23T14:54:03.185Z"
   },
   {
    "duration": 29,
    "start_time": "2022-11-23T14:54:03.213Z"
   },
   {
    "duration": 177,
    "start_time": "2022-11-23T14:54:03.243Z"
   },
   {
    "duration": 15,
    "start_time": "2022-11-23T14:54:03.422Z"
   },
   {
    "duration": 859,
    "start_time": "2022-11-23T14:54:03.439Z"
   },
   {
    "duration": 5,
    "start_time": "2022-11-23T14:54:04.300Z"
   },
   {
    "duration": 19,
    "start_time": "2022-11-23T14:54:04.307Z"
   },
   {
    "duration": 333,
    "start_time": "2022-11-23T14:54:04.328Z"
   },
   {
    "duration": 234,
    "start_time": "2022-11-23T14:54:04.663Z"
   },
   {
    "duration": 383,
    "start_time": "2022-11-23T14:54:04.899Z"
   },
   {
    "duration": 246,
    "start_time": "2022-11-23T14:54:05.284Z"
   },
   {
    "duration": 324,
    "start_time": "2022-11-23T14:54:05.532Z"
   },
   {
    "duration": 295,
    "start_time": "2022-11-23T14:54:05.858Z"
   },
   {
    "duration": 24,
    "start_time": "2022-11-23T14:54:06.155Z"
   },
   {
    "duration": 33,
    "start_time": "2022-11-23T14:54:06.180Z"
   },
   {
    "duration": 29,
    "start_time": "2022-11-23T14:54:06.215Z"
   },
   {
    "duration": 58,
    "start_time": "2022-11-23T14:54:06.245Z"
   },
   {
    "duration": 17,
    "start_time": "2022-11-23T14:54:06.305Z"
   },
   {
    "duration": 30,
    "start_time": "2022-11-23T14:54:06.324Z"
   },
   {
    "duration": 26,
    "start_time": "2022-11-23T14:54:06.356Z"
   },
   {
    "duration": 15,
    "start_time": "2022-11-23T14:57:14.653Z"
   },
   {
    "duration": 5,
    "start_time": "2022-11-23T14:58:57.910Z"
   },
   {
    "duration": 1356,
    "start_time": "2022-11-23T14:59:52.945Z"
   },
   {
    "duration": 22,
    "start_time": "2022-11-23T14:59:54.304Z"
   },
   {
    "duration": 25,
    "start_time": "2022-11-23T14:59:54.328Z"
   },
   {
    "duration": 37,
    "start_time": "2022-11-23T14:59:54.356Z"
   },
   {
    "duration": 33,
    "start_time": "2022-11-23T14:59:54.396Z"
   },
   {
    "duration": 215,
    "start_time": "2022-11-23T14:59:54.431Z"
   },
   {
    "duration": 18,
    "start_time": "2022-11-23T14:59:54.648Z"
   },
   {
    "duration": 931,
    "start_time": "2022-11-23T14:59:54.678Z"
   },
   {
    "duration": 18,
    "start_time": "2022-11-23T14:59:55.611Z"
   },
   {
    "duration": 15,
    "start_time": "2022-11-23T14:59:55.631Z"
   },
   {
    "duration": 419,
    "start_time": "2022-11-23T14:59:55.648Z"
   },
   {
    "duration": 274,
    "start_time": "2022-11-23T14:59:56.069Z"
   },
   {
    "duration": 436,
    "start_time": "2022-11-23T14:59:56.345Z"
   },
   {
    "duration": 321,
    "start_time": "2022-11-23T14:59:56.784Z"
   },
   {
    "duration": 355,
    "start_time": "2022-11-23T14:59:57.107Z"
   },
   {
    "duration": 329,
    "start_time": "2022-11-23T14:59:57.464Z"
   },
   {
    "duration": 18,
    "start_time": "2022-11-23T14:59:57.795Z"
   },
   {
    "duration": 35,
    "start_time": "2022-11-23T14:59:57.815Z"
   },
   {
    "duration": 55,
    "start_time": "2022-11-23T14:59:57.852Z"
   },
   {
    "duration": 36,
    "start_time": "2022-11-23T14:59:57.908Z"
   },
   {
    "duration": 40,
    "start_time": "2022-11-23T14:59:57.945Z"
   },
   {
    "duration": 10,
    "start_time": "2022-11-23T14:59:57.987Z"
   },
   {
    "duration": 11,
    "start_time": "2022-11-23T14:59:57.999Z"
   },
   {
    "duration": 14,
    "start_time": "2022-11-23T15:02:50.551Z"
   },
   {
    "duration": 7,
    "start_time": "2022-11-23T15:03:11.313Z"
   },
   {
    "duration": 1200,
    "start_time": "2022-11-23T15:05:09.379Z"
   },
   {
    "duration": 16,
    "start_time": "2022-11-23T15:05:10.582Z"
   },
   {
    "duration": 12,
    "start_time": "2022-11-23T15:05:10.600Z"
   },
   {
    "duration": 24,
    "start_time": "2022-11-23T15:05:10.614Z"
   },
   {
    "duration": 52,
    "start_time": "2022-11-23T15:05:10.640Z"
   },
   {
    "duration": 184,
    "start_time": "2022-11-23T15:05:10.694Z"
   },
   {
    "duration": 16,
    "start_time": "2022-11-23T15:05:10.880Z"
   },
   {
    "duration": 842,
    "start_time": "2022-11-23T15:05:10.898Z"
   },
   {
    "duration": 14,
    "start_time": "2022-11-23T15:05:11.742Z"
   },
   {
    "duration": 28,
    "start_time": "2022-11-23T15:05:11.757Z"
   },
   {
    "duration": 329,
    "start_time": "2022-11-23T15:05:11.787Z"
   },
   {
    "duration": 243,
    "start_time": "2022-11-23T15:05:12.118Z"
   },
   {
    "duration": 353,
    "start_time": "2022-11-23T15:05:12.362Z"
   },
   {
    "duration": 251,
    "start_time": "2022-11-23T15:05:12.718Z"
   },
   {
    "duration": 275,
    "start_time": "2022-11-23T15:05:12.977Z"
   },
   {
    "duration": 269,
    "start_time": "2022-11-23T15:05:13.253Z"
   },
   {
    "duration": 16,
    "start_time": "2022-11-23T15:05:13.523Z"
   },
   {
    "duration": 44,
    "start_time": "2022-11-23T15:05:13.541Z"
   },
   {
    "duration": 27,
    "start_time": "2022-11-23T15:05:13.586Z"
   },
   {
    "duration": 26,
    "start_time": "2022-11-23T15:05:13.615Z"
   },
   {
    "duration": 43,
    "start_time": "2022-11-23T15:05:13.642Z"
   },
   {
    "duration": 14,
    "start_time": "2022-11-23T15:05:13.686Z"
   },
   {
    "duration": 6,
    "start_time": "2022-11-23T15:05:13.701Z"
   },
   {
    "duration": 7,
    "start_time": "2022-11-23T15:07:01.922Z"
   },
   {
    "duration": 42,
    "start_time": "2022-11-23T15:09:03.786Z"
   },
   {
    "duration": 32,
    "start_time": "2022-11-23T15:09:17.298Z"
   },
   {
    "duration": 135,
    "start_time": "2022-11-23T15:09:34.905Z"
   },
   {
    "duration": 14,
    "start_time": "2022-11-23T15:09:49.699Z"
   },
   {
    "duration": 6,
    "start_time": "2022-11-23T15:18:08.753Z"
   },
   {
    "duration": 6,
    "start_time": "2022-11-23T15:18:21.723Z"
   },
   {
    "duration": 7,
    "start_time": "2022-11-23T15:19:14.491Z"
   },
   {
    "duration": 7,
    "start_time": "2022-11-23T15:19:59.909Z"
   },
   {
    "duration": 1233,
    "start_time": "2022-11-23T15:20:10.902Z"
   },
   {
    "duration": 14,
    "start_time": "2022-11-23T15:20:12.138Z"
   },
   {
    "duration": 11,
    "start_time": "2022-11-23T15:20:12.154Z"
   },
   {
    "duration": 23,
    "start_time": "2022-11-23T15:20:12.167Z"
   },
   {
    "duration": 33,
    "start_time": "2022-11-23T15:20:12.192Z"
   },
   {
    "duration": 186,
    "start_time": "2022-11-23T15:20:12.227Z"
   },
   {
    "duration": 17,
    "start_time": "2022-11-23T15:20:12.415Z"
   },
   {
    "duration": 852,
    "start_time": "2022-11-23T15:20:12.434Z"
   },
   {
    "duration": 16,
    "start_time": "2022-11-23T15:20:13.287Z"
   },
   {
    "duration": 14,
    "start_time": "2022-11-23T15:20:13.306Z"
   },
   {
    "duration": 383,
    "start_time": "2022-11-23T15:20:13.322Z"
   },
   {
    "duration": 281,
    "start_time": "2022-11-23T15:20:13.706Z"
   },
   {
    "duration": 471,
    "start_time": "2022-11-23T15:20:13.989Z"
   },
   {
    "duration": 277,
    "start_time": "2022-11-23T15:20:14.462Z"
   },
   {
    "duration": 349,
    "start_time": "2022-11-23T15:20:14.742Z"
   },
   {
    "duration": 335,
    "start_time": "2022-11-23T15:20:15.093Z"
   },
   {
    "duration": 18,
    "start_time": "2022-11-23T15:20:15.431Z"
   },
   {
    "duration": 55,
    "start_time": "2022-11-23T15:20:15.450Z"
   },
   {
    "duration": 32,
    "start_time": "2022-11-23T15:20:15.506Z"
   },
   {
    "duration": 57,
    "start_time": "2022-11-23T15:20:15.540Z"
   },
   {
    "duration": 18,
    "start_time": "2022-11-23T15:20:15.599Z"
   },
   {
    "duration": 40,
    "start_time": "2022-11-23T15:20:15.619Z"
   },
   {
    "duration": 41,
    "start_time": "2022-11-23T15:20:15.661Z"
   },
   {
    "duration": 25,
    "start_time": "2022-11-23T15:21:02.848Z"
   },
   {
    "duration": 29,
    "start_time": "2022-11-23T15:21:17.009Z"
   },
   {
    "duration": 21,
    "start_time": "2022-11-23T15:21:52.534Z"
   },
   {
    "duration": 23,
    "start_time": "2022-11-23T15:22:25.644Z"
   },
   {
    "duration": 8,
    "start_time": "2022-11-23T15:22:33.279Z"
   },
   {
    "duration": 15,
    "start_time": "2022-11-23T15:22:47.352Z"
   },
   {
    "duration": 1204,
    "start_time": "2022-11-23T15:24:10.847Z"
   },
   {
    "duration": 17,
    "start_time": "2022-11-23T15:24:55.527Z"
   },
   {
    "duration": 14,
    "start_time": "2022-11-23T15:25:13.028Z"
   },
   {
    "duration": 13,
    "start_time": "2022-11-23T15:25:24.910Z"
   },
   {
    "duration": 14,
    "start_time": "2022-11-23T15:25:40.431Z"
   },
   {
    "duration": 18,
    "start_time": "2022-11-23T15:25:52.934Z"
   },
   {
    "duration": 7,
    "start_time": "2022-11-23T15:25:56.564Z"
   },
   {
    "duration": 1187,
    "start_time": "2022-11-23T15:27:47.387Z"
   },
   {
    "duration": 19,
    "start_time": "2022-11-23T15:27:48.576Z"
   },
   {
    "duration": 24,
    "start_time": "2022-11-23T15:27:48.596Z"
   },
   {
    "duration": 33,
    "start_time": "2022-11-23T15:27:48.623Z"
   },
   {
    "duration": 27,
    "start_time": "2022-11-23T15:27:48.658Z"
   },
   {
    "duration": 169,
    "start_time": "2022-11-23T15:27:48.687Z"
   },
   {
    "duration": 26,
    "start_time": "2022-11-23T15:27:48.858Z"
   },
   {
    "duration": 901,
    "start_time": "2022-11-23T15:27:48.886Z"
   },
   {
    "duration": 15,
    "start_time": "2022-11-23T15:27:49.789Z"
   },
   {
    "duration": 15,
    "start_time": "2022-11-23T15:27:49.807Z"
   },
   {
    "duration": 366,
    "start_time": "2022-11-23T15:27:49.824Z"
   },
   {
    "duration": 241,
    "start_time": "2022-11-23T15:27:50.192Z"
   },
   {
    "duration": 383,
    "start_time": "2022-11-23T15:27:50.435Z"
   },
   {
    "duration": 271,
    "start_time": "2022-11-23T15:27:50.819Z"
   },
   {
    "duration": 311,
    "start_time": "2022-11-23T15:27:51.092Z"
   },
   {
    "duration": 284,
    "start_time": "2022-11-23T15:27:51.405Z"
   },
   {
    "duration": 18,
    "start_time": "2022-11-23T15:27:51.691Z"
   },
   {
    "duration": 31,
    "start_time": "2022-11-23T15:27:51.711Z"
   },
   {
    "duration": 59,
    "start_time": "2022-11-23T15:27:51.744Z"
   },
   {
    "duration": 29,
    "start_time": "2022-11-23T15:27:51.804Z"
   },
   {
    "duration": 16,
    "start_time": "2022-11-23T15:27:51.835Z"
   },
   {
    "duration": 16,
    "start_time": "2022-11-23T15:27:51.879Z"
   },
   {
    "duration": 7,
    "start_time": "2022-11-23T15:27:51.897Z"
   },
   {
    "duration": 5,
    "start_time": "2022-11-23T15:58:34.240Z"
   },
   {
    "duration": 5,
    "start_time": "2022-11-23T15:59:40.936Z"
   },
   {
    "duration": 5,
    "start_time": "2022-11-23T16:01:20.220Z"
   },
   {
    "duration": 7,
    "start_time": "2022-11-23T16:01:28.018Z"
   },
   {
    "duration": 1322,
    "start_time": "2022-11-23T16:02:53.898Z"
   },
   {
    "duration": 15,
    "start_time": "2022-11-23T16:02:55.222Z"
   },
   {
    "duration": 30,
    "start_time": "2022-11-23T16:02:55.239Z"
   },
   {
    "duration": 36,
    "start_time": "2022-11-23T16:02:55.271Z"
   },
   {
    "duration": 32,
    "start_time": "2022-11-23T16:02:55.310Z"
   },
   {
    "duration": 188,
    "start_time": "2022-11-23T16:02:55.344Z"
   },
   {
    "duration": 18,
    "start_time": "2022-11-23T16:02:55.534Z"
   },
   {
    "duration": 879,
    "start_time": "2022-11-23T16:02:55.554Z"
   },
   {
    "duration": 12,
    "start_time": "2022-11-23T16:02:56.435Z"
   },
   {
    "duration": 30,
    "start_time": "2022-11-23T16:02:56.449Z"
   },
   {
    "duration": 391,
    "start_time": "2022-11-23T16:02:56.481Z"
   },
   {
    "duration": 277,
    "start_time": "2022-11-23T16:02:56.874Z"
   },
   {
    "duration": 420,
    "start_time": "2022-11-23T16:02:57.152Z"
   },
   {
    "duration": 300,
    "start_time": "2022-11-23T16:02:57.578Z"
   },
   {
    "duration": 275,
    "start_time": "2022-11-23T16:02:57.880Z"
   },
   {
    "duration": 254,
    "start_time": "2022-11-23T16:02:58.156Z"
   },
   {
    "duration": 15,
    "start_time": "2022-11-23T16:02:58.412Z"
   },
   {
    "duration": 30,
    "start_time": "2022-11-23T16:02:58.428Z"
   },
   {
    "duration": 25,
    "start_time": "2022-11-23T16:02:58.479Z"
   },
   {
    "duration": 26,
    "start_time": "2022-11-23T16:02:58.505Z"
   },
   {
    "duration": 47,
    "start_time": "2022-11-23T16:02:58.532Z"
   },
   {
    "duration": 5,
    "start_time": "2022-11-23T16:02:58.581Z"
   },
   {
    "duration": 20,
    "start_time": "2022-11-23T16:02:58.588Z"
   },
   {
    "duration": 32,
    "start_time": "2022-11-23T16:02:58.609Z"
   },
   {
    "duration": 5,
    "start_time": "2022-11-23T16:12:38.799Z"
   },
   {
    "duration": 9,
    "start_time": "2022-11-23T16:12:40.392Z"
   },
   {
    "duration": 6,
    "start_time": "2022-11-23T16:13:32.736Z"
   },
   {
    "duration": 8,
    "start_time": "2022-11-23T16:49:25.734Z"
   },
   {
    "duration": 1393,
    "start_time": "2022-11-24T16:22:13.509Z"
   },
   {
    "duration": 14,
    "start_time": "2022-11-24T16:22:14.904Z"
   },
   {
    "duration": 11,
    "start_time": "2022-11-24T16:22:14.919Z"
   },
   {
    "duration": 23,
    "start_time": "2022-11-24T16:22:14.931Z"
   },
   {
    "duration": 25,
    "start_time": "2022-11-24T16:22:14.956Z"
   },
   {
    "duration": 169,
    "start_time": "2022-11-24T16:22:14.983Z"
   },
   {
    "duration": 16,
    "start_time": "2022-11-24T16:22:15.153Z"
   },
   {
    "duration": 795,
    "start_time": "2022-11-24T16:22:15.171Z"
   },
   {
    "duration": 14,
    "start_time": "2022-11-24T16:22:15.968Z"
   },
   {
    "duration": 27,
    "start_time": "2022-11-24T16:22:15.986Z"
   },
   {
    "duration": 354,
    "start_time": "2022-11-24T16:22:16.014Z"
   },
   {
    "duration": 236,
    "start_time": "2022-11-24T16:22:16.370Z"
   },
   {
    "duration": 407,
    "start_time": "2022-11-24T16:22:16.608Z"
   },
   {
    "duration": 251,
    "start_time": "2022-11-24T16:22:17.017Z"
   },
   {
    "duration": 273,
    "start_time": "2022-11-24T16:22:17.270Z"
   },
   {
    "duration": 249,
    "start_time": "2022-11-24T16:22:17.545Z"
   },
   {
    "duration": 15,
    "start_time": "2022-11-24T16:22:17.796Z"
   },
   {
    "duration": 42,
    "start_time": "2022-11-24T16:22:17.812Z"
   },
   {
    "duration": 25,
    "start_time": "2022-11-24T16:22:17.856Z"
   },
   {
    "duration": 33,
    "start_time": "2022-11-24T16:22:17.882Z"
   },
   {
    "duration": 30,
    "start_time": "2022-11-24T16:22:17.917Z"
   },
   {
    "duration": 6,
    "start_time": "2022-11-24T16:22:17.949Z"
   },
   {
    "duration": 14,
    "start_time": "2022-11-24T16:22:17.956Z"
   },
   {
    "duration": 9,
    "start_time": "2022-11-24T16:22:17.972Z"
   },
   {
    "duration": 233,
    "start_time": "2022-11-24T16:28:50.602Z"
   },
   {
    "duration": 254,
    "start_time": "2022-11-24T16:29:38.216Z"
   },
   {
    "duration": 263,
    "start_time": "2022-11-24T16:31:46.114Z"
   },
   {
    "duration": 406,
    "start_time": "2022-11-24T16:32:02.099Z"
   },
   {
    "duration": 288,
    "start_time": "2022-11-24T16:33:09.966Z"
   },
   {
    "duration": 1199,
    "start_time": "2022-11-24T16:33:59.933Z"
   },
   {
    "duration": 15,
    "start_time": "2022-11-24T16:34:01.135Z"
   },
   {
    "duration": 39,
    "start_time": "2022-11-24T16:34:01.152Z"
   },
   {
    "duration": 55,
    "start_time": "2022-11-24T16:34:01.195Z"
   },
   {
    "duration": 49,
    "start_time": "2022-11-24T16:34:01.252Z"
   },
   {
    "duration": 239,
    "start_time": "2022-11-24T16:34:01.304Z"
   },
   {
    "duration": 29,
    "start_time": "2022-11-24T16:34:01.545Z"
   },
   {
    "duration": 828,
    "start_time": "2022-11-24T16:34:01.575Z"
   },
   {
    "duration": 31,
    "start_time": "2022-11-24T16:34:02.405Z"
   },
   {
    "duration": 33,
    "start_time": "2022-11-24T16:34:02.440Z"
   },
   {
    "duration": 416,
    "start_time": "2022-11-24T16:34:02.476Z"
   },
   {
    "duration": 287,
    "start_time": "2022-11-24T16:34:02.893Z"
   },
   {
    "duration": 360,
    "start_time": "2022-11-24T16:34:03.182Z"
   },
   {
    "duration": 306,
    "start_time": "2022-11-24T16:34:03.544Z"
   },
   {
    "duration": 265,
    "start_time": "2022-11-24T16:34:03.852Z"
   },
   {
    "duration": 287,
    "start_time": "2022-11-24T16:34:04.119Z"
   },
   {
    "duration": 299,
    "start_time": "2022-11-24T16:34:04.407Z"
   },
   {
    "duration": 18,
    "start_time": "2022-11-24T16:34:04.708Z"
   },
   {
    "duration": 47,
    "start_time": "2022-11-24T16:34:04.736Z"
   },
   {
    "duration": 47,
    "start_time": "2022-11-24T16:34:04.785Z"
   },
   {
    "duration": 28,
    "start_time": "2022-11-24T16:34:04.834Z"
   },
   {
    "duration": 26,
    "start_time": "2022-11-24T16:34:04.864Z"
   },
   {
    "duration": 40,
    "start_time": "2022-11-24T16:34:04.892Z"
   },
   {
    "duration": 34,
    "start_time": "2022-11-24T16:34:04.934Z"
   },
   {
    "duration": 52,
    "start_time": "2022-11-24T16:34:04.970Z"
   },
   {
    "duration": 242,
    "start_time": "2022-11-24T16:36:30.994Z"
   },
   {
    "duration": 28,
    "start_time": "2022-11-24T16:41:45.263Z"
   },
   {
    "duration": 133,
    "start_time": "2022-11-24T16:42:48.758Z"
   },
   {
    "duration": 1127,
    "start_time": "2022-11-24T17:25:12.189Z"
   },
   {
    "duration": 13,
    "start_time": "2022-11-24T17:25:13.318Z"
   },
   {
    "duration": 10,
    "start_time": "2022-11-24T17:25:13.333Z"
   },
   {
    "duration": 18,
    "start_time": "2022-11-24T17:25:13.345Z"
   },
   {
    "duration": 26,
    "start_time": "2022-11-24T17:25:13.365Z"
   },
   {
    "duration": 171,
    "start_time": "2022-11-24T17:25:13.392Z"
   },
   {
    "duration": 15,
    "start_time": "2022-11-24T17:25:13.565Z"
   },
   {
    "duration": 730,
    "start_time": "2022-11-24T17:25:13.581Z"
   },
   {
    "duration": 23,
    "start_time": "2022-11-24T17:25:14.312Z"
   },
   {
    "duration": 13,
    "start_time": "2022-11-24T17:25:14.337Z"
   },
   {
    "duration": 313,
    "start_time": "2022-11-24T17:25:14.351Z"
   },
   {
    "duration": 230,
    "start_time": "2022-11-24T17:25:14.666Z"
   },
   {
    "duration": 347,
    "start_time": "2022-11-24T17:25:14.898Z"
   },
   {
    "duration": 277,
    "start_time": "2022-11-24T17:25:15.247Z"
   },
   {
    "duration": 249,
    "start_time": "2022-11-24T17:25:15.526Z"
   },
   {
    "duration": 287,
    "start_time": "2022-11-24T17:25:15.777Z"
   },
   {
    "duration": 250,
    "start_time": "2022-11-24T17:25:16.067Z"
   },
   {
    "duration": 30,
    "start_time": "2022-11-24T17:25:16.319Z"
   },
   {
    "duration": 28,
    "start_time": "2022-11-24T17:25:16.351Z"
   },
   {
    "duration": 26,
    "start_time": "2022-11-24T17:25:16.381Z"
   },
   {
    "duration": 27,
    "start_time": "2022-11-24T17:25:16.435Z"
   },
   {
    "duration": 14,
    "start_time": "2022-11-24T17:25:16.463Z"
   },
   {
    "duration": 6,
    "start_time": "2022-11-24T17:25:16.478Z"
   },
   {
    "duration": 7,
    "start_time": "2022-11-24T17:25:16.485Z"
   },
   {
    "duration": 9,
    "start_time": "2022-11-24T17:25:16.493Z"
   },
   {
    "duration": 1379,
    "start_time": "2022-11-24T17:50:06.314Z"
   },
   {
    "duration": 13,
    "start_time": "2022-11-24T17:50:07.695Z"
   },
   {
    "duration": 10,
    "start_time": "2022-11-24T17:50:07.710Z"
   },
   {
    "duration": 22,
    "start_time": "2022-11-24T17:50:07.721Z"
   },
   {
    "duration": 34,
    "start_time": "2022-11-24T17:50:07.746Z"
   },
   {
    "duration": 158,
    "start_time": "2022-11-24T17:50:07.781Z"
   },
   {
    "duration": 14,
    "start_time": "2022-11-24T17:50:07.941Z"
   },
   {
    "duration": 748,
    "start_time": "2022-11-24T17:50:07.956Z"
   },
   {
    "duration": 18,
    "start_time": "2022-11-24T17:50:08.706Z"
   },
   {
    "duration": 11,
    "start_time": "2022-11-24T17:50:08.726Z"
   },
   {
    "duration": 314,
    "start_time": "2022-11-24T17:50:08.739Z"
   },
   {
    "duration": 234,
    "start_time": "2022-11-24T17:50:09.054Z"
   },
   {
    "duration": 326,
    "start_time": "2022-11-24T17:50:09.290Z"
   },
   {
    "duration": 262,
    "start_time": "2022-11-24T17:50:09.621Z"
   },
   {
    "duration": 226,
    "start_time": "2022-11-24T17:50:09.885Z"
   },
   {
    "duration": 260,
    "start_time": "2022-11-24T17:50:10.113Z"
   },
   {
    "duration": 259,
    "start_time": "2022-11-24T17:50:10.374Z"
   },
   {
    "duration": 15,
    "start_time": "2022-11-24T17:50:10.634Z"
   },
   {
    "duration": 30,
    "start_time": "2022-11-24T17:50:10.650Z"
   },
   {
    "duration": 43,
    "start_time": "2022-11-24T17:50:10.682Z"
   },
   {
    "duration": 25,
    "start_time": "2022-11-24T17:50:10.727Z"
   },
   {
    "duration": 13,
    "start_time": "2022-11-24T17:50:10.753Z"
   },
   {
    "duration": 4,
    "start_time": "2022-11-24T17:50:10.767Z"
   },
   {
    "duration": 15,
    "start_time": "2022-11-24T17:50:10.772Z"
   },
   {
    "duration": 16,
    "start_time": "2022-11-24T17:50:10.788Z"
   },
   {
    "duration": 1118,
    "start_time": "2022-11-24T17:50:58.943Z"
   },
   {
    "duration": 13,
    "start_time": "2022-11-24T17:51:00.063Z"
   },
   {
    "duration": 17,
    "start_time": "2022-11-24T17:51:00.078Z"
   },
   {
    "duration": 19,
    "start_time": "2022-11-24T17:51:00.097Z"
   },
   {
    "duration": 26,
    "start_time": "2022-11-24T17:51:00.120Z"
   },
   {
    "duration": 161,
    "start_time": "2022-11-24T17:51:00.147Z"
   },
   {
    "duration": 21,
    "start_time": "2022-11-24T17:51:00.311Z"
   },
   {
    "duration": 743,
    "start_time": "2022-11-24T17:51:00.333Z"
   },
   {
    "duration": 12,
    "start_time": "2022-11-24T17:51:01.078Z"
   },
   {
    "duration": 25,
    "start_time": "2022-11-24T17:51:01.092Z"
   },
   {
    "duration": 316,
    "start_time": "2022-11-24T17:51:01.120Z"
   },
   {
    "duration": 258,
    "start_time": "2022-11-24T17:51:01.438Z"
   },
   {
    "duration": 341,
    "start_time": "2022-11-24T17:51:01.698Z"
   },
   {
    "duration": 263,
    "start_time": "2022-11-24T17:51:02.042Z"
   },
   {
    "duration": 241,
    "start_time": "2022-11-24T17:51:02.308Z"
   },
   {
    "duration": 257,
    "start_time": "2022-11-24T17:51:02.551Z"
   },
   {
    "duration": 254,
    "start_time": "2022-11-24T17:51:02.810Z"
   },
   {
    "duration": 15,
    "start_time": "2022-11-24T17:51:03.066Z"
   },
   {
    "duration": 40,
    "start_time": "2022-11-24T17:51:03.083Z"
   },
   {
    "duration": 24,
    "start_time": "2022-11-24T17:51:03.124Z"
   },
   {
    "duration": 25,
    "start_time": "2022-11-24T17:51:03.149Z"
   },
   {
    "duration": 14,
    "start_time": "2022-11-24T17:51:03.176Z"
   },
   {
    "duration": 5,
    "start_time": "2022-11-24T17:51:03.222Z"
   },
   {
    "duration": 10,
    "start_time": "2022-11-24T17:51:03.229Z"
   },
   {
    "duration": 7,
    "start_time": "2022-11-24T17:51:03.241Z"
   },
   {
    "duration": 1279,
    "start_time": "2022-11-25T11:17:03.401Z"
   },
   {
    "duration": 15,
    "start_time": "2022-11-25T11:17:04.683Z"
   },
   {
    "duration": 12,
    "start_time": "2022-11-25T11:17:04.700Z"
   },
   {
    "duration": 48,
    "start_time": "2022-11-25T11:17:04.714Z"
   },
   {
    "duration": 32,
    "start_time": "2022-11-25T11:17:04.763Z"
   },
   {
    "duration": 189,
    "start_time": "2022-11-25T11:17:04.796Z"
   },
   {
    "duration": 18,
    "start_time": "2022-11-25T11:17:04.986Z"
   },
   {
    "duration": 923,
    "start_time": "2022-11-25T11:17:05.005Z"
   },
   {
    "duration": 22,
    "start_time": "2022-11-25T11:17:05.930Z"
   },
   {
    "duration": 15,
    "start_time": "2022-11-25T11:17:05.955Z"
   },
   {
    "duration": 399,
    "start_time": "2022-11-25T11:17:05.972Z"
   },
   {
    "duration": 279,
    "start_time": "2022-11-25T11:17:06.373Z"
   },
   {
    "duration": 379,
    "start_time": "2022-11-25T11:17:06.654Z"
   },
   {
    "duration": 320,
    "start_time": "2022-11-25T11:17:07.035Z"
   },
   {
    "duration": 268,
    "start_time": "2022-11-25T11:17:07.357Z"
   },
   {
    "duration": 301,
    "start_time": "2022-11-25T11:17:07.626Z"
   },
   {
    "duration": 281,
    "start_time": "2022-11-25T11:17:07.929Z"
   },
   {
    "duration": 17,
    "start_time": "2022-11-25T11:17:08.212Z"
   },
   {
    "duration": 46,
    "start_time": "2022-11-25T11:17:08.231Z"
   },
   {
    "duration": 29,
    "start_time": "2022-11-25T11:17:08.278Z"
   },
   {
    "duration": 54,
    "start_time": "2022-11-25T11:17:08.308Z"
   },
   {
    "duration": 16,
    "start_time": "2022-11-25T11:17:08.364Z"
   },
   {
    "duration": 5,
    "start_time": "2022-11-25T11:17:08.382Z"
   },
   {
    "duration": 16,
    "start_time": "2022-11-25T11:17:08.389Z"
   },
   {
    "duration": 11,
    "start_time": "2022-11-25T11:17:08.407Z"
   },
   {
    "duration": 76,
    "start_time": "2022-11-25T11:22:48.771Z"
   },
   {
    "duration": 16,
    "start_time": "2022-11-25T11:22:48.848Z"
   },
   {
    "duration": 15,
    "start_time": "2022-11-25T11:22:48.865Z"
   },
   {
    "duration": 5,
    "start_time": "2022-11-25T11:22:48.881Z"
   },
   {
    "duration": 20,
    "start_time": "2022-11-25T11:22:48.889Z"
   },
   {
    "duration": 40,
    "start_time": "2022-11-25T11:22:48.911Z"
   },
   {
    "duration": 19,
    "start_time": "2022-11-25T11:22:48.953Z"
   },
   {
    "duration": 1462,
    "start_time": "2022-11-25T11:40:08.430Z"
   },
   {
    "duration": 19,
    "start_time": "2022-11-25T11:40:09.895Z"
   },
   {
    "duration": 37,
    "start_time": "2022-11-25T11:40:09.916Z"
   },
   {
    "duration": 50,
    "start_time": "2022-11-25T11:40:09.955Z"
   },
   {
    "duration": 49,
    "start_time": "2022-11-25T11:40:10.008Z"
   },
   {
    "duration": 236,
    "start_time": "2022-11-25T11:40:10.060Z"
   },
   {
    "duration": 20,
    "start_time": "2022-11-25T11:40:10.298Z"
   },
   {
    "duration": 889,
    "start_time": "2022-11-25T11:40:10.320Z"
   },
   {
    "duration": 15,
    "start_time": "2022-11-25T11:40:11.210Z"
   },
   {
    "duration": 31,
    "start_time": "2022-11-25T11:40:11.227Z"
   },
   {
    "duration": 395,
    "start_time": "2022-11-25T11:40:11.260Z"
   },
   {
    "duration": 282,
    "start_time": "2022-11-25T11:40:11.657Z"
   },
   {
    "duration": 397,
    "start_time": "2022-11-25T11:40:11.941Z"
   },
   {
    "duration": 320,
    "start_time": "2022-11-25T11:40:12.350Z"
   },
   {
    "duration": 287,
    "start_time": "2022-11-25T11:40:12.673Z"
   },
   {
    "duration": 311,
    "start_time": "2022-11-25T11:40:12.962Z"
   },
   {
    "duration": 289,
    "start_time": "2022-11-25T11:40:13.275Z"
   },
   {
    "duration": 16,
    "start_time": "2022-11-25T11:40:13.566Z"
   },
   {
    "duration": 69,
    "start_time": "2022-11-25T11:40:13.585Z"
   },
   {
    "duration": 47,
    "start_time": "2022-11-25T11:40:13.656Z"
   },
   {
    "duration": 52,
    "start_time": "2022-11-25T11:40:13.705Z"
   },
   {
    "duration": 19,
    "start_time": "2022-11-25T11:40:13.759Z"
   },
   {
    "duration": 9,
    "start_time": "2022-11-25T11:40:13.780Z"
   },
   {
    "duration": 12,
    "start_time": "2022-11-25T11:40:13.791Z"
   },
   {
    "duration": 14,
    "start_time": "2022-11-25T11:40:13.804Z"
   },
   {
    "duration": 1427,
    "start_time": "2022-11-27T09:47:12.050Z"
   },
   {
    "duration": 200,
    "start_time": "2022-11-27T09:47:13.480Z"
   },
   {
    "duration": 16,
    "start_time": "2022-11-27T09:47:13.682Z"
   },
   {
    "duration": 105,
    "start_time": "2022-11-27T09:47:13.700Z"
   },
   {
    "duration": 0,
    "start_time": "2022-11-27T09:47:13.808Z"
   },
   {
    "duration": 0,
    "start_time": "2022-11-27T09:47:13.809Z"
   },
   {
    "duration": 0,
    "start_time": "2022-11-27T09:47:13.810Z"
   },
   {
    "duration": 1,
    "start_time": "2022-11-27T09:47:13.811Z"
   },
   {
    "duration": 0,
    "start_time": "2022-11-27T09:47:13.813Z"
   },
   {
    "duration": 0,
    "start_time": "2022-11-27T09:47:13.814Z"
   },
   {
    "duration": 0,
    "start_time": "2022-11-27T09:47:13.815Z"
   },
   {
    "duration": 0,
    "start_time": "2022-11-27T09:47:13.816Z"
   },
   {
    "duration": 0,
    "start_time": "2022-11-27T09:47:13.817Z"
   },
   {
    "duration": 0,
    "start_time": "2022-11-27T09:47:13.818Z"
   },
   {
    "duration": 0,
    "start_time": "2022-11-27T09:47:13.819Z"
   },
   {
    "duration": 0,
    "start_time": "2022-11-27T09:47:13.820Z"
   },
   {
    "duration": 0,
    "start_time": "2022-11-27T09:47:13.821Z"
   },
   {
    "duration": 0,
    "start_time": "2022-11-27T09:47:13.822Z"
   },
   {
    "duration": 0,
    "start_time": "2022-11-27T09:47:13.852Z"
   },
   {
    "duration": 0,
    "start_time": "2022-11-27T09:47:13.853Z"
   },
   {
    "duration": 0,
    "start_time": "2022-11-27T09:47:13.854Z"
   },
   {
    "duration": 0,
    "start_time": "2022-11-27T09:47:13.855Z"
   },
   {
    "duration": 0,
    "start_time": "2022-11-27T09:47:13.856Z"
   },
   {
    "duration": 0,
    "start_time": "2022-11-27T09:47:13.857Z"
   },
   {
    "duration": 0,
    "start_time": "2022-11-27T09:47:13.858Z"
   },
   {
    "duration": 0,
    "start_time": "2022-11-27T09:47:13.859Z"
   },
   {
    "duration": 12,
    "start_time": "2022-11-27T09:48:41.227Z"
   },
   {
    "duration": 10,
    "start_time": "2022-11-27T09:48:43.473Z"
   },
   {
    "duration": 1129,
    "start_time": "2022-11-27T09:48:51.895Z"
   },
   {
    "duration": 60,
    "start_time": "2022-11-27T09:48:53.026Z"
   },
   {
    "duration": 16,
    "start_time": "2022-11-27T09:48:53.088Z"
   },
   {
    "duration": 11,
    "start_time": "2022-11-27T09:48:53.106Z"
   },
   {
    "duration": 40,
    "start_time": "2022-11-27T09:48:53.119Z"
   },
   {
    "duration": 28,
    "start_time": "2022-11-27T09:48:53.160Z"
   },
   {
    "duration": 181,
    "start_time": "2022-11-27T09:48:53.190Z"
   },
   {
    "duration": 16,
    "start_time": "2022-11-27T09:48:53.373Z"
   },
   {
    "duration": 833,
    "start_time": "2022-11-27T09:48:53.390Z"
   },
   {
    "duration": 25,
    "start_time": "2022-11-27T09:48:54.226Z"
   },
   {
    "duration": 14,
    "start_time": "2022-11-27T09:48:54.253Z"
   },
   {
    "duration": 359,
    "start_time": "2022-11-27T09:48:54.269Z"
   },
   {
    "duration": 273,
    "start_time": "2022-11-27T09:48:54.630Z"
   },
   {
    "duration": 389,
    "start_time": "2022-11-27T09:48:54.905Z"
   },
   {
    "duration": 313,
    "start_time": "2022-11-27T09:48:55.296Z"
   },
   {
    "duration": 274,
    "start_time": "2022-11-27T09:48:55.611Z"
   },
   {
    "duration": 306,
    "start_time": "2022-11-27T09:48:55.886Z"
   },
   {
    "duration": 285,
    "start_time": "2022-11-27T09:48:56.194Z"
   },
   {
    "duration": 17,
    "start_time": "2022-11-27T09:48:56.481Z"
   },
   {
    "duration": 28,
    "start_time": "2022-11-27T09:48:56.500Z"
   },
   {
    "duration": 48,
    "start_time": "2022-11-27T09:48:56.530Z"
   },
   {
    "duration": 28,
    "start_time": "2022-11-27T09:48:56.580Z"
   },
   {
    "duration": 47,
    "start_time": "2022-11-27T09:48:56.610Z"
   },
   {
    "duration": 6,
    "start_time": "2022-11-27T09:48:56.658Z"
   },
   {
    "duration": 12,
    "start_time": "2022-11-27T09:48:56.665Z"
   },
   {
    "duration": 15,
    "start_time": "2022-11-27T09:48:56.679Z"
   },
   {
    "duration": 1251,
    "start_time": "2022-11-27T10:01:17.666Z"
   },
   {
    "duration": 69,
    "start_time": "2022-11-27T10:01:18.919Z"
   },
   {
    "duration": 16,
    "start_time": "2022-11-27T10:01:18.989Z"
   },
   {
    "duration": 12,
    "start_time": "2022-11-27T10:01:19.007Z"
   },
   {
    "duration": 45,
    "start_time": "2022-11-27T10:01:19.021Z"
   },
   {
    "duration": 7,
    "start_time": "2022-11-27T10:01:19.068Z"
   },
   {
    "duration": 9,
    "start_time": "2022-11-27T10:01:19.077Z"
   },
   {
    "duration": 15,
    "start_time": "2022-11-27T10:01:19.088Z"
   },
   {
    "duration": 5,
    "start_time": "2022-11-27T10:01:19.105Z"
   },
   {
    "duration": 49,
    "start_time": "2022-11-27T10:01:19.112Z"
   },
   {
    "duration": 242,
    "start_time": "2022-11-27T10:01:19.163Z"
   },
   {
    "duration": 26,
    "start_time": "2022-11-27T10:01:19.408Z"
   },
   {
    "duration": 1063,
    "start_time": "2022-11-27T10:01:19.436Z"
   },
   {
    "duration": 14,
    "start_time": "2022-11-27T10:01:20.502Z"
   },
   {
    "duration": 28,
    "start_time": "2022-11-27T10:01:20.518Z"
   },
   {
    "duration": 384,
    "start_time": "2022-11-27T10:01:20.564Z"
   },
   {
    "duration": 287,
    "start_time": "2022-11-27T10:01:20.951Z"
   },
   {
    "duration": 397,
    "start_time": "2022-11-27T10:01:21.239Z"
   },
   {
    "duration": 341,
    "start_time": "2022-11-27T10:01:21.637Z"
   },
   {
    "duration": 290,
    "start_time": "2022-11-27T10:01:21.979Z"
   },
   {
    "duration": 314,
    "start_time": "2022-11-27T10:01:22.272Z"
   },
   {
    "duration": 310,
    "start_time": "2022-11-27T10:01:22.588Z"
   },
   {
    "duration": 18,
    "start_time": "2022-11-27T10:01:22.900Z"
   },
   {
    "duration": 64,
    "start_time": "2022-11-27T10:01:22.920Z"
   },
   {
    "duration": 28,
    "start_time": "2022-11-27T10:01:22.986Z"
   },
   {
    "duration": 45,
    "start_time": "2022-11-27T10:01:23.016Z"
   },
   {
    "duration": 17,
    "start_time": "2022-11-27T10:01:23.066Z"
   },
   {
    "duration": 7,
    "start_time": "2022-11-27T10:01:23.084Z"
   },
   {
    "duration": 11,
    "start_time": "2022-11-27T10:01:23.093Z"
   },
   {
    "duration": 18,
    "start_time": "2022-11-27T10:01:23.105Z"
   },
   {
    "duration": 4,
    "start_time": "2022-11-27T10:02:46.335Z"
   },
   {
    "duration": 1300,
    "start_time": "2022-11-27T10:02:51.147Z"
   },
   {
    "duration": 84,
    "start_time": "2022-11-27T10:02:52.451Z"
   },
   {
    "duration": 25,
    "start_time": "2022-11-27T10:02:52.537Z"
   },
   {
    "duration": 15,
    "start_time": "2022-11-27T10:02:52.566Z"
   },
   {
    "duration": 12,
    "start_time": "2022-11-27T10:02:52.584Z"
   },
   {
    "duration": 8,
    "start_time": "2022-11-27T10:02:52.598Z"
   },
   {
    "duration": 17,
    "start_time": "2022-11-27T10:02:52.608Z"
   },
   {
    "duration": 12,
    "start_time": "2022-11-27T10:02:52.627Z"
   },
   {
    "duration": 18,
    "start_time": "2022-11-27T10:02:52.641Z"
   },
   {
    "duration": 46,
    "start_time": "2022-11-27T10:02:52.662Z"
   },
   {
    "duration": 211,
    "start_time": "2022-11-27T10:02:52.710Z"
   },
   {
    "duration": 36,
    "start_time": "2022-11-27T10:02:52.923Z"
   },
   {
    "duration": 926,
    "start_time": "2022-11-27T10:02:52.962Z"
   },
   {
    "duration": 23,
    "start_time": "2022-11-27T10:02:53.891Z"
   },
   {
    "duration": 46,
    "start_time": "2022-11-27T10:02:53.919Z"
   },
   {
    "duration": 404,
    "start_time": "2022-11-27T10:02:53.969Z"
   },
   {
    "duration": 332,
    "start_time": "2022-11-27T10:02:54.375Z"
   },
   {
    "duration": 439,
    "start_time": "2022-11-27T10:02:54.709Z"
   },
   {
    "duration": 393,
    "start_time": "2022-11-27T10:02:55.152Z"
   },
   {
    "duration": 305,
    "start_time": "2022-11-27T10:02:55.550Z"
   },
   {
    "duration": 341,
    "start_time": "2022-11-27T10:02:55.865Z"
   },
   {
    "duration": 315,
    "start_time": "2022-11-27T10:02:56.209Z"
   },
   {
    "duration": 34,
    "start_time": "2022-11-27T10:02:56.526Z"
   },
   {
    "duration": 44,
    "start_time": "2022-11-27T10:02:56.562Z"
   },
   {
    "duration": 46,
    "start_time": "2022-11-27T10:02:56.608Z"
   },
   {
    "duration": 39,
    "start_time": "2022-11-27T10:02:56.656Z"
   },
   {
    "duration": 17,
    "start_time": "2022-11-27T10:02:56.697Z"
   },
   {
    "duration": 6,
    "start_time": "2022-11-27T10:02:56.717Z"
   },
   {
    "duration": 34,
    "start_time": "2022-11-27T10:02:56.725Z"
   },
   {
    "duration": 8,
    "start_time": "2022-11-27T10:02:56.761Z"
   },
   {
    "duration": 37,
    "start_time": "2022-11-27T10:10:23.755Z"
   },
   {
    "duration": 35,
    "start_time": "2022-11-27T10:25:18.199Z"
   },
   {
    "duration": 46,
    "start_time": "2022-11-27T10:29:10.226Z"
   },
   {
    "duration": 35,
    "start_time": "2022-11-27T10:30:18.525Z"
   },
   {
    "duration": 47,
    "start_time": "2022-11-27T10:31:39.625Z"
   },
   {
    "duration": 1112,
    "start_time": "2022-11-27T10:34:37.499Z"
   },
   {
    "duration": 65,
    "start_time": "2022-11-27T10:34:38.613Z"
   },
   {
    "duration": 15,
    "start_time": "2022-11-27T10:34:38.679Z"
   },
   {
    "duration": 12,
    "start_time": "2022-11-27T10:34:38.695Z"
   },
   {
    "duration": 10,
    "start_time": "2022-11-27T10:34:38.710Z"
   },
   {
    "duration": 35,
    "start_time": "2022-11-27T10:34:38.722Z"
   },
   {
    "duration": 6,
    "start_time": "2022-11-27T10:34:38.759Z"
   },
   {
    "duration": 9,
    "start_time": "2022-11-27T10:34:38.767Z"
   },
   {
    "duration": 5,
    "start_time": "2022-11-27T10:34:38.778Z"
   },
   {
    "duration": 34,
    "start_time": "2022-11-27T10:34:38.785Z"
   },
   {
    "duration": 206,
    "start_time": "2022-11-27T10:34:38.820Z"
   },
   {
    "duration": 28,
    "start_time": "2022-11-27T10:34:39.028Z"
   },
   {
    "duration": 967,
    "start_time": "2022-11-27T10:34:39.058Z"
   },
   {
    "duration": 24,
    "start_time": "2022-11-27T10:34:40.028Z"
   },
   {
    "duration": 16,
    "start_time": "2022-11-27T10:34:40.054Z"
   },
   {
    "duration": 401,
    "start_time": "2022-11-27T10:34:40.072Z"
   },
   {
    "duration": 303,
    "start_time": "2022-11-27T10:34:40.475Z"
   },
   {
    "duration": 386,
    "start_time": "2022-11-27T10:34:40.780Z"
   },
   {
    "duration": 308,
    "start_time": "2022-11-27T10:34:41.168Z"
   },
   {
    "duration": 263,
    "start_time": "2022-11-27T10:34:41.478Z"
   },
   {
    "duration": 319,
    "start_time": "2022-11-27T10:34:41.743Z"
   },
   {
    "duration": 285,
    "start_time": "2022-11-27T10:34:42.065Z"
   },
   {
    "duration": 18,
    "start_time": "2022-11-27T10:34:42.352Z"
   },
   {
    "duration": 48,
    "start_time": "2022-11-27T10:34:42.372Z"
   },
   {
    "duration": 40,
    "start_time": "2022-11-27T10:34:42.422Z"
   },
   {
    "duration": 28,
    "start_time": "2022-11-27T10:34:42.463Z"
   },
   {
    "duration": 25,
    "start_time": "2022-11-27T10:34:42.492Z"
   },
   {
    "duration": 5,
    "start_time": "2022-11-27T10:34:42.518Z"
   },
   {
    "duration": 29,
    "start_time": "2022-11-27T10:34:42.524Z"
   },
   {
    "duration": 23,
    "start_time": "2022-11-27T10:34:42.555Z"
   },
   {
    "duration": 11,
    "start_time": "2022-11-27T10:37:02.085Z"
   },
   {
    "duration": 10,
    "start_time": "2022-11-27T10:37:15.400Z"
   },
   {
    "duration": 10,
    "start_time": "2022-11-27T10:37:23.751Z"
   },
   {
    "duration": 9,
    "start_time": "2022-11-27T10:37:38.550Z"
   },
   {
    "duration": 415,
    "start_time": "2022-11-27T10:38:01.321Z"
   },
   {
    "duration": 11,
    "start_time": "2022-11-27T10:39:34.131Z"
   },
   {
    "duration": 9,
    "start_time": "2022-11-27T10:39:58.755Z"
   },
   {
    "duration": 12,
    "start_time": "2022-11-27T10:40:05.780Z"
   },
   {
    "duration": 10,
    "start_time": "2022-11-27T10:40:12.388Z"
   },
   {
    "duration": 10,
    "start_time": "2022-11-27T10:40:54.595Z"
   },
   {
    "duration": 9,
    "start_time": "2022-11-27T10:41:00.547Z"
   },
   {
    "duration": 14,
    "start_time": "2022-11-27T10:41:46.780Z"
   },
   {
    "duration": 1206,
    "start_time": "2022-11-27T10:42:47.310Z"
   },
   {
    "duration": 65,
    "start_time": "2022-11-27T10:42:48.518Z"
   },
   {
    "duration": 15,
    "start_time": "2022-11-27T10:42:48.585Z"
   },
   {
    "duration": 11,
    "start_time": "2022-11-27T10:42:48.603Z"
   },
   {
    "duration": 12,
    "start_time": "2022-11-27T10:42:48.616Z"
   },
   {
    "duration": 27,
    "start_time": "2022-11-27T10:42:48.630Z"
   },
   {
    "duration": 21,
    "start_time": "2022-11-27T10:42:48.658Z"
   },
   {
    "duration": 19,
    "start_time": "2022-11-27T10:42:48.681Z"
   },
   {
    "duration": 16,
    "start_time": "2022-11-27T10:42:48.702Z"
   },
   {
    "duration": 21,
    "start_time": "2022-11-27T10:42:48.721Z"
   },
   {
    "duration": 35,
    "start_time": "2022-11-27T10:42:48.744Z"
   },
   {
    "duration": 175,
    "start_time": "2022-11-27T10:42:48.781Z"
   },
   {
    "duration": 19,
    "start_time": "2022-11-27T10:42:48.958Z"
   },
   {
    "duration": 1012,
    "start_time": "2022-11-27T10:42:48.979Z"
   },
   {
    "duration": 15,
    "start_time": "2022-11-27T10:42:49.993Z"
   },
   {
    "duration": 15,
    "start_time": "2022-11-27T10:42:50.009Z"
   },
   {
    "duration": 384,
    "start_time": "2022-11-27T10:42:50.025Z"
   },
   {
    "duration": 315,
    "start_time": "2022-11-27T10:42:50.411Z"
   },
   {
    "duration": 375,
    "start_time": "2022-11-27T10:42:50.728Z"
   },
   {
    "duration": 304,
    "start_time": "2022-11-27T10:42:51.104Z"
   },
   {
    "duration": 265,
    "start_time": "2022-11-27T10:42:51.410Z"
   },
   {
    "duration": 307,
    "start_time": "2022-11-27T10:42:51.677Z"
   },
   {
    "duration": 286,
    "start_time": "2022-11-27T10:42:51.986Z"
   },
   {
    "duration": 18,
    "start_time": "2022-11-27T10:42:52.273Z"
   },
   {
    "duration": 29,
    "start_time": "2022-11-27T10:42:52.293Z"
   },
   {
    "duration": 54,
    "start_time": "2022-11-27T10:42:52.324Z"
   },
   {
    "duration": 27,
    "start_time": "2022-11-27T10:42:52.380Z"
   },
   {
    "duration": 41,
    "start_time": "2022-11-27T10:42:52.410Z"
   },
   {
    "duration": 7,
    "start_time": "2022-11-27T10:42:52.453Z"
   },
   {
    "duration": 9,
    "start_time": "2022-11-27T10:42:52.462Z"
   },
   {
    "duration": 9,
    "start_time": "2022-11-27T10:42:52.473Z"
   },
   {
    "duration": 15,
    "start_time": "2022-11-27T10:44:23.082Z"
   },
   {
    "duration": 24,
    "start_time": "2022-11-27T10:45:29.736Z"
   },
   {
    "duration": 15,
    "start_time": "2022-11-27T10:46:21.028Z"
   },
   {
    "duration": 19,
    "start_time": "2022-11-27T10:48:10.424Z"
   },
   {
    "duration": 17,
    "start_time": "2022-11-27T10:48:24.202Z"
   },
   {
    "duration": 28,
    "start_time": "2022-11-27T10:49:05.265Z"
   },
   {
    "duration": 36,
    "start_time": "2022-11-27T10:49:19.754Z"
   },
   {
    "duration": 13,
    "start_time": "2022-11-27T10:49:27.446Z"
   },
   {
    "duration": 176,
    "start_time": "2022-11-27T10:50:06.721Z"
   },
   {
    "duration": 108,
    "start_time": "2022-11-27T10:50:14.164Z"
   },
   {
    "duration": 10,
    "start_time": "2022-11-27T10:50:20.635Z"
   },
   {
    "duration": 10,
    "start_time": "2022-11-27T10:50:29.762Z"
   },
   {
    "duration": 199,
    "start_time": "2022-11-27T11:01:58.023Z"
   },
   {
    "duration": 255,
    "start_time": "2022-11-27T11:03:09.628Z"
   },
   {
    "duration": 143,
    "start_time": "2022-11-27T11:03:39.305Z"
   },
   {
    "duration": 245,
    "start_time": "2022-11-27T11:04:41.008Z"
   },
   {
    "duration": 283,
    "start_time": "2022-11-27T11:07:53.603Z"
   },
   {
    "duration": 329,
    "start_time": "2022-11-27T11:08:17.538Z"
   },
   {
    "duration": 71,
    "start_time": "2022-11-27T11:45:39.613Z"
   },
   {
    "duration": 68,
    "start_time": "2022-11-27T11:45:45.570Z"
   },
   {
    "duration": 142,
    "start_time": "2022-11-27T11:48:22.338Z"
   },
   {
    "duration": 212,
    "start_time": "2022-11-27T11:49:20.615Z"
   },
   {
    "duration": 464,
    "start_time": "2022-11-27T11:50:09.481Z"
   },
   {
    "duration": 14,
    "start_time": "2022-11-27T11:50:42.523Z"
   },
   {
    "duration": 391,
    "start_time": "2022-11-27T11:50:55.331Z"
   },
   {
    "duration": 1241,
    "start_time": "2022-11-27T11:51:17.367Z"
   },
   {
    "duration": 28,
    "start_time": "2022-11-27T11:51:28.257Z"
   },
   {
    "duration": 203,
    "start_time": "2022-11-27T12:02:01.263Z"
   },
   {
    "duration": 247,
    "start_time": "2022-11-27T12:02:26.251Z"
   },
   {
    "duration": 238,
    "start_time": "2022-11-27T12:02:32.143Z"
   },
   {
    "duration": 190,
    "start_time": "2022-11-27T12:02:42.331Z"
   },
   {
    "duration": 175,
    "start_time": "2022-11-27T12:02:52.430Z"
   },
   {
    "duration": 165,
    "start_time": "2022-11-27T12:03:02.260Z"
   },
   {
    "duration": 220,
    "start_time": "2022-11-27T12:03:10.176Z"
   },
   {
    "duration": 214,
    "start_time": "2022-11-27T12:04:17.232Z"
   },
   {
    "duration": 222,
    "start_time": "2022-11-27T12:10:22.191Z"
   },
   {
    "duration": 199,
    "start_time": "2022-11-27T12:10:26.839Z"
   },
   {
    "duration": 425,
    "start_time": "2022-11-27T12:10:33.664Z"
   },
   {
    "duration": 284,
    "start_time": "2022-11-27T12:10:40.695Z"
   },
   {
    "duration": 195,
    "start_time": "2022-11-27T12:10:46.814Z"
   },
   {
    "duration": 252,
    "start_time": "2022-11-27T12:11:56.801Z"
   },
   {
    "duration": 221,
    "start_time": "2022-11-27T12:12:10.292Z"
   },
   {
    "duration": 7,
    "start_time": "2022-11-27T12:12:27.271Z"
   },
   {
    "duration": 1230,
    "start_time": "2022-11-27T12:18:56.507Z"
   },
   {
    "duration": 89,
    "start_time": "2022-11-27T12:18:57.739Z"
   },
   {
    "duration": 16,
    "start_time": "2022-11-27T12:18:57.829Z"
   },
   {
    "duration": 19,
    "start_time": "2022-11-27T12:18:57.846Z"
   },
   {
    "duration": 17,
    "start_time": "2022-11-27T12:18:57.869Z"
   },
   {
    "duration": 8,
    "start_time": "2022-11-27T12:18:57.888Z"
   },
   {
    "duration": 7,
    "start_time": "2022-11-27T12:18:57.899Z"
   },
   {
    "duration": 9,
    "start_time": "2022-11-27T12:18:57.908Z"
   },
   {
    "duration": 6,
    "start_time": "2022-11-27T12:18:57.919Z"
   },
   {
    "duration": 17,
    "start_time": "2022-11-27T12:18:57.927Z"
   },
   {
    "duration": 33,
    "start_time": "2022-11-27T12:18:57.946Z"
   },
   {
    "duration": 16,
    "start_time": "2022-11-27T12:18:57.981Z"
   },
   {
    "duration": 310,
    "start_time": "2022-11-27T12:18:57.999Z"
   },
   {
    "duration": 321,
    "start_time": "2022-11-27T12:18:58.313Z"
   },
   {
    "duration": 28,
    "start_time": "2022-11-27T12:18:58.637Z"
   },
   {
    "duration": 885,
    "start_time": "2022-11-27T12:18:58.667Z"
   },
   {
    "duration": 14,
    "start_time": "2022-11-27T12:18:59.553Z"
   },
   {
    "duration": 19,
    "start_time": "2022-11-27T12:18:59.569Z"
   },
   {
    "duration": 457,
    "start_time": "2022-11-27T12:18:59.590Z"
   },
   {
    "duration": 366,
    "start_time": "2022-11-27T12:19:00.049Z"
   },
   {
    "duration": 317,
    "start_time": "2022-11-27T12:19:00.418Z"
   },
   {
    "duration": 326,
    "start_time": "2022-11-27T12:19:00.737Z"
   },
   {
    "duration": 301,
    "start_time": "2022-11-27T12:19:01.064Z"
   },
   {
    "duration": 359,
    "start_time": "2022-11-27T12:19:01.368Z"
   },
   {
    "duration": 321,
    "start_time": "2022-11-27T12:19:01.729Z"
   },
   {
    "duration": 18,
    "start_time": "2022-11-27T12:19:02.052Z"
   },
   {
    "duration": 41,
    "start_time": "2022-11-27T12:19:02.073Z"
   },
   {
    "duration": 69,
    "start_time": "2022-11-27T12:19:02.117Z"
   },
   {
    "duration": 40,
    "start_time": "2022-11-27T12:19:02.188Z"
   },
   {
    "duration": 16,
    "start_time": "2022-11-27T12:19:02.251Z"
   },
   {
    "duration": 8,
    "start_time": "2022-11-27T12:19:02.270Z"
   },
   {
    "duration": 29,
    "start_time": "2022-11-27T12:19:02.280Z"
   },
   {
    "duration": 20,
    "start_time": "2022-11-27T12:19:02.311Z"
   },
   {
    "duration": 2100,
    "start_time": "2022-11-27T12:26:18.608Z"
   },
   {
    "duration": 2462,
    "start_time": "2022-11-27T12:27:09.152Z"
   },
   {
    "duration": 285,
    "start_time": "2022-11-27T12:28:06.184Z"
   },
   {
    "duration": 2418,
    "start_time": "2022-11-27T12:28:26.624Z"
   },
   {
    "duration": 14,
    "start_time": "2022-11-27T12:30:02.092Z"
   },
   {
    "duration": 13,
    "start_time": "2022-11-27T12:30:39.154Z"
   },
   {
    "duration": 2182,
    "start_time": "2022-11-27T12:30:51.450Z"
   },
   {
    "duration": 19,
    "start_time": "2022-11-27T12:38:47.477Z"
   },
   {
    "duration": 206,
    "start_time": "2022-11-27T12:42:41.074Z"
   },
   {
    "duration": 5105,
    "start_time": "2022-11-27T12:42:50.676Z"
   },
   {
    "duration": 5512,
    "start_time": "2022-11-27T12:43:29.370Z"
   },
   {
    "duration": 12,
    "start_time": "2022-11-27T12:44:15.352Z"
   },
   {
    "duration": 4122,
    "start_time": "2022-11-27T12:44:53.344Z"
   },
   {
    "duration": 4713,
    "start_time": "2022-11-27T12:45:26.378Z"
   },
   {
    "duration": 4572,
    "start_time": "2022-11-27T12:45:59.457Z"
   },
   {
    "duration": 837,
    "start_time": "2022-11-27T12:47:34.101Z"
   },
   {
    "duration": 1053,
    "start_time": "2022-11-27T12:48:07.915Z"
   },
   {
    "duration": 1292,
    "start_time": "2022-11-27T12:50:57.783Z"
   },
   {
    "duration": 166,
    "start_time": "2022-11-27T12:51:15.177Z"
   },
   {
    "duration": 1102,
    "start_time": "2022-11-27T12:51:25.401Z"
   },
   {
    "duration": 4,
    "start_time": "2022-11-27T12:52:52.705Z"
   },
   {
    "duration": 18,
    "start_time": "2022-11-27T12:53:00.464Z"
   },
   {
    "duration": 1182,
    "start_time": "2022-11-27T12:53:21.847Z"
   },
   {
    "duration": 1220,
    "start_time": "2022-11-27T12:54:36.488Z"
   },
   {
    "duration": 28,
    "start_time": "2022-11-27T13:00:39.462Z"
   },
   {
    "duration": 153,
    "start_time": "2022-11-27T13:04:46.906Z"
   },
   {
    "duration": 133,
    "start_time": "2022-11-27T13:05:00.058Z"
   },
   {
    "duration": 329,
    "start_time": "2022-11-27T13:05:54.964Z"
   },
   {
    "duration": 382,
    "start_time": "2022-11-27T13:06:07.662Z"
   },
   {
    "duration": 336,
    "start_time": "2022-11-27T13:07:22.874Z"
   },
   {
    "duration": 24,
    "start_time": "2022-11-27T13:08:41.445Z"
   },
   {
    "duration": 18,
    "start_time": "2022-11-27T13:08:56.677Z"
   },
   {
    "duration": 19,
    "start_time": "2022-11-27T13:09:10.581Z"
   },
   {
    "duration": 465,
    "start_time": "2022-11-27T13:09:40.674Z"
   },
   {
    "duration": 328,
    "start_time": "2022-11-27T13:09:46.861Z"
   },
   {
    "duration": 326,
    "start_time": "2022-11-27T13:09:56.665Z"
   },
   {
    "duration": 369,
    "start_time": "2022-11-27T13:10:38.950Z"
   },
   {
    "duration": 317,
    "start_time": "2022-11-27T13:11:47.105Z"
   },
   {
    "duration": 404,
    "start_time": "2022-11-27T13:11:59.464Z"
   },
   {
    "duration": 450,
    "start_time": "2022-11-27T13:12:10.194Z"
   },
   {
    "duration": 323,
    "start_time": "2022-11-27T13:12:15.465Z"
   },
   {
    "duration": 143,
    "start_time": "2022-11-27T13:13:01.334Z"
   },
   {
    "duration": 144,
    "start_time": "2022-11-27T13:13:25.430Z"
   },
   {
    "duration": 327,
    "start_time": "2022-11-27T13:14:12.748Z"
   },
   {
    "duration": 316,
    "start_time": "2022-11-27T13:14:28.087Z"
   },
   {
    "duration": 314,
    "start_time": "2022-11-27T13:14:38.462Z"
   },
   {
    "duration": 36,
    "start_time": "2022-11-27T13:15:19.132Z"
   },
   {
    "duration": 335,
    "start_time": "2022-11-27T13:15:53.334Z"
   },
   {
    "duration": 485,
    "start_time": "2022-11-27T13:16:02.730Z"
   },
   {
    "duration": 336,
    "start_time": "2022-11-27T13:16:13.849Z"
   },
   {
    "duration": 494,
    "start_time": "2022-11-27T13:16:47.286Z"
   },
   {
    "duration": 398,
    "start_time": "2022-11-27T13:16:53.512Z"
   },
   {
    "duration": 274,
    "start_time": "2022-11-27T13:18:21.685Z"
   },
   {
    "duration": 18,
    "start_time": "2022-11-27T13:18:45.770Z"
   },
   {
    "duration": 20,
    "start_time": "2022-11-27T13:19:00.661Z"
   },
   {
    "duration": 14,
    "start_time": "2022-11-27T13:32:11.967Z"
   },
   {
    "duration": 16,
    "start_time": "2022-11-27T13:35:45.361Z"
   }
  ],
  "kernelspec": {
   "display_name": "Python 3 (ipykernel)",
   "language": "python",
   "name": "python3"
  },
  "language_info": {
   "codemirror_mode": {
    "name": "ipython",
    "version": 3
   },
   "file_extension": ".py",
   "mimetype": "text/x-python",
   "name": "python",
   "nbconvert_exporter": "python",
   "pygments_lexer": "ipython3",
   "version": "3.9.16"
  },
  "toc": {
   "base_numbering": 1,
   "nav_menu": {},
   "number_sections": true,
   "sideBar": true,
   "skip_h1_title": true,
   "title_cell": "Table of Contents",
   "title_sidebar": "Contents",
   "toc_cell": false,
   "toc_position": {
    "height": "calc(100% - 180px)",
    "left": "10px",
    "top": "150px",
    "width": "165px"
   },
   "toc_section_display": true,
   "toc_window_display": true
  }
 },
 "nbformat": 4,
 "nbformat_minor": 2
}
